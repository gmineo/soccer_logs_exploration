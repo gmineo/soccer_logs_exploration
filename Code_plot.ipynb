{
 "cells": [
  {
   "cell_type": "markdown",
   "metadata": {},
   "source": [
    "# Exploring spatio-temporal events using public soccer-logs"
   ]
  },
  {
   "cell_type": "markdown",
   "metadata": {},
   "source": [
    "The data used in the notebook can be found in: \n",
    "\n",
    "- Pappalardo, Luca; Massucco, Emanuele (2019): Soccer match event dataset. figshare. Collection. https://doi.org/10.6084/m9.figshare.c.4415000.v5\n",
    "\n",
    "A detailed description of the data can be found in the following paper (please cite it if you use the data or the following code):\n",
    "\n",
    "\n",
    "- Pappalardo, L., Cintia, P., Rossi, A. et al. **A public data set of spatio-temporal match events in soccer competitions**. Scientific Data 6, 236 (2019) doi:10.1038/s41597-019-0247-7, https://www.nature.com/articles/s41597-019-0247-7"
   ]
  },
  {
   "cell_type": "markdown",
   "metadata": {},
   "source": [
    "## Outline of the notebook\n",
    "\n",
    "1. [Import libraries](#import_libraries)\n",
    "2. [Load public datasets](#load_public_dataset)\n",
    "3. [How are the data collected?](#data_collection)\n",
    "4. [Structure of data](#structure_of_data)\n",
    "    1. [Players](#players)\n",
    "    2. [Competitions](#competitions)\n",
    "    3. [Matches](#matches)\n",
    "    4. [Events](#events) \n",
    "5. [Basic statistics on events](#basic_statistics)\n",
    "    1. [Frequency of events by type](#frequency_by_type)\n",
    "    2. [Distribution of number of events per match](#events_per_match)\n",
    "6. [Plot events on the field](#plot_events_on_field)\n",
    "    1. [Static plot](#static_plot)\n",
    "    2. [Interactive plot](#interactive_plot)\n",
    "7. [Spatial distribution of events](#spatial_distribution_events)\n",
    "8. [Intra-match evolution](#intra_match_evolution)\n",
    "9. [Advanced statistics](#advanced_statistics)\n",
    "    1. [Invasion and acceleration indeces](#invasion_acceleration_index)\n",
    "    2. [Passing networks](#passing_networks)\n",
    "    3. [Flow centrality](#flow_centrality)\n",
    "    4. [PlayeRank](#playerank)"
   ]
  },
  {
   "cell_type": "markdown",
   "metadata": {},
   "source": [
    "## 1. <a id='import_libraries'>Import libraries</a>"
   ]
  },
  {
   "cell_type": "code",
   "execution_count": null,
   "metadata": {},
   "outputs": [],
   "source": [
    "%matplotlib inline\n",
    "from utils import *\n",
    "from plot_utils import *\n",
    "from metrics import *\n",
    "init_notebook_mode(connected=True)"
   ]
  },
  {
   "cell_type": "markdown",
   "metadata": {},
   "source": [
    "## 2. <a id='load_public_dataset'>Load public datasets</a>\n",
    "Here we import the *matches*, *events*, *players*, and *competition* data sets from the <a href=\"https://doi.org/10.6084/m9.figshare.c.4415000.v5\">figshare repository</a>. Data are stored in `.json` format. \n",
    "\n",
    "we set up a script to download the dataset and store it into *data* folder. \n",
    "\n",
    "The data set contains:\n",
    "- 1,941 matches\n",
    "- 3,251,294 events\n",
    "- 4,299 players."
   ]
  },
  {
   "cell_type": "code",
   "execution_count": null,
   "metadata": {},
   "outputs": [],
   "source": [
    "data_download() # automatic download from public figshare repository"
   ]
  },
  {
   "cell_type": "code",
   "execution_count": null,
   "metadata": {},
   "outputs": [],
   "source": [
    "match_id2match, match_id2events, player_id2player, competition_id2competition, team_id2team = load_public_dataset()"
   ]
  },
  {
   "cell_type": "code",
   "execution_count": null,
   "metadata": {},
   "outputs": [],
   "source": [
    "[competition['name'] for competition in competition_id2competition.values()]"
   ]
  },
  {
   "cell_type": "markdown",
   "metadata": {},
   "source": [
    "## 3. <a id='data_collection'>How are the data collected?</a>\n",
    "\n",
    "The process of tagging the soccer events from a match video. **(a)** Screenshot from the tagging software. An action is tagged by an operator via a special custom keyboard, thus creating a new event on the match timeline. **(b)** When the event position on the pitch is set, the shot specific input module appears (top). Event related input modules also appear for setting additional attributes of the occurring event (bottom).\n",
    "More details here: https://www.nature.com/articles/s41597-019-0247-7\n",
    "\n",
    "![Events tagging process](system_figure.jpg \"Events tagging process\")"
   ]
  },
  {
   "cell_type": "markdown",
   "metadata": {},
   "source": [
    "## 4. <a id='structure_of_data'>Structure of data<a/>"
   ]
  },
  {
   "cell_type": "markdown",
   "metadata": {},
   "source": [
    "### 4.A. <a id='players'>Players</a>"
   ]
  },
  {
   "cell_type": "code",
   "execution_count": null,
   "metadata": {},
   "outputs": [],
   "source": [
    "player_id2player[list(player_id2player.keys())[0]]"
   ]
  },
  {
   "cell_type": "code",
   "execution_count": null,
   "metadata": {},
   "outputs": [],
   "source": [
    "heights = [player['height'] for player in player_id2player.values() if player['height'] > 0]\n",
    "plt.hist(heights, rwidth=0.8)\n",
    "plt.xlabel('height', fontsize=20)\n",
    "plt.ylabel('frequency', fontsize=20)\n",
    "plt.show()"
   ]
  },
  {
   "cell_type": "markdown",
   "metadata": {},
   "source": [
    "### 4.B. <a id='competitions'>Competitions</a>"
   ]
  },
  {
   "cell_type": "code",
   "execution_count": null,
   "metadata": {},
   "outputs": [],
   "source": [
    "first_competition = list(competition_id2competition.keys())[0]\n",
    "competition_id2competition[first_competition]"
   ]
  },
  {
   "cell_type": "markdown",
   "metadata": {},
   "source": [
    "### 4.C. <a id='matches'>Matches</a>"
   ]
  },
  {
   "cell_type": "code",
   "execution_count": null,
   "metadata": {
    "scrolled": true
   },
   "outputs": [],
   "source": [
    "a_match = list(match_id2match.keys())[0]\n",
    "match_id2match[a_match]#['teamsData'].keys()"
   ]
  },
  {
   "cell_type": "markdown",
   "metadata": {},
   "source": [
    "### Count goals in a season"
   ]
  },
  {
   "cell_type": "code",
   "execution_count": null,
   "metadata": {},
   "outputs": [],
   "source": [
    "sum_goals = 0\n",
    "for match_id, match in match_id2match.items():\n",
    "    goals = match['label'].split(', ')[1].split(' - ')\n",
    "    goals = [int(goal) for goal in goals]\n",
    "    sum_goals += sum(goals)\n",
    "sum_goals"
   ]
  },
  {
   "cell_type": "markdown",
   "metadata": {},
   "source": [
    "### Count average goals per match"
   ]
  },
  {
   "cell_type": "code",
   "execution_count": null,
   "metadata": {},
   "outputs": [],
   "source": [
    "goals_in_match = []\n",
    "for match_id, match in match_id2match.items():\n",
    "    goals = match['label'].split(', ')[1].split(' - ')\n",
    "    goals = [int(goal) for goal in goals]\n",
    "    goals_in_match.append(sum(goals))\n",
    "round(np.mean(goals_in_match), 2)"
   ]
  },
  {
   "cell_type": "markdown",
   "metadata": {},
   "source": [
    "### 4.D. <a id='events'>Events</a>"
   ]
  },
  {
   "cell_type": "code",
   "execution_count": null,
   "metadata": {},
   "outputs": [],
   "source": [
    "match_id2events[a_match][0]#[100]"
   ]
  },
  {
   "cell_type": "markdown",
   "metadata": {},
   "source": [
    "### List distinct combination of event types and subtypes"
   ]
  },
  {
   "cell_type": "code",
   "execution_count": null,
   "metadata": {},
   "outputs": [],
   "source": [
    "event_types = []\n",
    "for match_id, events in match_id2events.items():\n",
    "    for event in events:\n",
    "        event_types.append((event['eventName'], event['subEventName']))\n",
    "set(event_types)"
   ]
  },
  {
   "cell_type": "markdown",
   "metadata": {},
   "source": [
    "## 5. <a id='basic_statistics'>Basic statistics</a>"
   ]
  },
  {
   "cell_type": "markdown",
   "metadata": {},
   "source": [
    "### 5.A. <a id=\"frequency_by_type\">Frequency of events per type</a>\n",
    "\n",
    "For each event type, we plot how frequent it is in the events data set."
   ]
  },
  {
   "cell_type": "code",
   "execution_count": null,
   "metadata": {},
   "outputs": [],
   "source": [
    "events_list = []\n",
    "for match_id, events in match_id2events.items():\n",
    "    for event in events:\n",
    "        events_list.append(event['eventName'])\n",
    "\n",
    "count = Counter(events_list)\n",
    "# express frequency in percentage\n",
    "counter = {}\n",
    "for i, n_events in zip(count.keys(), count.values()):\n",
    "    counter[i] = int(float(n_events)/len(events_list)*100)\n",
    "sorted_d = np.array(sorted(counter.items(), key=operator.itemgetter(1), reverse=False))\n",
    "\n",
    "#bar plot\n",
    "fig, ax = plt.subplots(figsize=(8,6))\n",
    "plt.barh(list(sorted_d[:,0]),[int(x) for x in list(sorted_d[:,1])])\n",
    "plt.xticks(rotation=90);plt.xticks(fontsize=18)\n",
    "plt.xlabel('events (%)', fontsize=25)\n",
    "plt.yticks(fontsize=18)\n",
    "plt.grid(alpha=0.3)\n",
    "fig.tight_layout()\n",
    "plt.show()"
   ]
  },
  {
   "cell_type": "markdown",
   "metadata": {},
   "source": [
    "### 5.B. <a id='events_per_match'>Distribution of the number of events per match</a>\n",
    "We compute the number of events in each match. We then plot the distribution of this quantity."
   ]
  },
  {
   "cell_type": "code",
   "execution_count": null,
   "metadata": {},
   "outputs": [],
   "source": [
    "values = [len(events) for events in match_id2events.values()]\n",
    "avg_n_events = np.mean(values)\n",
    "std_n_events = np.std(values)\n",
    "\n",
    "fig, ax = plt.subplots(figsize=(8,6))\n",
    "plt.hist(values, rwidth=0.9, bins=20)\n",
    "plt.grid(alpha=0.3)\n",
    "plt.yticks(fontsize=18)\n",
    "plt.xlabel('events (n)', fontsize=25)\n",
    "plt.ylabel('frequency (n)', fontsize=25)\n",
    "plt.xticks(fontsize=18)\n",
    "plt.text(0.1, 0.7, \n",
    "         '$\\mu$ = %i\\n$\\sigma$ = %i'%(avg_n_events, std_n_events), \n",
    "         fontsize=25, transform=ax.transAxes)\n",
    "fig.tight_layout()\n",
    "plt.show()"
   ]
  },
  {
   "cell_type": "markdown",
   "metadata": {},
   "source": [
    "## 6. <a id='plot_events_on_field'>Plot events on the field</a>\n",
    "We take an examplar match and plot on a soccer field all the events of the two teams. Each event is plotted on the position of the field where it has occurred."
   ]
  },
  {
   "cell_type": "code",
   "execution_count": null,
   "metadata": {},
   "outputs": [],
   "source": [
    "match_id = 2576335 # a single match in Italy\n",
    "match_events = match_id2events[match_id]\n",
    "match_label = match_id2match[match_id]['label']\n",
    "            \n",
    "match_df = pd.DataFrame(match_events)\n",
    "match_df.head()"
   ]
  },
  {
   "cell_type": "code",
   "execution_count": null,
   "metadata": {},
   "outputs": [],
   "source": [
    "match_df['x_start'] = [x[0]['x'] for x in match_df['positions']]\n",
    "match_df['y_start'] = [x[0]['y'] for x in match_df['positions']]\n",
    "match_df.head()"
   ]
  },
  {
   "cell_type": "markdown",
   "metadata": {},
   "source": [
    "### 6.A. <a id='static_plot'>Static plot</a>"
   ]
  },
  {
   "cell_type": "code",
   "execution_count": null,
   "metadata": {},
   "outputs": [],
   "source": [
    "team_1, team_2 = np.unique(match_df['teamId'])\n",
    "df_team_1 = match_df[match_df['teamId'] == team_1]\n",
    "df_team_2 = match_df[match_df['teamId'] == team_2]\n",
    "\n",
    "f = draw_pitch(\"white\", \"black\", \"h\", \"full\")\n",
    "plt.scatter(df_team_1['x_start'], df_team_1['y_start'], c='red', edgecolors=\"k\", zorder=12, \n",
    "            alpha=0.5, label='%s: %s events' %(team_id2team[team_1]['name'], len(df_team_1)))\n",
    "plt.scatter(df_team_2['x_start'], df_team_2['y_start'], marker='s', c='blue', edgecolors=\"w\", linewidth=0.25, zorder=12, \n",
    "            alpha=0.7, label='%s: %s events' %(team_id2team[team_2]['name'], len(df_team_2)))\n",
    "plt.legend(fontsize=20, bbox_to_anchor=(1.01, 1.05))\n",
    "plt.title(match_label, fontsize=20)\n",
    "plt.show()"
   ]
  },
  {
   "cell_type": "code",
   "execution_count": null,
   "metadata": {},
   "outputs": [],
   "source": [
    "def plot_events(match_id=2576335, team_id='both', event_name='all'):\n",
    "    \"\"\"\n",
    "    Plot the events onthe position where they have been generated.\n",
    "    \n",
    "    Parameters\n",
    "    ----------\n",
    "    match_id : int, optional\n",
    "        identifier of the match to plot\n",
    "        \n",
    "    team_id : str or int, optional\n",
    "        the identifier of the team to plot. \n",
    "        If 'both', it indicates to plot both teams The default is 'both'.\n",
    "        \n",
    "    event_name : str, optional\n",
    "        the type of the event to plot. If 'all', it plots all the events.\n",
    "        The defauult is 'all'.\n",
    "    \"\"\"\n",
    "    match_label = match_id2match[match_id]['label']\n",
    "    match_events = match_id2events[match_id]\n",
    "    selected_events = []\n",
    "    for event in match_events:\n",
    "        if team_id == 'both' or event['teamId'] == team_id:\n",
    "            if event_name == 'all' or event['eventName'] == event_name:\n",
    "                selected_events.append(event)\n",
    "    \n",
    "    match_df = pd.DataFrame(selected_events)\n",
    "    match_df['x_start'] = [x[0]['x'] for x in match_df['positions']]\n",
    "    match_df['y_start'] = [x[0]['y'] for x in match_df['positions']]\n",
    "    \n",
    "    if team_id == 'both':\n",
    "        team_1, team_2 = np.unique(match_df['teamId'])\n",
    "        df_team_1 = match_df[match_df['teamId'] == team_1]\n",
    "        df_team_2 = match_df[match_df['teamId'] == team_2]\n",
    "    else:\n",
    "        df_team = match_df[match_df['teamId'] == team_id]\n",
    "    \n",
    "    f = draw_pitch(\"white\", \"black\", \"h\", \"full\")\n",
    "    if team_id == 'both':\n",
    "        plt.scatter(df_team_1['x_start'], df_team_1['y_start'], c='red', edgecolors=\"k\", zorder=12, \n",
    "            alpha=0.5, label='%s: %s %s' %(team_id2team[team_1]['name'], len(df_team_1), 'events' if event_name=='all' else event_name))\n",
    "        plt.scatter(df_team_2['x_start'], df_team_2['y_start'], marker='s', c='blue', edgecolors=\"w\", linewidth=0.25, zorder=12, \n",
    "                    alpha=0.7, label='%s: %s %s' %(team_id2team[team_2]['name'], len(df_team_2), 'events' if event_name=='all' else event_name))\n",
    "        plt.legend(fontsize=20, bbox_to_anchor=(1.01, 1.05))\n",
    "    else:\n",
    "        plt.scatter(df_team['x_start'], df_team['y_start'], \n",
    "                    c='red', edgecolors=\"k\", zorder=12, alpha=0.5,\n",
    "                   label='%s: %s %s' %(team_id2team[team_id]['name'], len(df_team), 'events' if event_name=='all' else event_name))\n",
    "    plt.title(match_label, fontsize=20)\n",
    "    plt.legend(fontsize=20, bbox_to_anchor=(1.01, 1.05))\n",
    "    plt.show()\n",
    " "
   ]
  },
  {
   "cell_type": "code",
   "execution_count": null,
   "metadata": {},
   "outputs": [],
   "source": [
    "match_id, team1, team2 = 2576335, 3161, 3162\n",
    "plot_events(team_id=3161)\n",
    "plot_events(team_id=3162)\n",
    "plot_events(team_id='both')"
   ]
  },
  {
   "cell_type": "code",
   "execution_count": null,
   "metadata": {},
   "outputs": [],
   "source": [
    "match_id, team1, team2, event_name = 2576335, 3161, 3162, 'Foul'\n",
    "plot_events(team_id=3161, event_name=event_name)\n",
    "plot_events(team_id=3162, event_name=event_name)\n",
    "plot_events(team_id='both', event_name=event_name)"
   ]
  },
  {
   "cell_type": "markdown",
   "metadata": {},
   "source": [
    "### 6.B. <a id='interactive_plot'>Interactive plot</a>"
   ]
  },
  {
   "cell_type": "raw",
   "metadata": {},
   "source": [
    "player_id2name = defaultdict(str)\n",
    "for player in players:\n",
    "    uni_str = player['shortName'].encode('ascii', 'strict').decode('unicode-escape')\n",
    "    player_id2name[player['wyId']] = uni_str\n",
    "    \n",
    "team_id2name = defaultdict(str)\n",
    "for team in teams:\n",
    "    uni_str = team['name'].encode('ascii', 'strict').decode('unicode-escape')\n",
    "    team_id2name[team['wyId']] = uni_str"
   ]
  },
  {
   "cell_type": "code",
   "execution_count": null,
   "metadata": {},
   "outputs": [],
   "source": [
    "def visualize_events(match_id=2576335, team_id='both', event_name='all'):\n",
    "    \"\"\"\n",
    "    Visualize all the events of a match on the soccer pitch.\n",
    "    \n",
    "    Parameters\n",
    "    ----------\n",
    "    match_id : int, optional\n",
    "        identifier of the match to plot\n",
    "        \n",
    "    team_id : str or int, optional\n",
    "        the identifier of the team to plot. \n",
    "        If 'both', it indicates to plot both teams The default is 'both'.\n",
    "        \n",
    "    event_name : str, optional\n",
    "        the type of the event to plot. If 'all', it plots all the events.\n",
    "        The defauult is 'all'.\n",
    "    \"\"\"\n",
    "    \n",
    "    match_events = []\n",
    "    for event in match_id2events[match_id]:\n",
    "        if team_id == 'both' or event['teamId'] == team_id:\n",
    "            if event_name == 'all' or event['eventName'] == event_name:\n",
    "                match_events.append(event)\n",
    "    \n",
    "    match = match_id2match[match_id] \n",
    "    match_label = match['label']\n",
    "    \n",
    "    team1, team2 = match['teamsData'].keys()\n",
    "    team_name1, team_name2 = team_id2team[int(team1)]['name'], team_id2team[int(team2)]['name']\n",
    "    \n",
    "    # Create and style traces\n",
    "    trace1 = go.Scatter(\n",
    "        x = [event['positions'][0]['x'] for event in match_events if str(event['teamId']) == team1],\n",
    "        y = [event['positions'][0]['y'] for event in match_events if str(event['teamId']) == team1],\n",
    "        text = ['%s by %s' %(event['eventName'], player_id2player[event['playerId']]['shortName'].encode('ascii', 'strict').decode('unicode-escape')) for event in match_events if str(event['teamId']) == team1],\n",
    "        mode = 'markers',\n",
    "        name = team_name1,\n",
    "        marker = dict(\n",
    "            size = 8,\n",
    "            color = 'red',\n",
    "        )\n",
    "    )\n",
    "\n",
    "    trace2 = go.Scatter(\n",
    "        x = [event['positions'][0]['x'] for event in match_events if str(event['teamId']) == team2],\n",
    "        y = [event['positions'][0]['y'] for event in match_events if str(event['teamId']) == team2],\n",
    "        text = ['%s by %s' %(event['eventName'], player_id2player[event['playerId']]['shortName'].encode('ascii', 'strict').decode('unicode-escape')) for event in match_events if str(event['teamId']) == team2],\n",
    "        mode = 'markers',\n",
    "        name = team_name2,\n",
    "        marker = dict(\n",
    "            size = 8,\n",
    "            color = 'blue',\n",
    "            symbol='square'\n",
    "        )\n",
    "    )\n",
    "\n",
    "    fig = dict(data=[trace1, trace2], layout=get_pitch_layout(match_label))\n",
    "    fig['data'][0]['name'] = team_name1\n",
    "    fig['data'][1]['name'] = team_name2\n",
    "    iplot(fig)"
   ]
  },
  {
   "cell_type": "code",
   "execution_count": null,
   "metadata": {},
   "outputs": [],
   "source": [
    "visualize_events(event_name='Pass')"
   ]
  },
  {
   "cell_type": "code",
   "execution_count": null,
   "metadata": {},
   "outputs": [],
   "source": [
    "visualize_events(event_name='Foul')"
   ]
  },
  {
   "cell_type": "markdown",
   "metadata": {},
   "source": [
    "## 7. <a id='spatial_distribution_events'>Spatial distribution of events</a>\n",
    "\n",
    "Distribution of positions per event type. Kernel density plots showing the distribution of the events’ positions during match. The darker is the green, the higher is the number of events in a specific field zone."
   ]
  },
  {
   "cell_type": "code",
   "execution_count": null,
   "metadata": {},
   "outputs": [],
   "source": [
    "def plot_kde_events_on_field(sample_size=10000):\n",
    "    \"\"\"\n",
    "    Generate density plots on the field for each event type\n",
    "    \n",
    "    Parameters\n",
    "    ----------\n",
    "    sample_size: int\n",
    "        random sample of values to use (default: 10000). The code becomes slow is you increase this value\n",
    "        significantly.\n",
    "    \"\"\"\n",
    "    positions = []\n",
    "    for match_events in match_id2events.values():\n",
    "        for event in match_events:\n",
    "            positions.append([event['eventName'], \n",
    "                              event['positions'][0]['x'], \n",
    "                              event['positions'][0]['y']])\n",
    "\n",
    "    positions_df = pd.DataFrame(positions, columns=['eventName','x','y'])\n",
    "\n",
    "    for event_type in EVENT_TYPES:\n",
    "        pos_event_df = positions_df[positions_df['eventName'] == event_type]\n",
    "        fig, ax = pitch()\n",
    "        if len(pos_event_df) >= sample_size:\n",
    "            x_y = pos_event_df[['x','y']].sample(sample_size).astype(float)\n",
    "        else:\n",
    "            x_y = pos_event_df[['x','y']].astype(float)\n",
    "        \n",
    "        sns.kdeplot(x_y['x'], x_y['y'], cmap = 'Greens', shade = True)\n",
    "        \n",
    "        plt.title(event_type, fontsize = 30)\n",
    "        plt.xlim(-1,101)\n",
    "        plt.ylim(-1,101)\n",
    "        plt.axis('off')\n",
    "        fig.tight_layout()\n",
    "        plt.show()"
   ]
  },
  {
   "cell_type": "code",
   "execution_count": null,
   "metadata": {
    "scrolled": false
   },
   "outputs": [],
   "source": [
    "plot_kde_events_on_field(sample_size=1000)"
   ]
  },
  {
   "cell_type": "markdown",
   "metadata": {},
   "source": [
    "## 8. <a id='intra_match_evolution'>Intra-match evolution of the events</a>\n",
    "\n",
    "In-match evolution of the number of events. Number of events (e.g., goals on the top plot, yellow cards\n",
    "in the middle plot and the red cards in the bottom plot) that occur in all the matches in the data set, with time\n",
    "windows of 5 minutes."
   ]
  },
  {
   "cell_type": "code",
   "execution_count": null,
   "metadata": {},
   "outputs": [],
   "source": [
    "def in_match_evolution(event_name='Goal', event_tag=101):\n",
    "    \"\"\"\n",
    "    Plot the in-match evolution of the number of events of a specific type.\n",
    "    \n",
    "    Parameters\n",
    "    ----------\n",
    "    event_name : str, optional\n",
    "        the type of event to plot. The default is \"Goal\".\n",
    "        \n",
    "    event_tag : int, optional\n",
    "        the type of tag to plot. The default is 101.\n",
    "    \"\"\"\n",
    "    # slect specific event in accordance with event_tag\n",
    "    events_time = []\n",
    "    for match_id, match_events in match_id2events.items():\n",
    "        for event in match_events:\n",
    "            tags = event['tags']\n",
    "            for tag in tags:\n",
    "                if tag['id'] == event_tag:\n",
    "                    events_time.append([event['matchId'], \n",
    "                                        event['matchPeriod'], \n",
    "                                        event['eventSec']])\n",
    "                \n",
    "    # let us convert it into a DataFrame\n",
    "    event_df = pd.DataFrame(events_time, columns=['matchId','matchPeriod','eventSec'])\n",
    "    \n",
    "    # create figure\n",
    "    fig, ax = plt.subplots(figsize=(8,6))\n",
    "    \n",
    "    start_bin_2h = 11\n",
    "    \n",
    "    # define plot characteristics for 1H e 2H\n",
    "    for half, color_bar in zip(['1H','2H'],['blue','green']):\n",
    "        \n",
    "        # define DataFrame per half time\n",
    "        df_half = event_df[event_df['matchPeriod'] == half].sort_values(['matchPeriod','eventSec'])\n",
    "        \n",
    "        # create bins every 5 minutes\n",
    "        df_half['binned'] = df_half['eventSec'].pipe(lambda x: pd.to_timedelta(x, \"s\")).dt.floor(\"5min\").astype(\"category\").cat.codes\n",
    "        \n",
    "        # merge bins up to 45 minutes \n",
    "        df_half['binned'] = [9 if x>9 else x for x in df_half['binned']]\n",
    "        \n",
    "        # plot bin for second half\n",
    "        if half == '2H':\n",
    "            df_half['binned'] = [x+start_bin_2h for x in df_half['binned']]\n",
    "            \n",
    "        # barplot\n",
    "        count = Counter(df_half.binned)\n",
    "        barlist = plt.bar(count.keys(),count.values(),\n",
    "                          label=half,color=color_bar)\n",
    "        \n",
    "    plt.legend(loc=2, fontsize=15, frameon=True, shadow=True)\n",
    "    plt.xticks(list(range(0,23)),['0-5','5-10','10-15','15-20','20-25','25-30','30-35','35-40','40-45','>45','',\n",
    "                                  '45-50','50-55','55-60','60-65','65-70','70-75','75-80','80-85','85-90','>90'],\n",
    "              rotation=90, fontsize=18)\n",
    "    plt.yticks(fontsize=18)\n",
    "    max_count_value = np.max(list(count.values()))\n",
    "    plt.text(9.65, max_count_value-(max_count_value/100*10), 'half time', rotation=90, \n",
    "             bbox=dict(facecolor='w',edgecolor='r'),\n",
    "             verticalalignment='center', horizontalalignment='left', fontsize=15, \n",
    "             color='tomato')\n",
    "    plt.vlines(10, 0, max_count_value+(max_count_value/100*10),colors='r',alpha=0.5)\n",
    "    plt.ylim(0,max_count_value+(max_count_value/100*10))\n",
    "    plt.xlabel('match time (min)', fontsize=25)\n",
    "    plt.ylabel('%s (n)'%event_name, fontsize=25)\n",
    "    plt.grid(alpha=0.3)\n",
    "    fig.tight_layout()\n",
    "    plt.show()"
   ]
  },
  {
   "cell_type": "code",
   "execution_count": null,
   "metadata": {},
   "outputs": [],
   "source": [
    "in_match_evolution(event_name='Goal', event_tag=101)"
   ]
  },
  {
   "cell_type": "code",
   "execution_count": null,
   "metadata": {},
   "outputs": [],
   "source": [
    "in_match_evolution(event_name='Yellow Card', event_tag=1702)"
   ]
  },
  {
   "cell_type": "code",
   "execution_count": null,
   "metadata": {},
   "outputs": [],
   "source": [
    "in_match_evolution(event_name='Red Card', event_tag=1701)"
   ]
  },
  {
   "cell_type": "markdown",
   "metadata": {},
   "source": [
    "## 9. <a id='advanced_statistics'>Advanced Statistics</a>"
   ]
  },
  {
   "cell_type": "markdown",
   "metadata": {},
   "source": [
    "## 9.A. <a id='invasion_acceleration_index'>Invasion index and acceleration index</a>\n",
    "\n",
    "Invasion index and acceleration index for a game in the match data set. Bold lines represent the rolling mean of, respectively, invasion index (a) and acceleration index (b), while thin lines represent the individual values computed for each possession phase of each team. Purple vertical lines refer to the two goal scored by Fiorentina during the match, while the red vertical line indicates the half time of the match."
   ]
  },
  {
   "cell_type": "markdown",
   "metadata": {},
   "source": [
    "A team’s invasion index during a game can be computed with a simple algorithm:\n",
    "\n",
    "- Split the match into possession phases, i.e., sequence of consecutive events on the ball generated by the team;\n",
    "- for each possession phase of the team, **take the event with the highest weight**. An event's weight is computed as its “dangerousness”, i.e., the probability to score from the position where the event occurs. The dangerousness of a position is computed according to the schema in the figure below;\n",
    "- compute the sum of all the weights obtained for the team during the game.\n",
    "\n",
    "![Dangerousity](dangerousity.jpg \"Dangerousity\")\n",
    "Dangerousness of each zone of in the opponent’s area. Every zone is associated with a value of dangerousness according to the probability of scoring from that zone.\n",
    "\n",
    "```\n",
    "D. Link and H. Weber, Using individual ball possession as a performance indicator in soccer, workshop on Large-Scale Sports Analytics, 2015.\n",
    "http://bit.ly/2xuckCi\n",
    "```"
   ]
  },
  {
   "cell_type": "markdown",
   "metadata": {},
   "source": [
    "The average acceleration is an estimate of how fast a team is on reaching the most dangerous position during a possession phase. \n",
    "\n",
    "A team's average acceleration during a game is computed as follows:\n",
    "\n",
    "- For each possession phase, take the position of the first event $e_1$ and the position of the event associated with the most dangerous position $e_{max}$;\n",
    "- compute the time difference $delta_t = t(e_{max})$ - $t(e_1)$;\n",
    "- compute the ratio between the invasion index of the possession phase and the square of $delta_t$."
   ]
  },
  {
   "cell_type": "code",
   "execution_count": null,
   "metadata": {},
   "outputs": [],
   "source": [
    "def get_invasion_index(match_id2events, match_id=2576263):\n",
    "    \"\"\"\n",
    "    Compute the invasion index for the input match\n",
    "    \n",
    "    Parameters\n",
    "    ----------\n",
    "    match_id2events : dict\n",
    "        dictionary of match identifiers to list of events in the match.\n",
    "    \n",
    "    match_id : int, optional\n",
    "        identifier of the match to plot\n",
    "        \n",
    "    Returns\n",
    "    -------\n",
    "    tuple\n",
    "        a tuple of two dictionaries of teams to invasion index and invasion speed, \n",
    "        respectively\n",
    "    \"\"\"\n",
    "    # split the match into possession phases (actions)\n",
    "    actions = get_play_actions(match_id2events, match_id)\n",
    "    \n",
    "    # initialize the dictionaries containing the invasion and acceleration indeces\n",
    "    team2invasion_index = defaultdict(list)\n",
    "    team2invasion_speed = defaultdict(list)\n",
    "    \n",
    "    # take all events of the match\n",
    "    events_match = match_id2events[match_id]\n",
    "    \n",
    "    # sort matches by time and half\n",
    "    half_offset = {'2H': max([x['eventSec'] for x in events_match if x['matchPeriod']=='1H']),\n",
    "                   '1H':0}\n",
    "    \n",
    "    ## A COSA SERVE QUESTA RIGA DI CODICE SE POI VIENE SOVRASCRITTA NEL CICLO FOR SOTTO?\n",
    "    events_match = sorted(events_match, key = lambda x: x['eventSec'] + half_offset[x['matchPeriod']])\n",
    "    \n",
    "    off = half_offset['2H']\n",
    "    # for each action in the match\n",
    "    for action in actions:\n",
    "        action_type, events_match = action\n",
    "        team_id = events_match[0]['teamId']\n",
    "        \n",
    "        offset = off if events_match[0]['matchPeriod']=='2H' else 0\n",
    "        if len(set([x['matchPeriod'] for x in events_match])) > 1:\n",
    "            continue\n",
    "        \n",
    "        weights, times = [], []\n",
    "        for event in events_match:\n",
    "            try:\n",
    "                x, y = int(event['positions'][0]['x']), int(event['positions'][0]['y'])\n",
    "                event_time = event['eventSec']\n",
    "            except:\n",
    "                continue #skip to next event in case of missing position data\n",
    "            weights.append(get_weight((x, y)))\n",
    "            times.append(event_time)\n",
    "        \n",
    "        # sort weights by time\n",
    "        time_max_invasion = sorted(times, key=lambda x: weights[times.index(x)], reverse=True)[0]\n",
    "        event_0 = events_match[0]['eventSec']\n",
    "        delta_t = time_max_invasion - event_0\n",
    "        if delta_t > 0.8: ## WHAT'S THIS NUMBER?\n",
    "            invasion_speed = (events_match[0]['eventSec'] + offset, (np.max(weights) - weights[0])/delta_t**2) \n",
    "            team2invasion_speed[team_id].append(invasion_speed)\n",
    "        \n",
    "        # add invasion index of current action\n",
    "        invasion_index = (events_match[0]['eventSec'] + offset, np.max(weights))\n",
    "        team2invasion_index[team_id].append(invasion_index)\n",
    "    \n",
    "    return team2invasion_index, team2invasion_speed, match_label"
   ]
  },
  {
   "cell_type": "code",
   "execution_count": null,
   "metadata": {},
   "outputs": [],
   "source": [
    "team2inv_index, team2inv_speed, match_label = get_invasion_index(match_id2events,\n",
    "                                                                 match_id=2576263)"
   ]
  },
  {
   "cell_type": "code",
   "execution_count": null,
   "metadata": {},
   "outputs": [],
   "source": [
    "plot_invasion_and_acceleration_index(match_label, team2inv_index, team2inv_speed)"
   ]
  },
  {
   "cell_type": "markdown",
   "metadata": {},
   "source": [
    "## 9.B. <a id=\"passing_networks\">Passing networks</a>\n",
    "A player passing network is a weighted network where nodes are players and weighted edges represent movements of the ball between players.\n",
    "\n",
    "In soccer-logs we do not have direct information about the destination player, i.e., the player to which the pass is directed. We infer this information by sorting all the events and looking at the outcome of each pass event. If the pass event of player $u_1$ of team $A$ is accurate and the next event   is by a teammate $u_2$, we assume that player $u_2$ is the destination player of the pass.\n",
    "\n",
    "```\n",
    "Cintia et al., The harsh rule of the goals: data-driven performance indicators for football teams, In Proceedings of the 2015 IEEE International Conference on Data Science and Advanced Analytics (DSAA'2015), 2015, https://ieeexplore.ieee.org/document/7344823.\n",
    "```"
   ]
  },
  {
   "cell_type": "code",
   "execution_count": null,
   "metadata": {},
   "outputs": [],
   "source": [
    "def passing_networks(match_id=2576105):\n",
    "    \"\"\"\n",
    "    Construct the passing networks of the teams in the match.\n",
    "    \n",
    "    Parameters\n",
    "    ----------\n",
    "    match_id : int, optional\n",
    "        identifier of the match to plot\n",
    "        \n",
    "    Returns\n",
    "    -------\n",
    "    tuple\n",
    "        the two constructed networks, as networkx objects.\n",
    "    \"\"\"\n",
    "    \n",
    "    # take the names of the two teams of the match\n",
    "    match_label = match_id2match[match_id]['label']\n",
    "    team1_name = match_label.split('-')[0].split(' ')[0]\n",
    "    team2_name = match_label.split('-')[1].split(' ')[1].split(',')[0]\n",
    "    \n",
    "    # take all the events of the match\n",
    "    match_events = []\n",
    "    for event in match_id2events[match_id]:\n",
    "        if event['eventName'] == 'Pass':\n",
    "            match_events.append(event)\n",
    "\n",
    "    match_events_df = pd.DataFrame(match_events)\n",
    "    first_half_max_duration = np.max(match_events_df[match_events_df['matchPeriod'] == '1H']['eventSec'])\n",
    "\n",
    "    # sum 1H time end to all the time in 2H\n",
    "    for event in match_events:\n",
    "        if event['matchPeriod'] == '2H':\n",
    "            event['eventSec'] += first_half_max_duration\n",
    "    \n",
    "    team2pass2weight = defaultdict(lambda: defaultdict(int))\n",
    "    for event, next_event, next_next_event in zip(match_events, match_events[1:], match_events[2:]):\n",
    "        try:\n",
    "            if event['eventName'] == 'Pass' and ACCURATE_PASS in [tag['id'] for tag in event['tags']]:\n",
    "                sender = player_id2player[event['playerId']]['shortName'].encode('ascii', 'strict').decode('unicode-escape')\n",
    "                # case of duel\n",
    "                if next_event['eventName'] == 'Duel':\n",
    "                    # if the next event of from a playero of the same tema\n",
    "                    if next_event['teamId'] == event['teamId']:\n",
    "                        receiver = player_id2player[next_event['playerId']]['shortName'].encode('ascii', 'strict').decode('unicode-escape')\n",
    "                        team2pass2weight[team_id2team[event['teamId']]['name']][(sender, receiver)] += 1\n",
    "                    else:\n",
    "                        receiver = player_id2player[next_next_event['playerId']]['shortName'].encode('ascii', 'strict').decode('unicode-escape')\n",
    "                        team2pass2weight[team_id2team[event['teamId']]['name']][(sender, receiver)] += 1\n",
    "                else:  # any other event \n",
    "                    if next_event['teamId'] == event['teamId']:\n",
    "                        receiver = player_id2player[next_event['playerId']]['shortName'].encode('ascii', 'strict').decode('unicode-escape')\n",
    "                        team2pass2weight[team_id2team[event['teamId']]['name']][(sender, receiver)] += 1\n",
    "        except KeyError:\n",
    "            pass\n",
    "    # crete networkx graphs\n",
    "    G1, G2 = nx.DiGraph(team=team1_name), nx.DiGraph(team=team2_name)\n",
    "    for (sender, receiver), weight in team2pass2weight[team1_name].items():\n",
    "        G1.add_edge(sender, receiver, weight=weight)\n",
    "    for (sender, receiver), weight in team2pass2weight[team2_name].items():\n",
    "        G2.add_edge(sender, receiver, weight=weight)    \n",
    "    \n",
    "    return G1, G2"
   ]
  },
  {
   "cell_type": "code",
   "execution_count": null,
   "metadata": {
    "code_folding": []
   },
   "outputs": [],
   "source": [
    "def plot_passing_networks(G1, G2):\n",
    "    \"\"\"\n",
    "    Plot the two passing networks in input.\n",
    "    \n",
    "    Parameters\n",
    "    ----------\n",
    "    G1 : networkx object\n",
    "        the object representing the first network\n",
    "        \n",
    "    G2 : networkx object\n",
    "        the object representing the second network\n",
    "    \"\"\"\n",
    "    pos1 = nx.spring_layout(G1, 4)\n",
    "    pos2 = nx.spring_layout(G2, 4)\n",
    "    nome2degree = dict(G1.degree)\n",
    "    nx.draw(G1, pos=pos1, nodelist=list(nome2degree.keys()), \n",
    "            node_size=[deg * 50 for deg in nome2degree.values()], \n",
    "            node_color='red', edge_color='black',\n",
    "            with_labels=True, font_weight='bold', alpha=0.75)\n",
    "    plt.show()\n",
    "    \n",
    "    nome2degree = dict(G2.degree)\n",
    "    nx.draw(G2, pos=pos2, nodelist=list(nome2degree.keys()), \n",
    "            node_size=[deg * 50 for deg in nome2degree.values()],\n",
    "            node_color='blue', edge_color='black',\n",
    "            with_labels=True, font_weight='bold', alpha=0.75)\n",
    "    plt.show()"
   ]
  },
  {
   "cell_type": "code",
   "execution_count": null,
   "metadata": {},
   "outputs": [],
   "source": [
    "G1, G2 = passing_networks(match_id=2576105)"
   ]
  },
  {
   "cell_type": "code",
   "execution_count": null,
   "metadata": {},
   "outputs": [],
   "source": [
    "plot_passing_networks(G1, G2)"
   ]
  },
  {
   "cell_type": "markdown",
   "metadata": {},
   "source": [
    "### 9.B. <a id='flow_centrality'>Flow centrality</a>\n",
    "\n",
    "The **flow centrality** captures the fraction of times that a player intervenes in those paths that result in a shot. We take into account defensive efficiency by letting each player start a number of paths proportional to the number of balls that he recovers during the match.\n",
    "\n",
    "```\n",
    "Duch et al., Quantifying the Performance of Individual Players in a Team Activity, PLoS ONE 5(6): e10937. https://doi.org/10.1371/journal.pone.00109372010https://doi.org/10.1371/journal.pone.0010937\n",
    "```"
   ]
  },
  {
   "cell_type": "markdown",
   "metadata": {},
   "source": [
    "### Distribution of the flow centrality"
   ]
  },
  {
   "cell_type": "code",
   "execution_count": null,
   "metadata": {},
   "outputs": [],
   "source": [
    "def get_players_flow_centrality():\n",
    "    \"\"\"\n",
    "    Compute the sequence of flow centralities for each player.\n",
    "        \n",
    "    Returns\n",
    "    -------\n",
    "    dict\n",
    "        a dictionary of player names to a list of flow centralities\n",
    "        (one per each match played by the player).\n",
    "    \"\"\"\n",
    "    player2centralities = defaultdict(list)\n",
    "    for match in tqdm(match_id2match.values()):\n",
    "        match_id = match['wyId']\n",
    "        G1, G2 = passing_networks(match_id=match_id)\n",
    "        if G1.number_of_nodes() > 0:\n",
    "            for player_name in G1.nodes():\n",
    "                G1 = G1.to_undirected()\n",
    "                if nx.is_connected(G1):\n",
    "                    flow_centrality = nx.current_flow_betweenness_centrality(G1)[player_name]\n",
    "                    player2centralities[player_name].append(flow_centrality)\n",
    "        if G2.number_of_nodes() > 0:\n",
    "            for player_name in G2.nodes():\n",
    "                G2 = G2.to_undirected()\n",
    "                if nx.is_connected(G2):\n",
    "                    flow_centrality = nx.current_flow_betweenness_centrality(G2)[player_name]\n",
    "                    player2centralities[player_name].append(flow_centrality)\n",
    "    return player2centralities"
   ]
  },
  {
   "cell_type": "code",
   "execution_count": null,
   "metadata": {},
   "outputs": [],
   "source": [
    "player2centralities = get_players_flow_centrality()"
   ]
  },
  {
   "cell_type": "code",
   "execution_count": null,
   "metadata": {},
   "outputs": [],
   "source": [
    "chiellini_fcs = player2centralities['G. Chiellini']\n",
    "immobile_fcs = player2centralities['C. Immobile']\n",
    "barella_fcs = player2centralities['N. Barella']"
   ]
  },
  {
   "cell_type": "code",
   "execution_count": null,
   "metadata": {},
   "outputs": [],
   "source": [
    "def plot_flow_centrality(players_centralities, names):\n",
    "    \"\"\"\n",
    "    Plot the flow centralities in time of the players.\n",
    "    \n",
    "    Parameters\n",
    "    ----------\n",
    "    players_centralities : list of lists\n",
    "        the list of the list of flow centralities of the player\n",
    "        \n",
    "    names : list\n",
    "        the list of players\n",
    "    \"\"\"\n",
    "    sns.set_style('ticks')\n",
    "\n",
    "    f,ax = plt.subplots(figsize=(10,5))\n",
    "    for player_centralities, player_name in zip(players_centralities, names):\n",
    "        sns.kdeplot(pd.DataFrame(player_centralities, columns=['flow centrality'])['flow centrality'], \n",
    "                    shade=True, label=player_name)\n",
    "    plt.grid(alpha=0.3)\n",
    "    plt.xticks(fontsize=18)\n",
    "    plt.yticks(fontsize=18)\n",
    "    plt.xlabel('flow centrality', fontsize=25)\n",
    "    plt.ylabel('p(flow centrality)', fontsize=25)\n",
    "    lab = ax.legend(loc=1,fontsize=18,frameon=True,shadow=True)\n",
    "    f.tight_layout()\n",
    "    plt.show()"
   ]
  },
  {
   "cell_type": "code",
   "execution_count": null,
   "metadata": {},
   "outputs": [],
   "source": [
    "plot_flow_centrality([chiellini_fcs, immobile_fcs, barella_fcs], \n",
    "                     ['Chiellini', 'Immobile', 'Barella'])"
   ]
  },
  {
   "cell_type": "markdown",
   "metadata": {},
   "source": [
    "### 9.C <a id='playerank'>PlayeRank</a>\n",
    "\n",
    "PlayeRank is a data-driven framework to evaluate the performance of soccer players, designed to work with match events. The PlayeRank framework consists of four main components:\n",
    "<ol type=\"a\">\n",
    "\t<li>match events database</li>\n",
    "\t<li>learning module</li>\n",
    "\t<li>rating module</li>\n",
    "\t<li>ranking module</li>\n",
    "</ol>\n",
    "\n",
    "![PlayeRank framework schema](https://raw.githubusercontent.com/mesosbrodleto/playerank/master/playerank_schema_tist.png)\n",
    "\n",
    "**Schema of the PlayeRank framework**. Starting from a database of match events **(a)**, it consists of three main phases. The learning phase **(c)** is an \"online\" procedure: It must be executed at least once before the other phases, since it generates information used in the other two phases, but then it can be updated separately. The rating **(b)** and the ranking phases **(d)** are online procedures, i.e., they are executed every time anew match is available in the database of match events. \n",
    "\n",
    "An exhaustive description of PlayeRank framework is available in this paper:\n",
    "```\n",
    "Pappalardo, Luca, Cintia, Paolo, Ferragina, Paolo, Massucco, Emanuele, Pedreschi, Dino & Giannotti, Fosca (2019) PlayeRank: Data-driven Performance Evaluation and Player Ranking in Soccer via a Machine Learning Approach. ACM Transactions on Intelligent Systems and Technologies 10(5), DOI:https://doi.org/10.1145/3343172\n",
    "```\n",
    "\n",
    "To build player rankings from match events, the following steps are required:\n",
    "\n",
    "1. compute feature weights (learning)\n",
    "2. compute roles (learning)\n",
    "3. compute performance scores (rating)\n",
    "4. aggregate performance scores (ranking)"
   ]
  },
  {
   "cell_type": "code",
   "execution_count": null,
   "metadata": {},
   "outputs": [],
   "source": [
    "df = pd.read_json('cr7-messi-salah.json')"
   ]
  },
  {
   "cell_type": "code",
   "execution_count": null,
   "metadata": {},
   "outputs": [],
   "source": [
    "f,ax = plt.subplots(figsize=(10,5),sharex=True)\n",
    "for player,name,color in zip([u'3359,L. Messi', u'3322,Cristiano Ronaldo', u'120353,Mohamed Salah'],['L. Messi', 'C. Ronaldo', 'M. Salah'],['r','b','k']):\n",
    "    if player == '3322,Cristiano Ronaldo':\n",
    "        df_C = df[df.player==player].sort_values('match').reset_index()['playerankScore'].rolling(30, min_periods=1).mean()#.plot(label=player)\n",
    "        dc = pd.DataFrame([[np.nan],[np.nan],[np.nan],[np.nan],[np.nan],[np.nan],[np.nan],[np.nan],[np.nan]])\n",
    "        pd.concat([dc,df_C]).reset_index()[0].plot(label=name,lw=4,c=color)\n",
    "    else:\n",
    "        df[df.player==player].sort_values('match').reset_index()['playerankScore'].rolling(50, min_periods=1).mean().plot(label=name,lw=4,c=color)\n",
    "        \n",
    "plt.grid(alpha=0.3)\n",
    "lab = ax.legend(['L. Messi','C. Ronaldo','M. Salah'],loc=4,fontsize=18,frameon=True,shadow=True)\n",
    "for color,text in zip(['r','b','k'],lab.get_texts()):\n",
    "    text.set_color(color)\n",
    "plt.ylim(0,0.04)\n",
    "plt.xticks(fontsize=18)\n",
    "plt.yticks(fontsize=18)\n",
    "plt.ylabel('PlayeRank score', fontsize=25)\n",
    "plt.xlabel('match (n)', fontsize=25)\n",
    "f.tight_layout()\n",
    "plt.show()\n"
   ]
  },
  {
   "cell_type": "code",
   "execution_count": null,
   "metadata": {},
   "outputs": [],
   "source": []
  }
 ],
 "metadata": {
  "hide_input": false,
  "kernelspec": {
   "display_name": "Python [conda:soccerenv]",
   "language": "python",
   "name": "soccerenv"
  },
  "language_info": {
   "codemirror_mode": {
    "name": "ipython",
    "version": 3
   },
   "file_extension": ".py",
   "mimetype": "text/x-python",
   "name": "python",
   "nbconvert_exporter": "python",
   "pygments_lexer": "ipython3",
   "version": "3.7.6"
  },
  "latex_envs": {
   "LaTeX_envs_menu_present": true,
   "autoclose": false,
   "autocomplete": true,
   "bibliofile": "biblio.bib",
   "cite_by": "apalike",
   "current_citInitial": 1,
   "eqLabelWithNumbers": true,
   "eqNumInitial": 1,
   "hotkeys": {
    "equation": "Ctrl-E",
    "itemize": "Ctrl-I"
   },
   "labels_anchors": false,
   "latex_user_defs": false,
   "report_style_numbering": true,
   "user_envs_cfg": false
  }
 },
 "nbformat": 4,
 "nbformat_minor": 4
}
