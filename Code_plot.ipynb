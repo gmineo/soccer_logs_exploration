{
 "cells": [
  {
   "cell_type": "markdown",
   "metadata": {},
   "source": [
    "# Exploring spatio-temporal events using public soccer-logs"
   ]
  },
  {
   "cell_type": "markdown",
   "metadata": {},
   "source": [
    "The data used in the notebook can be found in: \n",
    "\n",
    "- Pappalardo, Luca; Massucco, Emanuele (2019): Soccer match event dataset. figshare. Collection. https://doi.org/10.6084/m9.figshare.c.4415000.v5\n",
    "\n",
    "A detailed description of the data can be found in the following paper (please cite it if you use the data or the following code):\n",
    "\n",
    "\n",
    "- Pappalardo, L., Cintia, P., Rossi, A. et al. **A public data set of spatio-temporal match events in soccer competitions**. Scientific Data 6, 236 (2019) doi:10.1038/s41597-019-0247-7, https://www.nature.com/articles/s41597-019-0247-7"
   ]
  },
  {
   "cell_type": "markdown",
   "metadata": {},
   "source": [
    "## Outline of the notebook\n",
    "\n",
    "1. [Import libraries](#import_libraries)\n",
    "2. [Load public datasets](#load_public_dataset)\n",
    "3. [How are the data collected?](#data_collection)\n",
    "4. [Structure of data](#structure_of_data)\n",
    "    1. [Players](#players)\n",
    "    2. [Competitions](#competitions)\n",
    "    3. [Matches](#matches)\n",
    "    4. [Events](#events) \n",
    "5. [Basic statistics on events](#basic_statistics)\n",
    "    1. [Frequency of events by type](#frequency_by_type)\n",
    "    2. [Distribution of number of events per match](#events_per_match)\n",
    "6. [Plot events on the field](#plot_events_on_field)\n",
    "    1. [Static plot](#static_plot)\n",
    "    2. [Interactive plot](#interactive_plot)\n",
    "7. [Spatial distribution of events](#spatial_distribution_events)\n",
    "8. [Intra-match evolution](#intra_match_evolution)\n",
    "9. [Advanced statistics](#advanced_statistics)\n",
    "    1. [Invasion and acceleration indeces](#invasion_acceleration_index)\n",
    "    2. [Flow centrality](#flow_centrality)\n",
    "    3. [PlayeRank](#playerank)"
   ]
  },
  {
   "cell_type": "markdown",
   "metadata": {},
   "source": [
    "## 1. <a id='import_libraries'>Import libraries</a>"
   ]
  },
  {
   "cell_type": "code",
   "execution_count": 1,
   "metadata": {},
   "outputs": [
    {
     "data": {
      "text/html": [
       "        <script type=\"text/javascript\">\n",
       "        window.PlotlyConfig = {MathJaxConfig: 'local'};\n",
       "        if (window.MathJax) {MathJax.Hub.Config({SVG: {font: \"STIX-Web\"}});}\n",
       "        if (typeof require !== 'undefined') {\n",
       "        require.undef(\"plotly\");\n",
       "        requirejs.config({\n",
       "            paths: {\n",
       "                'plotly': ['https://cdn.plot.ly/plotly-latest.min']\n",
       "            }\n",
       "        });\n",
       "        require(['plotly'], function(Plotly) {\n",
       "            window._Plotly = Plotly;\n",
       "        });\n",
       "        }\n",
       "        </script>\n",
       "        "
      ]
     },
     "metadata": {},
     "output_type": "display_data"
    }
   ],
   "source": [
    "%matplotlib inline\n",
    "from utils import *\n",
    "from plot_utils import *\n",
    "from metrics import *\n",
    "#from plotly.offline import download_plotlyjs, init_notebook_mode, plot, iplot\n",
    "#import plotly.graph_objs as go\n",
    "init_notebook_mode(connected=True)\n",
    "import warnings\n",
    "warnings.filterwarnings('ignore')"
   ]
  },
  {
   "cell_type": "markdown",
   "metadata": {},
   "source": [
    "## 2. <a id='load_public_dataset'>Load public datasets</a>\n",
    "Here we import the *matches*, *events*, *players*, and *competition* data sets from the <a href=\"https://doi.org/10.6084/m9.figshare.c.4415000.v5\">figshare repository</a>. Data are stored in `.json` format. \n",
    "\n",
    "Download the files and put them in a folder `data` (click to open a webpage and download the file):\n",
    "- [`events.zip`](https://figshare.com/articles/Events/7770599) \n",
    "- [`matches.zip`](https://figshare.com/articles/Matches/7770422) \n",
    "- [`players.json`](https://figshare.com/articles/Players/7765196)\n",
    "- [`competitions.json`](https://figshare.com/articles/Competitions/7765316)"
   ]
  },
  {
   "cell_type": "code",
   "execution_count": 2,
   "metadata": {},
   "outputs": [],
   "source": [
    "tournaments = ['Italy']\n",
    "matches, events, players, competitions = load_public_dataset(tournaments=tournaments)"
   ]
  },
  {
   "cell_type": "markdown",
   "metadata": {},
   "source": [
    "## 3. <a id='data_collection'>How are the data collected?</a>\n",
    "\n",
    "The process of tagging the soccer events from a match video. **(a)** Screenshot from the tagging software. An action is tagged by an operator via a special custom keyboard, thus creating a new event on the match timeline. **(b)** When the event position on the pitch is set, the shot specific input module appears (top). Event related input modules also appear for setting additional attributes of the occurring event (bottom).\n",
    "\n",
    "![Events tagging process](system_figure.jpg \"Events tagging process\")"
   ]
  },
  {
   "cell_type": "markdown",
   "metadata": {},
   "source": [
    "## 4. <a id='structure_of_data'>Structure of data<a/>"
   ]
  },
  {
   "cell_type": "markdown",
   "metadata": {},
   "source": [
    "### 4.A. <a id='players'>Players</a>"
   ]
  },
  {
   "cell_type": "code",
   "execution_count": 3,
   "metadata": {},
   "outputs": [
    {
     "data": {
      "text/plain": [
       "{'passportArea': {'name': 'Turkey',\n",
       "  'id': '792',\n",
       "  'alpha3code': 'TUR',\n",
       "  'alpha2code': 'TR'},\n",
       " 'weight': 78,\n",
       " 'firstName': 'Harun',\n",
       " 'middleName': '',\n",
       " 'lastName': 'Tekin',\n",
       " 'currentTeamId': 4502,\n",
       " 'birthDate': '1989-06-17',\n",
       " 'height': 187,\n",
       " 'role': {'code2': 'GK', 'code3': 'GKP', 'name': 'Goalkeeper'},\n",
       " 'birthArea': {'name': 'Turkey',\n",
       "  'id': '792',\n",
       "  'alpha3code': 'TUR',\n",
       "  'alpha2code': 'TR'},\n",
       " 'wyId': 32777,\n",
       " 'foot': 'right',\n",
       " 'shortName': 'H. Tekin',\n",
       " 'currentNationalTeamId': 4687}"
      ]
     },
     "execution_count": 3,
     "metadata": {},
     "output_type": "execute_result"
    }
   ],
   "source": [
    "players[0]"
   ]
  },
  {
   "cell_type": "markdown",
   "metadata": {},
   "source": [
    "### 4.B. <a id='competitions'>Competitions</a>"
   ]
  },
  {
   "cell_type": "code",
   "execution_count": 4,
   "metadata": {},
   "outputs": [
    {
     "data": {
      "text/plain": [
       "{'name': 'Italian first division',\n",
       " 'wyId': 524,\n",
       " 'format': 'Domestic league',\n",
       " 'area': {'name': 'Italy',\n",
       "  'id': '380',\n",
       "  'alpha3code': 'ITA',\n",
       "  'alpha2code': 'IT'},\n",
       " 'type': 'club'}"
      ]
     },
     "execution_count": 4,
     "metadata": {},
     "output_type": "execute_result"
    }
   ],
   "source": [
    "competitions[0]"
   ]
  },
  {
   "cell_type": "markdown",
   "metadata": {},
   "source": [
    "### 4.C. <a id='matches'>Matches</a>"
   ]
  },
  {
   "cell_type": "code",
   "execution_count": 5,
   "metadata": {
    "scrolled": true
   },
   "outputs": [
    {
     "data": {
      "text/plain": [
       "{'status': 'Played',\n",
       " 'roundId': 4406278,\n",
       " 'gameweek': 38,\n",
       " 'teamsData': {'3162': {'scoreET': 0,\n",
       "   'coachId': 251025,\n",
       "   'side': 'home',\n",
       "   'teamId': 3162,\n",
       "   'score': 2,\n",
       "   'scoreP': 0,\n",
       "   'hasFormation': 1,\n",
       "   'formation': {'bench': [{'playerId': 4792,\n",
       "      'ownGoals': '2',\n",
       "      'redCards': '93',\n",
       "      'goals': '0',\n",
       "      'yellowCards': '0'},\n",
       "     {'playerId': 20972,\n",
       "      'ownGoals': '0',\n",
       "      'redCards': '0',\n",
       "      'goals': 'null',\n",
       "      'yellowCards': '0'},\n",
       "     {'playerId': 256479,\n",
       "      'ownGoals': '0',\n",
       "      'redCards': '0',\n",
       "      'goals': 'null',\n",
       "      'yellowCards': '0'},\n",
       "     {'playerId': 241675,\n",
       "      'ownGoals': '0',\n",
       "      'redCards': '0',\n",
       "      'goals': 'null',\n",
       "      'yellowCards': '0'},\n",
       "     {'playerId': 260250,\n",
       "      'ownGoals': '0',\n",
       "      'redCards': '0',\n",
       "      'goals': 'null',\n",
       "      'yellowCards': '0'},\n",
       "     {'playerId': 69417,\n",
       "      'ownGoals': '0',\n",
       "      'redCards': '0',\n",
       "      'goals': 'null',\n",
       "      'yellowCards': '0'},\n",
       "     {'playerId': 20460,\n",
       "      'ownGoals': '0',\n",
       "      'redCards': '0',\n",
       "      'goals': 'null',\n",
       "      'yellowCards': '0'},\n",
       "     {'playerId': 101635,\n",
       "      'ownGoals': '0',\n",
       "      'redCards': '0',\n",
       "      'goals': 'null',\n",
       "      'yellowCards': '0'},\n",
       "     {'playerId': 20575,\n",
       "      'ownGoals': '0',\n",
       "      'redCards': '0',\n",
       "      'goals': 'null',\n",
       "      'yellowCards': '0'},\n",
       "     {'playerId': 7926,\n",
       "      'ownGoals': '0',\n",
       "      'redCards': '0',\n",
       "      'goals': 'null',\n",
       "      'yellowCards': '0'},\n",
       "     {'playerId': 208865,\n",
       "      'ownGoals': '2',\n",
       "      'redCards': '0',\n",
       "      'goals': '0',\n",
       "      'yellowCards': '0'},\n",
       "     {'playerId': 37745,\n",
       "      'ownGoals': '2',\n",
       "      'redCards': '0',\n",
       "      'goals': '0',\n",
       "      'yellowCards': '0'}],\n",
       "    'lineup': [{'playerId': 21384,\n",
       "      'ownGoals': '2',\n",
       "      'redCards': '0',\n",
       "      'goals': '0',\n",
       "      'yellowCards': '0'},\n",
       "     {'playerId': 20550,\n",
       "      'ownGoals': '2',\n",
       "      'redCards': '0',\n",
       "      'goals': '0',\n",
       "      'yellowCards': '0'},\n",
       "     {'playerId': 130,\n",
       "      'ownGoals': '0',\n",
       "      'redCards': '0',\n",
       "      'goals': 'null',\n",
       "      'yellowCards': '0'},\n",
       "     {'playerId': 346908,\n",
       "      'ownGoals': '0',\n",
       "      'redCards': '0',\n",
       "      'goals': 'null',\n",
       "      'yellowCards': '0'},\n",
       "     {'playerId': 376362,\n",
       "      'ownGoals': '0',\n",
       "      'redCards': '0',\n",
       "      'goals': 'null',\n",
       "      'yellowCards': '25'},\n",
       "     {'playerId': 166534,\n",
       "      'ownGoals': '0',\n",
       "      'redCards': '0',\n",
       "      'goals': 'null',\n",
       "      'yellowCards': '63'},\n",
       "     {'playerId': 20561,\n",
       "      'ownGoals': '2',\n",
       "      'redCards': '79',\n",
       "      'goals': '0',\n",
       "      'yellowCards': '33'},\n",
       "     {'playerId': 40806,\n",
       "      'ownGoals': '0',\n",
       "      'redCards': '0',\n",
       "      'goals': '1',\n",
       "      'yellowCards': '0'},\n",
       "     {'playerId': 265865,\n",
       "      'ownGoals': '0',\n",
       "      'redCards': '0',\n",
       "      'goals': 'null',\n",
       "      'yellowCards': '0'},\n",
       "     {'playerId': 228928,\n",
       "      'ownGoals': '0',\n",
       "      'redCards': '0',\n",
       "      'goals': 'null',\n",
       "      'yellowCards': '0'},\n",
       "     {'playerId': 7965,\n",
       "      'ownGoals': '0',\n",
       "      'redCards': '0',\n",
       "      'goals': 'null',\n",
       "      'yellowCards': '36'}],\n",
       "    'substitutions': [{'playerIn': 37745, 'playerOut': 21384, 'minute': 75},\n",
       "     {'playerIn': 208865, 'playerOut': 20550, 'minute': 77},\n",
       "     {'playerIn': 7926, 'playerOut': 130, 'minute': 83}]},\n",
       "   'scoreHT': 2},\n",
       "  '3161': {'scoreET': 0,\n",
       "   'coachId': 101547,\n",
       "   'side': 'away',\n",
       "   'teamId': 3161,\n",
       "   'score': 3,\n",
       "   'scoreP': 0,\n",
       "   'hasFormation': 1,\n",
       "   'formation': {'bench': [{'playerId': 3543,\n",
       "      'ownGoals': '0',\n",
       "      'redCards': '0',\n",
       "      'goals': 'null',\n",
       "      'yellowCards': '0'},\n",
       "     {'playerId': 405608,\n",
       "      'ownGoals': '0',\n",
       "      'redCards': '0',\n",
       "      'goals': 'null',\n",
       "      'yellowCards': '0'},\n",
       "     {'playerId': 20572,\n",
       "      'ownGoals': '0',\n",
       "      'redCards': '0',\n",
       "      'goals': 'null',\n",
       "      'yellowCards': '0'},\n",
       "     {'playerId': 86785,\n",
       "      'ownGoals': '0',\n",
       "      'redCards': '0',\n",
       "      'goals': 'null',\n",
       "      'yellowCards': '0'},\n",
       "     {'playerId': 7982,\n",
       "      'ownGoals': '0',\n",
       "      'redCards': '0',\n",
       "      'goals': 'null',\n",
       "      'yellowCards': '0'},\n",
       "     {'playerId': 70161,\n",
       "      'ownGoals': '0',\n",
       "      'redCards': '0',\n",
       "      'goals': 'null',\n",
       "      'yellowCards': '0'},\n",
       "     {'playerId': 298212,\n",
       "      'ownGoals': '0',\n",
       "      'redCards': '0',\n",
       "      'goals': 'null',\n",
       "      'yellowCards': '0'},\n",
       "     {'playerId': 241676,\n",
       "      'ownGoals': '0',\n",
       "      'redCards': '0',\n",
       "      'goals': 'null',\n",
       "      'yellowCards': '0'},\n",
       "     {'playerId': 352993,\n",
       "      'ownGoals': '0',\n",
       "      'redCards': '0',\n",
       "      'goals': 'null',\n",
       "      'yellowCards': '0'},\n",
       "     {'playerId': 20626,\n",
       "      'ownGoals': '0',\n",
       "      'redCards': '0',\n",
       "      'goals': 'null',\n",
       "      'yellowCards': '0'},\n",
       "     {'playerId': 20519,\n",
       "      'ownGoals': '0',\n",
       "      'redCards': '0',\n",
       "      'goals': 'null',\n",
       "      'yellowCards': '0'}],\n",
       "    'lineup': [{'playerId': 20556,\n",
       "      'ownGoals': '0',\n",
       "      'redCards': '0',\n",
       "      'goals': 'null',\n",
       "      'yellowCards': '0'},\n",
       "     {'playerId': 3344,\n",
       "      'ownGoals': '0',\n",
       "      'redCards': '0',\n",
       "      'goals': 'null',\n",
       "      'yellowCards': '0'},\n",
       "     {'playerId': 21094,\n",
       "      'ownGoals': '0',\n",
       "      'redCards': '0',\n",
       "      'goals': '1',\n",
       "      'yellowCards': '47'},\n",
       "     {'playerId': 20571,\n",
       "      'ownGoals': '0',\n",
       "      'redCards': '0',\n",
       "      'goals': 'null',\n",
       "      'yellowCards': '0'},\n",
       "     {'playerId': 3431,\n",
       "      'ownGoals': '0',\n",
       "      'redCards': '0',\n",
       "      'goals': 'null',\n",
       "      'yellowCards': '23'},\n",
       "     {'playerId': 138408,\n",
       "      'ownGoals': '0',\n",
       "      'redCards': '0',\n",
       "      'goals': 'null',\n",
       "      'yellowCards': '0'},\n",
       "     {'playerId': 206314,\n",
       "      'ownGoals': '0',\n",
       "      'redCards': '0',\n",
       "      'goals': '1',\n",
       "      'yellowCards': '0'},\n",
       "     {'playerId': 69968,\n",
       "      'ownGoals': '0',\n",
       "      'redCards': '0',\n",
       "      'goals': 'null',\n",
       "      'yellowCards': '12'},\n",
       "     {'playerId': 14812,\n",
       "      'ownGoals': '1',\n",
       "      'redCards': '0',\n",
       "      'goals': 'null',\n",
       "      'yellowCards': '0'},\n",
       "     {'playerId': 116349,\n",
       "      'ownGoals': '2',\n",
       "      'redCards': '0',\n",
       "      'goals': '1',\n",
       "      'yellowCards': '83'},\n",
       "     {'playerId': 135903,\n",
       "      'ownGoals': '0',\n",
       "      'redCards': '0',\n",
       "      'goals': 'null',\n",
       "      'yellowCards': '0'}],\n",
       "    'substitutions': [{'playerIn': 20626, 'playerOut': 20556, 'minute': 60},\n",
       "     {'playerIn': 352993, 'playerOut': 3344, 'minute': 67},\n",
       "     {'playerIn': 20519, 'playerOut': 21094, 'minute': 79}]},\n",
       "   'scoreHT': 1}},\n",
       " 'seasonId': 181248,\n",
       " 'dateutc': '2018-05-20 18:45:00',\n",
       " 'winner': 3161,\n",
       " 'venue': '',\n",
       " 'wyId': 2576335,\n",
       " 'label': 'Lazio - Internazionale, 2 - 3',\n",
       " 'date': 'May 20, 2018 at 8:45:00 PM GMT+2',\n",
       " 'referees': [{'refereeId': 377206, 'role': 'referee'},\n",
       "  {'refereeId': 384945, 'role': 'secondAssistant'},\n",
       "  {'refereeId': 377241, 'role': 'fourthOfficial'}],\n",
       " 'duration': 'Regular',\n",
       " 'competitionId': 524}"
      ]
     },
     "execution_count": 5,
     "metadata": {},
     "output_type": "execute_result"
    }
   ],
   "source": [
    "matches['Italy'][0]#['teamsData'].keys()"
   ]
  },
  {
   "cell_type": "markdown",
   "metadata": {},
   "source": [
    "### 4.D. <a id='events'>Events</a>"
   ]
  },
  {
   "cell_type": "code",
   "execution_count": 6,
   "metadata": {},
   "outputs": [
    {
     "data": {
      "text/plain": [
       "{'eventId': 8,\n",
       " 'subEventName': 'Simple pass',\n",
       " 'tags': [{'id': 1801}],\n",
       " 'playerId': 8327,\n",
       " 'positions': [{'y': 52, 'x': 49}, {'y': 44, 'x': 43}],\n",
       " 'matchId': 2575959,\n",
       " 'eventName': 'Pass',\n",
       " 'teamId': 3158,\n",
       " 'matchPeriod': '1H',\n",
       " 'eventSec': 2.5305359999999837,\n",
       " 'subEventId': 85,\n",
       " 'id': 180423957}"
      ]
     },
     "execution_count": 6,
     "metadata": {},
     "output_type": "execute_result"
    }
   ],
   "source": [
    "events['Italy'][0]#100"
   ]
  },
  {
   "cell_type": "code",
   "execution_count": 7,
   "metadata": {
    "scrolled": false
   },
   "outputs": [
    {
     "data": {
      "text/plain": [
       "{('Duel', 'Air duel'),\n",
       " ('Duel', 'Ground attacking duel'),\n",
       " ('Duel', 'Ground defending duel'),\n",
       " ('Duel', 'Ground loose ball duel'),\n",
       " ('Foul', 'Foul'),\n",
       " ('Foul', 'Hand foul'),\n",
       " ('Foul', 'Late card foul'),\n",
       " ('Foul', 'Out of game foul'),\n",
       " ('Foul', 'Protest'),\n",
       " ('Foul', 'Simulation'),\n",
       " ('Foul', 'Time lost foul'),\n",
       " ('Foul', 'Violent Foul'),\n",
       " ('Free Kick', 'Corner'),\n",
       " ('Free Kick', 'Free Kick'),\n",
       " ('Free Kick', 'Free kick cross'),\n",
       " ('Free Kick', 'Free kick shot'),\n",
       " ('Free Kick', 'Goal kick'),\n",
       " ('Free Kick', 'Penalty'),\n",
       " ('Free Kick', 'Throw in'),\n",
       " ('Goalkeeper leaving line', 'Goalkeeper leaving line'),\n",
       " ('Interruption', 'Ball out of the field'),\n",
       " ('Interruption', 'Whistle'),\n",
       " ('Offside', ''),\n",
       " ('Others on the ball', 'Acceleration'),\n",
       " ('Others on the ball', 'Clearance'),\n",
       " ('Others on the ball', 'Touch'),\n",
       " ('Pass', 'Cross'),\n",
       " ('Pass', 'Hand pass'),\n",
       " ('Pass', 'Head pass'),\n",
       " ('Pass', 'High pass'),\n",
       " ('Pass', 'Launch'),\n",
       " ('Pass', 'Simple pass'),\n",
       " ('Pass', 'Smart pass'),\n",
       " ('Save attempt', 'Reflexes'),\n",
       " ('Save attempt', 'Save attempt'),\n",
       " ('Shot', 'Shot')}"
      ]
     },
     "execution_count": 7,
     "metadata": {},
     "output_type": "execute_result"
    }
   ],
   "source": [
    "event_types = []\n",
    "for event in events['Italy']:\n",
    "    event_types.append((event['eventName'], event['subEventName']))\n",
    "set(event_types)"
   ]
  },
  {
   "cell_type": "markdown",
   "metadata": {},
   "source": [
    "## 5. <a id='basic_statistics'>Basic statistics</a>"
   ]
  },
  {
   "cell_type": "markdown",
   "metadata": {},
   "source": [
    "### 5.A. <a id=\"frequency_by_type\">Frequency of events per type</a>\n",
    "\n",
    "For each event type, we plot how frequent it is in the events data set."
   ]
  },
  {
   "cell_type": "code",
   "execution_count": 8,
   "metadata": {},
   "outputs": [
    {
     "data": {
      "image/png": "[encoded data removed]",
      "text/plain": [
       "<Figure size 576x432 with 1 Axes>"
      ]
     },
     "metadata": {
      "needs_background": "light"
     },
     "output_type": "display_data"
    }
   ],
   "source": [
    "events_list = []\n",
    "for tournament in tournaments:\n",
    "    for event in events[tournament]:\n",
    "        events_list.append(event['eventName'])\n",
    "\n",
    "count = Counter(events_list)\n",
    "# express frequency in percentage\n",
    "counter = {}\n",
    "for i, n_events in zip(count.keys(), count.values()):\n",
    "    counter[i] = int(float(n_events)/len(events_list)*100)\n",
    "sorted_d = np.array(sorted(counter.items(), key=operator.itemgetter(1), reverse=False))\n",
    "\n",
    "#bar plot\n",
    "fig, ax = plt.subplots(figsize=(8,6))\n",
    "plt.barh(list(sorted_d[:,0]),[int(x) for x in list(sorted_d[:,1])])\n",
    "plt.xticks(rotation=90);plt.xticks(fontsize=18)\n",
    "plt.xlabel('events (%)', fontsize=25)\n",
    "plt.yticks(fontsize=18)\n",
    "plt.grid(alpha=0.3)\n",
    "fig.tight_layout()\n",
    "plt.show()"
   ]
  },
  {
   "cell_type": "markdown",
   "metadata": {},
   "source": [
    "### 5.B. <a id='events_per_match'>Distribution of the number of events per match</a>\n",
    "We compute the number of events in each match. We then plot the distribution of this quantity."
   ]
  },
  {
   "cell_type": "code",
   "execution_count": 9,
   "metadata": {},
   "outputs": [
    {
     "data": {
      "image/png": "[encoded data removed]",
      "text/plain": [
       "<Figure size 576x432 with 1 Axes>"
      ]
     },
     "metadata": {
      "needs_background": "light"
     },
     "output_type": "display_data"
    }
   ],
   "source": [
    "# compute the number of events per match\n",
    "match2n_events = defaultdict(int)\n",
    "for tournament in tournaments:\n",
    "    for event in events[tournament]:\n",
    "        match_id = event['matchId']\n",
    "        match2n_events[match_id] += 1\n",
    "\n",
    "values = list(match2n_events.values())\n",
    "avg_n_events = np.mean(values)\n",
    "std_n_events = np.std(values)\n",
    "\n",
    "fig, ax = plt.subplots(figsize=(8,6))\n",
    "plt.hist(match2n_events.values(), rwidth=0.9, bins=20)\n",
    "plt.grid(alpha=0.3)\n",
    "plt.yticks(fontsize=18)\n",
    "plt.xlabel('events (n)', fontsize=25)\n",
    "plt.ylabel('frequency (n)', fontsize=25)\n",
    "plt.xticks(fontsize=18)\n",
    "plt.text(0.1, 0.7, \n",
    "         '$\\mu$ = %i\\n$\\sigma$ = %i'%(avg_n_events, std_n_events), \n",
    "         fontsize=25, transform=ax.transAxes)\n",
    "fig.tight_layout()\n",
    "plt.show()"
   ]
  },
  {
   "cell_type": "markdown",
   "metadata": {},
   "source": [
    "## 6. <a id='plot_events_on_field'>Plot events on the field</a>\n",
    "We take an examplar match and plot on a soccer field all the events of the two teams. Each event is plotted on the position of the field where it has occurred."
   ]
  },
  {
   "cell_type": "code",
   "execution_count": 10,
   "metadata": {},
   "outputs": [
    {
     "data": {
      "text/html": [
       "<div>\n",
       "<style scoped>\n",
       "    .dataframe tbody tr th:only-of-type {\n",
       "        vertical-align: middle;\n",
       "    }\n",
       "\n",
       "    .dataframe tbody tr th {\n",
       "        vertical-align: top;\n",
       "    }\n",
       "\n",
       "    .dataframe thead th {\n",
       "        text-align: right;\n",
       "    }\n",
       "</style>\n",
       "<table border=\"1\" class=\"dataframe\">\n",
       "  <thead>\n",
       "    <tr style=\"text-align: right;\">\n",
       "      <th></th>\n",
       "      <th>eventId</th>\n",
       "      <th>subEventName</th>\n",
       "      <th>tags</th>\n",
       "      <th>playerId</th>\n",
       "      <th>positions</th>\n",
       "      <th>matchId</th>\n",
       "      <th>eventName</th>\n",
       "      <th>teamId</th>\n",
       "      <th>matchPeriod</th>\n",
       "      <th>eventSec</th>\n",
       "      <th>subEventId</th>\n",
       "      <th>id</th>\n",
       "    </tr>\n",
       "  </thead>\n",
       "  <tbody>\n",
       "    <tr>\n",
       "      <th>0</th>\n",
       "      <td>8</td>\n",
       "      <td>Simple pass</td>\n",
       "      <td>[{'id': 1801}]</td>\n",
       "      <td>3344</td>\n",
       "      <td>[{'y': 50, 'x': 49}, {'y': 58, 'x': 38}]</td>\n",
       "      <td>2576335</td>\n",
       "      <td>Pass</td>\n",
       "      <td>3161</td>\n",
       "      <td>1H</td>\n",
       "      <td>2.417590</td>\n",
       "      <td>85</td>\n",
       "      <td>253668302</td>\n",
       "    </tr>\n",
       "    <tr>\n",
       "      <th>1</th>\n",
       "      <td>8</td>\n",
       "      <td>Simple pass</td>\n",
       "      <td>[{'id': 1801}]</td>\n",
       "      <td>116349</td>\n",
       "      <td>[{'y': 58, 'x': 38}, {'y': 91, 'x': 37}]</td>\n",
       "      <td>2576335</td>\n",
       "      <td>Pass</td>\n",
       "      <td>3161</td>\n",
       "      <td>1H</td>\n",
       "      <td>3.904412</td>\n",
       "      <td>85</td>\n",
       "      <td>253668303</td>\n",
       "    </tr>\n",
       "    <tr>\n",
       "      <th>2</th>\n",
       "      <td>8</td>\n",
       "      <td>Simple pass</td>\n",
       "      <td>[{'id': 1801}]</td>\n",
       "      <td>135903</td>\n",
       "      <td>[{'y': 91, 'x': 37}, {'y': 72, 'x': 34}]</td>\n",
       "      <td>2576335</td>\n",
       "      <td>Pass</td>\n",
       "      <td>3161</td>\n",
       "      <td>1H</td>\n",
       "      <td>6.484211</td>\n",
       "      <td>85</td>\n",
       "      <td>253668304</td>\n",
       "    </tr>\n",
       "    <tr>\n",
       "      <th>3</th>\n",
       "      <td>8</td>\n",
       "      <td>Simple pass</td>\n",
       "      <td>[{'id': 1801}]</td>\n",
       "      <td>138408</td>\n",
       "      <td>[{'y': 72, 'x': 34}, {'y': 14, 'x': 36}]</td>\n",
       "      <td>2576335</td>\n",
       "      <td>Pass</td>\n",
       "      <td>3161</td>\n",
       "      <td>1H</td>\n",
       "      <td>10.043835</td>\n",
       "      <td>85</td>\n",
       "      <td>253668306</td>\n",
       "    </tr>\n",
       "    <tr>\n",
       "      <th>4</th>\n",
       "      <td>8</td>\n",
       "      <td>Simple pass</td>\n",
       "      <td>[{'id': 1801}]</td>\n",
       "      <td>21094</td>\n",
       "      <td>[{'y': 14, 'x': 36}, {'y': 39, 'x': 30}]</td>\n",
       "      <td>2576335</td>\n",
       "      <td>Pass</td>\n",
       "      <td>3161</td>\n",
       "      <td>1H</td>\n",
       "      <td>14.032070</td>\n",
       "      <td>85</td>\n",
       "      <td>253668308</td>\n",
       "    </tr>\n",
       "  </tbody>\n",
       "</table>\n",
       "</div>"
      ],
      "text/plain": [
       "   eventId subEventName            tags  playerId  \\\n",
       "0        8  Simple pass  [{'id': 1801}]      3344   \n",
       "1        8  Simple pass  [{'id': 1801}]    116349   \n",
       "2        8  Simple pass  [{'id': 1801}]    135903   \n",
       "3        8  Simple pass  [{'id': 1801}]    138408   \n",
       "4        8  Simple pass  [{'id': 1801}]     21094   \n",
       "\n",
       "                                  positions  matchId eventName  teamId  \\\n",
       "0  [{'y': 50, 'x': 49}, {'y': 58, 'x': 38}]  2576335      Pass    3161   \n",
       "1  [{'y': 58, 'x': 38}, {'y': 91, 'x': 37}]  2576335      Pass    3161   \n",
       "2  [{'y': 91, 'x': 37}, {'y': 72, 'x': 34}]  2576335      Pass    3161   \n",
       "3  [{'y': 72, 'x': 34}, {'y': 14, 'x': 36}]  2576335      Pass    3161   \n",
       "4  [{'y': 14, 'x': 36}, {'y': 39, 'x': 30}]  2576335      Pass    3161   \n",
       "\n",
       "  matchPeriod   eventSec subEventId         id  \n",
       "0          1H   2.417590         85  253668302  \n",
       "1          1H   3.904412         85  253668303  \n",
       "2          1H   6.484211         85  253668304  \n",
       "3          1H  10.043835         85  253668306  \n",
       "4          1H  14.032070         85  253668308  "
      ]
     },
     "execution_count": 10,
     "metadata": {},
     "output_type": "execute_result"
    }
   ],
   "source": [
    "match_id = 2576335 # a single match in Italy\n",
    "match_events = []\n",
    "for event in events[tournaments[0]]:\n",
    "    if event['matchId'] == match_id:\n",
    "        match_events.append(event)\n",
    "        \n",
    "match_label = ''\n",
    "for match in matches['Italy']:\n",
    "    if match['wyId'] == match_id:\n",
    "        match_label = match['label']\n",
    "            \n",
    "match_df = pd.DataFrame(match_events)\n",
    "match_df.head()"
   ]
  },
  {
   "cell_type": "code",
   "execution_count": 11,
   "metadata": {},
   "outputs": [
    {
     "data": {
      "text/html": [
       "<div>\n",
       "<style scoped>\n",
       "    .dataframe tbody tr th:only-of-type {\n",
       "        vertical-align: middle;\n",
       "    }\n",
       "\n",
       "    .dataframe tbody tr th {\n",
       "        vertical-align: top;\n",
       "    }\n",
       "\n",
       "    .dataframe thead th {\n",
       "        text-align: right;\n",
       "    }\n",
       "</style>\n",
       "<table border=\"1\" class=\"dataframe\">\n",
       "  <thead>\n",
       "    <tr style=\"text-align: right;\">\n",
       "      <th></th>\n",
       "      <th>eventId</th>\n",
       "      <th>subEventName</th>\n",
       "      <th>tags</th>\n",
       "      <th>playerId</th>\n",
       "      <th>positions</th>\n",
       "      <th>matchId</th>\n",
       "      <th>eventName</th>\n",
       "      <th>teamId</th>\n",
       "      <th>matchPeriod</th>\n",
       "      <th>eventSec</th>\n",
       "      <th>subEventId</th>\n",
       "      <th>id</th>\n",
       "      <th>x_start</th>\n",
       "      <th>y_start</th>\n",
       "    </tr>\n",
       "  </thead>\n",
       "  <tbody>\n",
       "    <tr>\n",
       "      <th>0</th>\n",
       "      <td>8</td>\n",
       "      <td>Simple pass</td>\n",
       "      <td>[{'id': 1801}]</td>\n",
       "      <td>3344</td>\n",
       "      <td>[{'y': 50, 'x': 49}, {'y': 58, 'x': 38}]</td>\n",
       "      <td>2576335</td>\n",
       "      <td>Pass</td>\n",
       "      <td>3161</td>\n",
       "      <td>1H</td>\n",
       "      <td>2.417590</td>\n",
       "      <td>85</td>\n",
       "      <td>253668302</td>\n",
       "      <td>49</td>\n",
       "      <td>50</td>\n",
       "    </tr>\n",
       "    <tr>\n",
       "      <th>1</th>\n",
       "      <td>8</td>\n",
       "      <td>Simple pass</td>\n",
       "      <td>[{'id': 1801}]</td>\n",
       "      <td>116349</td>\n",
       "      <td>[{'y': 58, 'x': 38}, {'y': 91, 'x': 37}]</td>\n",
       "      <td>2576335</td>\n",
       "      <td>Pass</td>\n",
       "      <td>3161</td>\n",
       "      <td>1H</td>\n",
       "      <td>3.904412</td>\n",
       "      <td>85</td>\n",
       "      <td>253668303</td>\n",
       "      <td>38</td>\n",
       "      <td>58</td>\n",
       "    </tr>\n",
       "    <tr>\n",
       "      <th>2</th>\n",
       "      <td>8</td>\n",
       "      <td>Simple pass</td>\n",
       "      <td>[{'id': 1801}]</td>\n",
       "      <td>135903</td>\n",
       "      <td>[{'y': 91, 'x': 37}, {'y': 72, 'x': 34}]</td>\n",
       "      <td>2576335</td>\n",
       "      <td>Pass</td>\n",
       "      <td>3161</td>\n",
       "      <td>1H</td>\n",
       "      <td>6.484211</td>\n",
       "      <td>85</td>\n",
       "      <td>253668304</td>\n",
       "      <td>37</td>\n",
       "      <td>91</td>\n",
       "    </tr>\n",
       "    <tr>\n",
       "      <th>3</th>\n",
       "      <td>8</td>\n",
       "      <td>Simple pass</td>\n",
       "      <td>[{'id': 1801}]</td>\n",
       "      <td>138408</td>\n",
       "      <td>[{'y': 72, 'x': 34}, {'y': 14, 'x': 36}]</td>\n",
       "      <td>2576335</td>\n",
       "      <td>Pass</td>\n",
       "      <td>3161</td>\n",
       "      <td>1H</td>\n",
       "      <td>10.043835</td>\n",
       "      <td>85</td>\n",
       "      <td>253668306</td>\n",
       "      <td>34</td>\n",
       "      <td>72</td>\n",
       "    </tr>\n",
       "    <tr>\n",
       "      <th>4</th>\n",
       "      <td>8</td>\n",
       "      <td>Simple pass</td>\n",
       "      <td>[{'id': 1801}]</td>\n",
       "      <td>21094</td>\n",
       "      <td>[{'y': 14, 'x': 36}, {'y': 39, 'x': 30}]</td>\n",
       "      <td>2576335</td>\n",
       "      <td>Pass</td>\n",
       "      <td>3161</td>\n",
       "      <td>1H</td>\n",
       "      <td>14.032070</td>\n",
       "      <td>85</td>\n",
       "      <td>253668308</td>\n",
       "      <td>36</td>\n",
       "      <td>14</td>\n",
       "    </tr>\n",
       "  </tbody>\n",
       "</table>\n",
       "</div>"
      ],
      "text/plain": [
       "   eventId subEventName            tags  playerId  \\\n",
       "0        8  Simple pass  [{'id': 1801}]      3344   \n",
       "1        8  Simple pass  [{'id': 1801}]    116349   \n",
       "2        8  Simple pass  [{'id': 1801}]    135903   \n",
       "3        8  Simple pass  [{'id': 1801}]    138408   \n",
       "4        8  Simple pass  [{'id': 1801}]     21094   \n",
       "\n",
       "                                  positions  matchId eventName  teamId  \\\n",
       "0  [{'y': 50, 'x': 49}, {'y': 58, 'x': 38}]  2576335      Pass    3161   \n",
       "1  [{'y': 58, 'x': 38}, {'y': 91, 'x': 37}]  2576335      Pass    3161   \n",
       "2  [{'y': 91, 'x': 37}, {'y': 72, 'x': 34}]  2576335      Pass    3161   \n",
       "3  [{'y': 72, 'x': 34}, {'y': 14, 'x': 36}]  2576335      Pass    3161   \n",
       "4  [{'y': 14, 'x': 36}, {'y': 39, 'x': 30}]  2576335      Pass    3161   \n",
       "\n",
       "  matchPeriod   eventSec subEventId         id  x_start  y_start  \n",
       "0          1H   2.417590         85  253668302       49       50  \n",
       "1          1H   3.904412         85  253668303       38       58  \n",
       "2          1H   6.484211         85  253668304       37       91  \n",
       "3          1H  10.043835         85  253668306       34       72  \n",
       "4          1H  14.032070         85  253668308       36       14  "
      ]
     },
     "execution_count": 11,
     "metadata": {},
     "output_type": "execute_result"
    }
   ],
   "source": [
    "match_df['x_start'] = [x[0]['x'] for x in match_df['positions']]\n",
    "match_df['y_start'] = [x[0]['y'] for x in match_df['positions']]\n",
    "match_df.head()"
   ]
  },
  {
   "cell_type": "markdown",
   "metadata": {},
   "source": [
    "### 6.A. <a id='static_plot'>Static plot</a>"
   ]
  },
  {
   "cell_type": "code",
   "execution_count": 12,
   "metadata": {},
   "outputs": [
    {
     "data": {
      "image/png": "[encoded data removed]",
      "text/plain": [
       "<Figure size 748.8x489.6 with 1 Axes>"
      ]
     },
     "metadata": {
      "needs_background": "light"
     },
     "output_type": "display_data"
    }
   ],
   "source": [
    "team_1, team_2 = np.unique(match_df['teamId'])\n",
    "df_team_1 = match_df[match_df['teamId'] == team_1]\n",
    "df_team_2 = match_df[match_df['teamId'] == team_2]\n",
    "\n",
    "f = draw_pitch(\"white\", \"black\", \"h\", \"full\")\n",
    "plt.scatter(df_team_1['x_start'], df_team_1['y_start'], c='red', edgecolors=\"k\", zorder=12, \n",
    "            alpha=0.5, label='team 1: %s events' %len(df_team_1))\n",
    "plt.scatter(df_team_2['x_start'], df_team_2['y_start'], marker='s', c='blue', edgecolors=\"w\", linewidth=0.25, zorder=12, \n",
    "            alpha=0.7, label='team 2: %s events' %len(df_team_2))\n",
    "plt.legend(fontsize=20, bbox_to_anchor=(1.01, 1.05))\n",
    "plt.title(match_label, fontsize=20)\n",
    "plt.show()"
   ]
  },
  {
   "cell_type": "code",
   "execution_count": 13,
   "metadata": {},
   "outputs": [],
   "source": [
    "def plot_events(match_id=2576335, team_id='both', event_name='all'):\n",
    "    match_events = []\n",
    "    for event in events[tournaments[0]]:\n",
    "        if event['matchId'] == match_id:\n",
    "            if team_id == 'both' or event['teamId'] == team_id:\n",
    "                if event_name == 'all' or event['eventName'] == event_name:\n",
    "                    match_events.append(event)\n",
    "    match_label = ''\n",
    "    for match in matches[tournament]:\n",
    "        if match['wyId'] == match_id:\n",
    "            match_label = match['label']\n",
    "\n",
    "    match_df = pd.DataFrame(match_events)\n",
    "    match_df['x_start'] = [x[0]['x'] for x in match_df['positions']]\n",
    "    match_df['y_start'] = [x[0]['y'] for x in match_df['positions']]\n",
    "    \n",
    "    if team_id == 'both':\n",
    "        team_1, team_2 = np.unique(match_df['teamId'])\n",
    "        df_team_1 = match_df[match_df['teamId'] == team_1]\n",
    "        df_team_2 = match_df[match_df['teamId'] == team_2]\n",
    "    else:\n",
    "        df_team = match_df[match_df['teamId'] == team_id]\n",
    "    \n",
    "    f = draw_pitch(\"white\", \"black\", \"h\", \"full\")\n",
    "    if team_id == 'both':\n",
    "        plt.scatter(df_team_1['x_start'], df_team_1['y_start'], c='red', edgecolors=\"k\", zorder=12, \n",
    "            alpha=0.5, label='team 1: %s %s' %(len(df_team_1), 'events' if event_name=='all' else event_name))\n",
    "        plt.scatter(df_team_2['x_start'], df_team_2['y_start'], marker='s', c='blue', edgecolors=\"w\", linewidth=0.25, zorder=12, \n",
    "                    alpha=0.7, label='team 2: %s %s' %(len(df_team_2), 'events' if event_name=='all' else event_name))\n",
    "        plt.legend(fontsize=20, bbox_to_anchor=(1.01, 1.05))\n",
    "    else:\n",
    "        plt.scatter(df_team['x_start'], df_team['y_start'], \n",
    "                    c='red', edgecolors=\"k\", zorder=12, alpha=0.5,\n",
    "                   label='team: %s %s' %(len(df_team), 'events' if event_name=='all' else event_name))\n",
    "    \n",
    "    plt.legend(fontsize=20, bbox_to_anchor=(1.01, 1.05))\n",
    "    plt.show()\n",
    " "
   ]
  },
  {
   "cell_type": "code",
   "execution_count": 14,
   "metadata": {
    "scrolled": true
   },
   "outputs": [
    {
     "data": {
      "image/png": "[encoded data removed]",
      "text/plain": [
       "<Figure size 748.8x489.6 with 1 Axes>"
      ]
     },
     "metadata": {
      "needs_background": "light"
     },
     "output_type": "display_data"
    },
    {
     "data": {
      "image/png": "[encoded data removed]",
      "text/plain": [
       "<Figure size 748.8x489.6 with 1 Axes>"
      ]
     },
     "metadata": {
      "needs_background": "light"
     },
     "output_type": "display_data"
    },
    {
     "data": {
      "image/png": "[encoded data removed]",
      "text/plain": [
       "<Figure size 748.8x489.6 with 1 Axes>"
      ]
     },
     "metadata": {
      "needs_background": "light"
     },
     "output_type": "display_data"
    }
   ],
   "source": [
    "match_id, team1, team2 = 2576335, 3161, 3162\n",
    "plot_events(team_id=3161)\n",
    "plot_events(team_id=3162)\n",
    "plot_events(team_id='both')"
   ]
  },
  {
   "cell_type": "code",
   "execution_count": 15,
   "metadata": {
    "scrolled": true
   },
   "outputs": [
    {
     "data": {
      "image/png": "[encoded data removed]",
      "text/plain": [
       "<Figure size 748.8x489.6 with 1 Axes>"
      ]
     },
     "metadata": {
      "needs_background": "light"
     },
     "output_type": "display_data"
    },
    {
     "data": {
      "image/png": "[encoded data removed]",
      "text/plain": [
       "<Figure size 748.8x489.6 with 1 Axes>"
      ]
     },
     "metadata": {
      "needs_background": "light"
     },
     "output_type": "display_data"
    },
    {
     "data": {
      "image/png": "[encoded data removed]",
      "text/plain": [
       "<Figure size 748.8x489.6 with 1 Axes>"
      ]
     },
     "metadata": {
      "needs_background": "light"
     },
     "output_type": "display_data"
    }
   ],
   "source": [
    "match_id, team1, team2, event_name = 2576335, 3161, 3162, 'Foul'\n",
    "plot_events(team_id=3161, event_name=event_name)\n",
    "plot_events(team_id=3162, event_name=event_name)\n",
    "plot_events(team_id='both', event_name=event_name)"
   ]
  },
  {
   "cell_type": "markdown",
   "metadata": {},
   "source": [
    "### 6.B. <a id='interactive_plot'>Interactive plot</a>"
   ]
  },
  {
   "cell_type": "code",
   "execution_count": 16,
   "metadata": {},
   "outputs": [],
   "source": [
    "def visualize_events(title, match_id=2576335, team_id='both', event_name='all'):\n",
    "    \"\"\"\n",
    "    Visualize all the events of a match on the soccer pitch.\n",
    "    \n",
    "    Parameters\n",
    "    ----------\n",
    "    a_match: dict\n",
    "        a dictionary containing the information of the match\n",
    "        \n",
    "    a_match_events: list\n",
    "        a list of event dictionaries\n",
    "    \"\"\"\n",
    "    \n",
    "    match_events = []\n",
    "    for event in events[tournaments[0]]:\n",
    "        if event['matchId'] == match_id:\n",
    "            if team_id == 'both' or event['teamId'] == team_id:\n",
    "                if event_name == 'all' or event['eventName'] == event_name:\n",
    "                    match_events.append(event)\n",
    "    selected_match = ''\n",
    "    for match in matches[tournament]:\n",
    "        if match['wyId'] == match_id:\n",
    "            selected_match = match\n",
    "    \n",
    "    team1, team2 = selected_match['teamsData'].keys()\n",
    "\n",
    "    # Create and style traces\n",
    "    trace1 = go.Scatter(\n",
    "        x = [event['positions'][0]['x'] for event in match_events if str(event['teamId']) == team1],\n",
    "        y = [event['positions'][0]['y'] for event in match_events if str(event['teamId']) == team1],\n",
    "        text = ['%s by player %s' %(event['eventName'], event['playerId']) for event in match_events if str(event['teamId']) == team1],\n",
    "        mode = 'markers',\n",
    "        name = team1,\n",
    "        marker = dict(\n",
    "            size = 8,\n",
    "            color = 'red',\n",
    "        )\n",
    "    )\n",
    "\n",
    "    trace2 = go.Scatter(\n",
    "        x = [event['positions'][0]['x'] for event in match_events if str(event['teamId']) == team2],\n",
    "        y = [event['positions'][0]['y'] for event in match_events if str(event['teamId']) == team2],\n",
    "        text = ['%s by player %s' %(event['eventName'], event['playerId']) for event in match_events if str(event['teamId']) == team2],\n",
    "        mode = 'markers',\n",
    "        name = team2,\n",
    "        marker = dict(\n",
    "            size = 8,\n",
    "            color = 'blue',\n",
    "            symbol='square'\n",
    "        )\n",
    "    )\n",
    "\n",
    "    fig = dict(data=[trace1, trace2], layout=get_pitch_layout(title))\n",
    "    fig['data'][0]['name'] = 'team1'\n",
    "    fig['data'][1]['name'] = 'team2'\n",
    "    iplot(fig)"
   ]
  },
  {
   "cell_type": "code",
   "execution_count": 17,
   "metadata": {},
   "outputs": [
    {
     "data": {
      "application/vnd.plotly.v1+json": {
       "config": {
        "linkText": "Export to plot.ly",
        "plotlyServerURL": "https://plot.ly",
        "showLink": false
       },
       "data": [
        {
         "marker": {
          "color": "red",
          "size": 8
         },
         "mode": "markers",
         "name": "team1",
         "text": [
          "Pass by player 130",
          "Pass by player 20550",
          "Pass by player 20561",
          "Pass by player 376362",
          "Pass by player 21384",
          "Pass by player 376362",
          "Pass by player 166534",
          "Pass by player 265865",
          "Pass by player 20561",
          "Pass by player 376362",
          "Pass by player 7965",
          "Pass by player 228928",
          "Pass by player 376362",
          "Pass by player 20550",
          "Pass by player 166534",
          "Pass by player 21384",
          "Pass by player 20561",
          "Pass by player 7965",
          "Pass by player 7965",
          "Pass by player 20561",
          "Pass by player 21384",
          "Pass by player 265865",
          "Pass by player 346908",
          "Pass by player 40806",
          "Pass by player 7965",
          "Pass by player 265865",
          "Pass by player 265865",
          "Pass by player 20550",
          "Pass by player 130",
          "Pass by player 376362",
          "Pass by player 20561",
          "Pass by player 20561",
          "Pass by player 20550",
          "Pass by player 20561",
          "Pass by player 40806",
          "Pass by player 265865",
          "Pass by player 130",
          "Pass by player 376362",
          "Pass by player 166534",
          "Pass by player 20550",
          "Pass by player 21384",
          "Pass by player 228928",
          "Pass by player 376362",
          "Pass by player 20550",
          "Pass by player 265865",
          "Pass by player 20561",
          "Pass by player 228928",
          "Pass by player 376362",
          "Pass by player 166534",
          "Pass by player 20561",
          "Pass by player 346908",
          "Pass by player 228928",
          "Pass by player 40806",
          "Pass by player 228928",
          "Pass by player 376362",
          "Pass by player 21384",
          "Pass by player 228928",
          "Pass by player 21384",
          "Pass by player 166534",
          "Pass by player 376362",
          "Pass by player 166534",
          "Pass by player 21384",
          "Pass by player 346908",
          "Pass by player 40806",
          "Pass by player 228928",
          "Pass by player 40806",
          "Pass by player 346908",
          "Pass by player 166534",
          "Pass by player 130",
          "Pass by player 7965",
          "Pass by player 7965",
          "Pass by player 265865",
          "Pass by player 20561",
          "Pass by player 20550",
          "Pass by player 265865",
          "Pass by player 20561",
          "Pass by player 130",
          "Pass by player 228928",
          "Pass by player 376362",
          "Pass by player 130",
          "Pass by player 166534",
          "Pass by player 376362",
          "Pass by player 130",
          "Pass by player 166534",
          "Pass by player 376362",
          "Pass by player 130",
          "Pass by player 20550",
          "Pass by player 20550",
          "Pass by player 130",
          "Pass by player 376362",
          "Pass by player 265865",
          "Pass by player 40806",
          "Pass by player 265865",
          "Pass by player 7965",
          "Pass by player 20550",
          "Pass by player 265865",
          "Pass by player 20561",
          "Pass by player 40806",
          "Pass by player 130",
          "Pass by player 40806",
          "Pass by player 20561",
          "Pass by player 7965",
          "Pass by player 21384",
          "Pass by player 20550",
          "Pass by player 20561",
          "Pass by player 346908",
          "Pass by player 376362",
          "Pass by player 7965",
          "Pass by player 346908",
          "Pass by player 7965",
          "Pass by player 265865",
          "Pass by player 265865",
          "Pass by player 40806",
          "Pass by player 265865",
          "Pass by player 228928",
          "Pass by player 376362",
          "Pass by player 166534",
          "Pass by player 265865",
          "Pass by player 20561",
          "Pass by player 40806",
          "Pass by player 20561",
          "Pass by player 20550",
          "Pass by player 130",
          "Pass by player 376362",
          "Pass by player 228928",
          "Pass by player 40806",
          "Pass by player 20561",
          "Pass by player 130",
          "Pass by player 7965",
          "Pass by player 346908",
          "Pass by player 20550",
          "Pass by player 21384",
          "Pass by player 40806",
          "Pass by player 376362",
          "Pass by player 130",
          "Pass by player 166534",
          "Pass by player 7965",
          "Pass by player 7965",
          "Pass by player 346908",
          "Pass by player 265865",
          "Pass by player 20561",
          "Pass by player 265865",
          "Pass by player 20561",
          "Pass by player 20550",
          "Pass by player 166534",
          "Pass by player 21384",
          "Pass by player 130",
          "Pass by player 20550",
          "Pass by player 20561",
          "Pass by player 40806",
          "Pass by player 265865",
          "Pass by player 7965",
          "Pass by player 265865",
          "Pass by player 20550",
          "Pass by player 265865",
          "Pass by player 21384",
          "Pass by player 265865",
          "Pass by player 20561",
          "Pass by player 346908",
          "Pass by player 130",
          "Pass by player 20550",
          "Pass by player 40806",
          "Pass by player 21384",
          "Pass by player 40806",
          "Pass by player 40806",
          "Pass by player 20561",
          "Pass by player 40806",
          "Pass by player 7965",
          "Pass by player 265865",
          "Pass by player 21384",
          "Pass by player 7965",
          "Pass by player 20561",
          "Pass by player 20550",
          "Pass by player 265865",
          "Pass by player 376362",
          "Pass by player 7965",
          "Pass by player 40806",
          "Pass by player 7965",
          "Pass by player 376362",
          "Pass by player 376362",
          "Pass by player 346908",
          "Pass by player 20561",
          "Pass by player 40806",
          "Pass by player 265865",
          "Pass by player 7965",
          "Pass by player 376362",
          "Pass by player 20561",
          "Pass by player 40806",
          "Pass by player 346908",
          "Pass by player 346908",
          "Pass by player 7965",
          "Pass by player 20561",
          "Pass by player 20550",
          "Pass by player 7965",
          "Pass by player 346908",
          "Pass by player 166534",
          "Pass by player 21384",
          "Pass by player 130",
          "Pass by player 20561",
          "Pass by player 40806",
          "Pass by player 20561",
          "Pass by player 7965",
          "Pass by player 346908",
          "Pass by player 20550",
          "Pass by player 20561",
          "Pass by player 7965",
          "Pass by player 20550",
          "Pass by player 265865",
          "Pass by player 7965",
          "Pass by player 265865",
          "Pass by player 20550",
          "Pass by player 166534",
          "Pass by player 376362",
          "Pass by player 346908",
          "Pass by player 228928",
          "Pass by player 7965",
          "Pass by player 346908",
          "Pass by player 7965",
          "Pass by player 166534",
          "Pass by player 265865",
          "Pass by player 21384",
          "Pass by player 130",
          "Pass by player 376362",
          "Pass by player 346908",
          "Pass by player 7965",
          "Pass by player 7965",
          "Pass by player 40806",
          "Pass by player 130",
          "Pass by player 166534",
          "Pass by player 376362",
          "Pass by player 228928",
          "Pass by player 21384",
          "Pass by player 7965",
          "Pass by player 20561",
          "Pass by player 265865",
          "Pass by player 7965",
          "Pass by player 20550",
          "Pass by player 20550",
          "Pass by player 7965",
          "Pass by player 265865",
          "Pass by player 7965",
          "Pass by player 20550",
          "Pass by player 20561",
          "Pass by player 228928",
          "Pass by player 7965",
          "Pass by player 228928",
          "Pass by player 7965",
          "Pass by player 130",
          "Pass by player 228928",
          "Pass by player 346908",
          "Pass by player 376362",
          "Pass by player 20561",
          "Pass by player 166534",
          "Pass by player 20550",
          "Pass by player 376362",
          "Pass by player 7965",
          "Pass by player 228928",
          "Pass by player 166534",
          "Pass by player 265865",
          "Pass by player 265865",
          "Pass by player 228928",
          "Pass by player 130",
          "Pass by player 208865",
          "Pass by player 7965",
          "Pass by player 130",
          "Pass by player 37745",
          "Pass by player 208865",
          "Pass by player 166534",
          "Pass by player 265865",
          "Pass by player 208865",
          "Pass by player 346908",
          "Pass by player 208865",
          "Pass by player 208865",
          "Pass by player 37745",
          "Pass by player 346908",
          "Pass by player 37745",
          "Pass by player 208865",
          "Pass by player 376362",
          "Pass by player 228928",
          "Pass by player 346908",
          "Pass by player 346908",
          "Pass by player 228928",
          "Pass by player 346908",
          "Pass by player 208865",
          "Pass by player 37745",
          "Pass by player 166534",
          "Pass by player 7926",
          "Pass by player 265865",
          "Pass by player 40806",
          "Pass by player 37745",
          "Pass by player 376362",
          "Pass by player 376362",
          "Pass by player 7926",
          "Pass by player 228928",
          "Pass by player 7926",
          "Pass by player 37745",
          "Pass by player 228928",
          "Pass by player 376362",
          "Pass by player 208865",
          "Pass by player 7926",
          "Pass by player 376362",
          "Pass by player 37745"
         ],
         "type": "scatter",
         "x": [
          30,
          24,
          32,
          23,
          65,
          4,
          10,
          71,
          70,
          10,
          12,
          14,
          7,
          9,
          5,
          42,
          35,
          31,
          79,
          87,
          97,
          74,
          77,
          82,
          55,
          63,
          66,
          53,
          32,
          45,
          80,
          73,
          69,
          70,
          77,
          89,
          29,
          26,
          8,
          39,
          54,
          73,
          64,
          70,
          71,
          71,
          65,
          31,
          7,
          85,
          65,
          28,
          31,
          23,
          24,
          39,
          32,
          45,
          11,
          9,
          8,
          47,
          75,
          92,
          91,
          90,
          43,
          24,
          34,
          33,
          75,
          75,
          73,
          72,
          75,
          90,
          53,
          52,
          33,
          21,
          7,
          28,
          24,
          10,
          22,
          32,
          24,
          65,
          46,
          45,
          75,
          71,
          78,
          68,
          36,
          76,
          89,
          25,
          32,
          74,
          70,
          39,
          65,
          87,
          66,
          46,
          10,
          21,
          26,
          35,
          53,
          71,
          71,
          70,
          62,
          46,
          23,
          44,
          69,
          70,
          78,
          29,
          15,
          18,
          21,
          22,
          59,
          23,
          30,
          34,
          24,
          43,
          33,
          21,
          25,
          8,
          44,
          31,
          35,
          41,
          66,
          63,
          65,
          48,
          17,
          29,
          9,
          62,
          69,
          75,
          74,
          67,
          63,
          64,
          64,
          66,
          71,
          77,
          50,
          28,
          60,
          78,
          74,
          84,
          34,
          35,
          37,
          38,
          54,
          56,
          41,
          37,
          27,
          37,
          8,
          8,
          31,
          34,
          23,
          74,
          92,
          91,
          87,
          69,
          66,
          72,
          74,
          91,
          91,
          56,
          41,
          63,
          62,
          25,
          30,
          13,
          88,
          57,
          73,
          84,
          74,
          72,
          65,
          64,
          69,
          69,
          72,
          84,
          62,
          75,
          58,
          23,
          22,
          34,
          31,
          27,
          47,
          30,
          13,
          34,
          54,
          3,
          10,
          19,
          20,
          26,
          74,
          24,
          21,
          30,
          44,
          39,
          78,
          37,
          34,
          32,
          32,
          61,
          66,
          77,
          67,
          58,
          69,
          18,
          20,
          17,
          22,
          22,
          28,
          43,
          7,
          39,
          7,
          21,
          21,
          28,
          12,
          14,
          74,
          27,
          27,
          30,
          30,
          46,
          35,
          36,
          24,
          9,
          53,
          27,
          41,
          35,
          8,
          27,
          24,
          28,
          21,
          23,
          5,
          17,
          23,
          67,
          58,
          61,
          98,
          35,
          82,
          87,
          59,
          69,
          22,
          13,
          29,
          57,
          76,
          89,
          92,
          21,
          73,
          87,
          72,
          35
         ],
         "y": [
          22,
          3,
          4,
          60,
          84,
          92,
          59,
          19,
          7,
          78,
          77,
          92,
          80,
          5,
          27,
          13,
          15,
          54,
          56,
          9,
          26,
          35,
          62,
          79,
          93,
          29,
          5,
          5,
          22,
          58,
          5,
          6,
          6,
          9,
          3,
          70,
          71,
          81,
          54,
          11,
          42,
          75,
          65,
          9,
          6,
          16,
          95,
          92,
          67,
          8,
          21,
          94,
          88,
          97,
          93,
          71,
          93,
          86,
          64,
          83,
          48,
          46,
          76,
          87,
          89,
          88,
          66,
          45,
          42,
          29,
          47,
          11,
          5,
          5,
          6,
          30,
          53,
          92,
          62,
          36,
          64,
          93,
          55,
          77,
          82,
          24,
          3,
          9,
          31,
          58,
          17,
          33,
          27,
          47,
          13,
          19,
          11,
          24,
          53,
          8,
          4,
          78,
          69,
          59,
          30,
          50,
          68,
          63,
          93,
          68,
          67,
          31,
          44,
          40,
          89,
          69,
          51,
          52,
          13,
          28,
          10,
          29,
          40,
          90,
          90,
          15,
          24,
          56,
          59,
          69,
          36,
          63,
          93,
          91,
          38,
          45,
          37,
          71,
          72,
          34,
          6,
          19,
          6,
          14,
          47,
          80,
          51,
          7,
          11,
          6,
          5,
          11,
          5,
          6,
          3,
          13,
          18,
          40,
          50,
          48,
          20,
          21,
          37,
          45,
          12,
          6,
          14,
          15,
          7,
          22,
          3,
          25,
          11,
          4,
          88,
          63,
          9,
          21,
          59,
          83,
          78,
          15,
          27,
          5,
          30,
          73,
          32,
          20,
          40,
          95,
          85,
          19,
          9,
          69,
          85,
          49,
          13,
          33,
          6,
          4,
          5,
          26,
          64,
          15,
          26,
          36,
          13,
          7,
          26,
          8,
          3,
          36,
          91,
          92,
          93,
          80,
          98,
          56,
          56,
          47,
          47,
          55,
          73,
          91,
          65,
          62,
          42,
          48,
          64,
          87,
          94,
          19,
          68,
          11,
          26,
          39,
          9,
          22,
          27,
          6,
          19,
          9,
          4,
          83,
          91,
          96,
          16,
          65,
          92,
          78,
          70,
          43,
          67,
          14,
          83,
          77,
          75,
          72,
          19,
          88,
          98,
          50,
          30,
          31,
          55,
          18,
          15,
          49,
          14,
          16,
          20,
          11,
          14,
          8,
          14,
          7,
          26,
          86,
          85,
          97,
          97,
          90,
          81,
          19,
          12,
          74,
          11,
          14,
          9,
          22,
          47,
          42,
          35,
          92,
          43,
          12,
          76,
          94,
          82,
          91,
          5,
          30
         ]
        },
        {
         "marker": {
          "color": "blue",
          "size": 8,
          "symbol": "square"
         },
         "mode": "markers",
         "name": "team2",
         "text": [
          "Pass by player 3344",
          "Pass by player 116349",
          "Pass by player 135903",
          "Pass by player 138408",
          "Pass by player 21094",
          "Pass by player 3431",
          "Pass by player 138408",
          "Pass by player 21094",
          "Pass by player 14812",
          "Pass by player 69968",
          "Pass by player 3344",
          "Pass by player 21094",
          "Pass by player 138408",
          "Pass by player 116349",
          "Pass by player 138408",
          "Pass by player 135903",
          "Pass by player 20556",
          "Pass by player 20571",
          "Pass by player 69968",
          "Pass by player 138408",
          "Pass by player 20556",
          "Pass by player 116349",
          "Pass by player 138408",
          "Pass by player 116349",
          "Pass by player 69968",
          "Pass by player 116349",
          "Pass by player 69968",
          "Pass by player 14812",
          "Pass by player 69968",
          "Pass by player 3431",
          "Pass by player 116349",
          "Pass by player 69968",
          "Pass by player 3344",
          "Pass by player 69968",
          "Pass by player 21094",
          "Pass by player 69968",
          "Pass by player 116349",
          "Pass by player 3431",
          "Pass by player 69968",
          "Pass by player 21094",
          "Pass by player 69968",
          "Pass by player 69968",
          "Pass by player 14812",
          "Pass by player 206314",
          "Pass by player 14812",
          "Pass by player 20556",
          "Pass by player 138408",
          "Pass by player 20571",
          "Pass by player 21094",
          "Pass by player 69968",
          "Pass by player 14812",
          "Pass by player 3431",
          "Pass by player 21094",
          "Pass by player 14812",
          "Pass by player 21094",
          "Pass by player 69968",
          "Pass by player 138408",
          "Pass by player 135903",
          "Pass by player 138408",
          "Pass by player 21094",
          "Pass by player 14812",
          "Pass by player 3344",
          "Pass by player 3344",
          "Pass by player 116349",
          "Pass by player 20556",
          "Pass by player 135903",
          "Pass by player 3431",
          "Pass by player 138408",
          "Pass by player 21094",
          "Pass by player 14812",
          "Pass by player 21094",
          "Pass by player 116349",
          "Pass by player 3431",
          "Pass by player 138408",
          "Pass by player 135903",
          "Pass by player 69968",
          "Pass by player 138408",
          "Pass by player 69968",
          "Pass by player 21094",
          "Pass by player 3344",
          "Pass by player 206314",
          "Pass by player 116349",
          "Pass by player 206314",
          "Pass by player 20556",
          "Pass by player 69968",
          "Pass by player 116349",
          "Pass by player 116349",
          "Pass by player 3344",
          "Pass by player 21094",
          "Pass by player 3431",
          "Pass by player 21094",
          "Pass by player 69968",
          "Pass by player 3431",
          "Pass by player 138408",
          "Pass by player 135903",
          "Pass by player 20556",
          "Pass by player 116349",
          "Pass by player 20556",
          "Pass by player 69968",
          "Pass by player 21094",
          "Pass by player 69968",
          "Pass by player 116349",
          "Pass by player 20571",
          "Pass by player 3431",
          "Pass by player 116349",
          "Pass by player 3344",
          "Pass by player 69968",
          "Pass by player 20556",
          "Pass by player 138408",
          "Pass by player 135903",
          "Pass by player 69968",
          "Pass by player 3344",
          "Pass by player 138408",
          "Pass by player 69968",
          "Pass by player 21094",
          "Pass by player 14812",
          "Pass by player 3431",
          "Pass by player 135903",
          "Pass by player 20556",
          "Pass by player 69968",
          "Pass by player 3431",
          "Pass by player 21094",
          "Pass by player 3344",
          "Pass by player 69968",
          "Pass by player 3344",
          "Pass by player 138408",
          "Pass by player 135903",
          "Pass by player 20556",
          "Pass by player 135903",
          "Pass by player 20556",
          "Pass by player 135903",
          "Pass by player 21094",
          "Pass by player 14812",
          "Pass by player 69968",
          "Pass by player 135903",
          "Pass by player 20556",
          "Pass by player 138408",
          "Pass by player 116349",
          "Pass by player 20556",
          "Pass by player 21094",
          "Pass by player 3431",
          "Pass by player 21094",
          "Pass by player 21094",
          "Pass by player 116349",
          "Pass by player 3344",
          "Pass by player 3431",
          "Pass by player 20556",
          "Pass by player 21094",
          "Pass by player 3431",
          "Pass by player 138408",
          "Pass by player 69968",
          "Pass by player 21094",
          "Pass by player 69968",
          "Pass by player 135903",
          "Pass by player 69968",
          "Pass by player 3344",
          "Pass by player 69968",
          "Pass by player 3344",
          "Pass by player 116349",
          "Pass by player 3344",
          "Pass by player 20556",
          "Pass by player 138408",
          "Pass by player 135903",
          "Pass by player 20571",
          "Pass by player 21094",
          "Pass by player 20556",
          "Pass by player 3431",
          "Pass by player 138408",
          "Pass by player 3344",
          "Pass by player 69968",
          "Pass by player 14812",
          "Pass by player 3431",
          "Pass by player 14812",
          "Pass by player 20571",
          "Pass by player 21094",
          "Pass by player 20556",
          "Pass by player 14812",
          "Pass by player 21094",
          "Pass by player 20571",
          "Pass by player 3431",
          "Pass by player 116349",
          "Pass by player 21094",
          "Pass by player 3431",
          "Pass by player 138408",
          "Pass by player 135903",
          "Pass by player 138408",
          "Pass by player 21094",
          "Pass by player 206314",
          "Pass by player 69968",
          "Pass by player 3344",
          "Pass by player 14812",
          "Pass by player 138408",
          "Pass by player 69968",
          "Pass by player 20556",
          "Pass by player 3344",
          "Pass by player 21094",
          "Pass by player 3344",
          "Pass by player 135903",
          "Pass by player 138408",
          "Pass by player 21094",
          "Pass by player 20556",
          "Pass by player 21094",
          "Pass by player 135903",
          "Pass by player 138408",
          "Pass by player 3431",
          "Pass by player 21094",
          "Pass by player 20556",
          "Pass by player 3431",
          "Pass by player 69968",
          "Pass by player 206314",
          "Pass by player 138408",
          "Pass by player 135903",
          "Pass by player 116349",
          "Pass by player 21094",
          "Pass by player 20556",
          "Pass by player 21094",
          "Pass by player 3431",
          "Pass by player 138408",
          "Pass by player 3431",
          "Pass by player 69968",
          "Pass by player 14812",
          "Pass by player 21094",
          "Pass by player 69968",
          "Pass by player 135903",
          "Pass by player 116349",
          "Pass by player 3344",
          "Pass by player 69968",
          "Pass by player 116349",
          "Pass by player 14812",
          "Pass by player 135903",
          "Pass by player 116349",
          "Pass by player 21094",
          "Pass by player 69968",
          "Pass by player 21094",
          "Pass by player 3344",
          "Pass by player 69968",
          "Pass by player 20556",
          "Pass by player 3431",
          "Pass by player 116349",
          "Pass by player 135903",
          "Pass by player 138408",
          "Pass by player 3431",
          "Pass by player 21094",
          "Pass by player 20556",
          "Pass by player 21094",
          "Pass by player 14812",
          "Pass by player 20556",
          "Pass by player 135903",
          "Pass by player 135903",
          "Pass by player 138408",
          "Pass by player 14812",
          "Pass by player 3344",
          "Pass by player 21094",
          "Pass by player 69968",
          "Pass by player 3431",
          "Pass by player 3344",
          "Pass by player 3431",
          "Pass by player 69968",
          "Pass by player 116349",
          "Pass by player 138408",
          "Pass by player 116349",
          "Pass by player 135903",
          "Pass by player 135903",
          "Pass by player 3344",
          "Pass by player 69968",
          "Pass by player 20556",
          "Pass by player 69968",
          "Pass by player 3344",
          "Pass by player 14812",
          "Pass by player 3431",
          "Pass by player 116349",
          "Pass by player 135903",
          "Pass by player 3344",
          "Pass by player 116349",
          "Pass by player 21094",
          "Pass by player 20556",
          "Pass by player 116349",
          "Pass by player 3431",
          "Pass by player 3431",
          "Pass by player 14812",
          "Pass by player 14812",
          "Pass by player 206314",
          "Pass by player 138408",
          "Pass by player 14812",
          "Pass by player 116349",
          "Pass by player 21094",
          "Pass by player 3431",
          "Pass by player 138408",
          "Pass by player 135903",
          "Pass by player 69968",
          "Pass by player 3431",
          "Pass by player 21094",
          "Pass by player 20556",
          "Pass by player 21094",
          "Pass by player 3431",
          "Pass by player 20556",
          "Pass by player 14812",
          "Pass by player 3344",
          "Pass by player 69968",
          "Pass by player 116349",
          "Pass by player 135903",
          "Pass by player 116349",
          "Pass by player 3344",
          "Pass by player 69968",
          "Pass by player 3431",
          "Pass by player 21094",
          "Pass by player 3344",
          "Pass by player 20556",
          "Pass by player 14812",
          "Pass by player 206314",
          "Pass by player 138408",
          "Pass by player 138408",
          "Pass by player 135903",
          "Pass by player 20571",
          "Pass by player 135903",
          "Pass by player 20556",
          "Pass by player 69968",
          "Pass by player 3344",
          "Pass by player 21094",
          "Pass by player 3344",
          "Pass by player 69968",
          "Pass by player 116349",
          "Pass by player 21094",
          "Pass by player 14812",
          "Pass by player 3431",
          "Pass by player 135903",
          "Pass by player 69968",
          "Pass by player 3344",
          "Pass by player 20556",
          "Pass by player 135903",
          "Pass by player 116349",
          "Pass by player 69968",
          "Pass by player 3431",
          "Pass by player 20556",
          "Pass by player 21094",
          "Pass by player 14812",
          "Pass by player 69968",
          "Pass by player 14812",
          "Pass by player 135903",
          "Pass by player 138408",
          "Pass by player 116349",
          "Pass by player 3344",
          "Pass by player 21094",
          "Pass by player 69968",
          "Pass by player 20556",
          "Pass by player 69968",
          "Pass by player 3344",
          "Pass by player 138408",
          "Pass by player 135903",
          "Pass by player 138408",
          "Pass by player 135903",
          "Pass by player 69968",
          "Pass by player 3431",
          "Pass by player 20556",
          "Pass by player 21094",
          "Pass by player 69968",
          "Pass by player 3344",
          "Pass by player 69968",
          "Pass by player 3344",
          "Pass by player 21094",
          "Pass by player 69968",
          "Pass by player 138408",
          "Pass by player 135903",
          "Pass by player 138408",
          "Pass by player 3431",
          "Pass by player 21094",
          "Pass by player 14812",
          "Pass by player 116349",
          "Pass by player 135903",
          "Pass by player 20571",
          "Pass by player 138408",
          "Pass by player 3344",
          "Pass by player 116349",
          "Pass by player 21094",
          "Pass by player 14812",
          "Pass by player 135903",
          "Pass by player 69968",
          "Pass by player 20626",
          "Pass by player 69968",
          "Pass by player 138408",
          "Pass by player 21094",
          "Pass by player 116349",
          "Pass by player 69968",
          "Pass by player 116349",
          "Pass by player 3431",
          "Pass by player 138408",
          "Pass by player 3431",
          "Pass by player 116349",
          "Pass by player 69968",
          "Pass by player 21094",
          "Pass by player 20571",
          "Pass by player 138408",
          "Pass by player 69968",
          "Pass by player 14812",
          "Pass by player 69968",
          "Pass by player 21094",
          "Pass by player 138408",
          "Pass by player 3431",
          "Pass by player 116349",
          "Pass by player 135903",
          "Pass by player 3431",
          "Pass by player 21094",
          "Pass by player 14812",
          "Pass by player 3344",
          "Pass by player 69968",
          "Pass by player 3344",
          "Pass by player 20571",
          "Pass by player 3431",
          "Pass by player 69968",
          "Pass by player 21094",
          "Pass by player 3431",
          "Pass by player 116349",
          "Pass by player 69968",
          "Pass by player 3344",
          "Pass by player 21094",
          "Pass by player 116349",
          "Pass by player 69968",
          "Pass by player 135903",
          "Pass by player 116349",
          "Pass by player 135903",
          "Pass by player 69968",
          "Pass by player 138408",
          "Pass by player 3431",
          "Pass by player 21094",
          "Pass by player 116349",
          "Pass by player 69968",
          "Pass by player 116349",
          "Pass by player 138408",
          "Pass by player 69968",
          "Pass by player 20626",
          "Pass by player 3431",
          "Pass by player 138408",
          "Pass by player 3431",
          "Pass by player 21094",
          "Pass by player 3431",
          "Pass by player 21094",
          "Pass by player 3431",
          "Pass by player 116349",
          "Pass by player 138408",
          "Pass by player 135903",
          "Pass by player 116349",
          "Pass by player 14812",
          "Pass by player 3431",
          "Pass by player 21094",
          "Pass by player 138408",
          "Pass by player 69968",
          "Pass by player 138408",
          "Pass by player 14812",
          "Pass by player 21094",
          "Pass by player 69968",
          "Pass by player 135903",
          "Pass by player 20571",
          "Pass by player 21094",
          "Pass by player 116349",
          "Pass by player 138408",
          "Pass by player 206314",
          "Pass by player 69968",
          "Pass by player 20626",
          "Pass by player 116349",
          "Pass by player 69968",
          "Pass by player 20626",
          "Pass by player 3431",
          "Pass by player 116349",
          "Pass by player 69968",
          "Pass by player 14812",
          "Pass by player 138408",
          "Pass by player 20519",
          "Pass by player 3431",
          "Pass by player 20571",
          "Pass by player 3431",
          "Pass by player 20571",
          "Pass by player 135903",
          "Pass by player 116349",
          "Pass by player 135903",
          "Pass by player 135903",
          "Pass by player 135903",
          "Pass by player 69968",
          "Pass by player 116349",
          "Pass by player 3431",
          "Pass by player 352993",
          "Pass by player 69968",
          "Pass by player 14812",
          "Pass by player 69968",
          "Pass by player 20626",
          "Pass by player 14812",
          "Pass by player 138408",
          "Pass by player 20571",
          "Pass by player 69968",
          "Pass by player 206314",
          "Pass by player 20626",
          "Pass by player 14812",
          "Pass by player 206314"
         ],
         "type": "scatter",
         "x": [
          49,
          38,
          37,
          34,
          36,
          30,
          21,
          30,
          46,
          47,
          48,
          31,
          35,
          37,
          38,
          44,
          40,
          11,
          45,
          46,
          62,
          50,
          33,
          36,
          35,
          56,
          67,
          89,
          57,
          39,
          54,
          53,
          67,
          56,
          59,
          56,
          54,
          30,
          48,
          66,
          63,
          33,
          45,
          75,
          94,
          72,
          42,
          14,
          33,
          41,
          93,
          5,
          5,
          43,
          23,
          35,
          39,
          43,
          35,
          40,
          47,
          61,
          49,
          37,
          44,
          36,
          32,
          30,
          41,
          47,
          35,
          31,
          29,
          39,
          41,
          46,
          37,
          32,
          28,
          44,
          52,
          59,
          73,
          72,
          67,
          62,
          82,
          71,
          62,
          48,
          60,
          58,
          30,
          40,
          48,
          39,
          47,
          49,
          59,
          68,
          62,
          65,
          13,
          20,
          29,
          43,
          39,
          66,
          16,
          12,
          31,
          44,
          41,
          56,
          61,
          66,
          49,
          66,
          64,
          53,
          48,
          63,
          65,
          53,
          56,
          56,
          63,
          59,
          59,
          63,
          58,
          62,
          66,
          32,
          58,
          62,
          38,
          51,
          47,
          40,
          32,
          45,
          60,
          23,
          15,
          30,
          31,
          32,
          31,
          42,
          47,
          35,
          44,
          64,
          14,
          34,
          36,
          69,
          70,
          71,
          98,
          63,
          57,
          13,
          26,
          34,
          29,
          41,
          49,
          64,
          94,
          20,
          35,
          7,
          44,
          67,
          61,
          41,
          12,
          23,
          34,
          35,
          29,
          37,
          41,
          39,
          36,
          68,
          64,
          12,
          61,
          60,
          66,
          80,
          14,
          41,
          66,
          53,
          47,
          44,
          51,
          39,
          10,
          29,
          31,
          38,
          34,
          26,
          55,
          69,
          28,
          39,
          34,
          35,
          55,
          35,
          29,
          38,
          32,
          52,
          69,
          59,
          51,
          60,
          47,
          68,
          62,
          62,
          73,
          97,
          44,
          35,
          41,
          48,
          68,
          61,
          60,
          51,
          57,
          66,
          45,
          49,
          59,
          68,
          50,
          75,
          75,
          57,
          26,
          44,
          53,
          66,
          29,
          61,
          32,
          46,
          31,
          35,
          44,
          37,
          40,
          42,
          48,
          59,
          62,
          69,
          66,
          74,
          65,
          54,
          55,
          65,
          72,
          70,
          71,
          80,
          35,
          24,
          29,
          23,
          9,
          47,
          33,
          49,
          33,
          14,
          12,
          32,
          34,
          38,
          39,
          54,
          62,
          46,
          38,
          63,
          61,
          76,
          65,
          62,
          67,
          96,
          83,
          65,
          64,
          52,
          67,
          93,
          92,
          90,
          11,
          14,
          24,
          16,
          33,
          40,
          33,
          46,
          28,
          60,
          64,
          54,
          54,
          70,
          26,
          34,
          36,
          59,
          65,
          67,
          68,
          72,
          29,
          42,
          23,
          42,
          33,
          35,
          39,
          33,
          43,
          52,
          61,
          61,
          70,
          56,
          59,
          60,
          95,
          34,
          32,
          38,
          47,
          61,
          36,
          52,
          64,
          70,
          66,
          54,
          70,
          30,
          39,
          29,
          27,
          36,
          38,
          52,
          11,
          3,
          29,
          33,
          26,
          56,
          82,
          31,
          37,
          61,
          53,
          33,
          29,
          35,
          46,
          43,
          39,
          42,
          41,
          68,
          68,
          21,
          11,
          32,
          32,
          61,
          60,
          57,
          49,
          43,
          61,
          70,
          57,
          62,
          38,
          36,
          31,
          42,
          11,
          30,
          38,
          47,
          45,
          47,
          61,
          60,
          55,
          67,
          65,
          82,
          50,
          58,
          52,
          30,
          29,
          36,
          50,
          55,
          61,
          49,
          60,
          73,
          29,
          34,
          29,
          28,
          32,
          57,
          45,
          56,
          50,
          56,
          73,
          90,
          37,
          40,
          44,
          51,
          46,
          44,
          34,
          55,
          27,
          10,
          32,
          35,
          38,
          68,
          57,
          72,
          51,
          63,
          67,
          57,
          61,
          62,
          75,
          26,
          26,
          28,
          6,
          20,
          13,
          58,
          60,
          69,
          96,
          34,
          60,
          59,
          42,
          66,
          55,
          67,
          87,
          73,
          8,
          25,
          13,
          42,
          64,
          90,
          62,
          59
         ],
         "y": [
          50,
          58,
          91,
          72,
          14,
          39,
          55,
          9,
          10,
          22,
          32,
          18,
          70,
          63,
          70,
          90,
          80,
          42,
          24,
          87,
          81,
          67,
          83,
          77,
          61,
          51,
          39,
          10,
          12,
          35,
          42,
          27,
          34,
          28,
          9,
          18,
          33,
          34,
          20,
          3,
          22,
          71,
          34,
          37,
          12,
          88,
          71,
          64,
          29,
          14,
          10,
          5,
          19,
          10,
          3,
          47,
          79,
          92,
          80,
          15,
          9,
          23,
          41,
          55,
          90,
          88,
          55,
          62,
          21,
          14,
          16,
          35,
          45,
          81,
          93,
          74,
          74,
          61,
          31,
          76,
          50,
          32,
          43,
          54,
          41,
          63,
          87,
          88,
          40,
          45,
          24,
          51,
          27,
          72,
          91,
          66,
          78,
          71,
          48,
          26,
          33,
          73,
          58,
          54,
          72,
          54,
          65,
          77,
          54,
          70,
          51,
          74,
          66,
          43,
          17,
          13,
          29,
          85,
          96,
          55,
          51,
          23,
          27,
          30,
          48,
          77,
          93,
          88,
          95,
          91,
          71,
          24,
          10,
          57,
          88,
          95,
          74,
          83,
          91,
          23,
          52,
          18,
          27,
          69,
          67,
          24,
          11,
          11,
          32,
          65,
          53,
          9,
          37,
          92,
          61,
          76,
          58,
          65,
          43,
          45,
          12,
          90,
          87,
          49,
          27,
          12,
          54,
          77,
          68,
          22,
          34,
          65,
          54,
          56,
          16,
          10,
          22,
          17,
          54,
          36,
          48,
          13,
          40,
          72,
          94,
          78,
          25,
          58,
          68,
          64,
          25,
          74,
          65,
          25,
          88,
          9,
          77,
          84,
          70,
          25,
          12,
          18,
          74,
          72,
          45,
          13,
          5,
          31,
          31,
          58,
          83,
          94,
          78,
          34,
          11,
          23,
          38,
          75,
          59,
          28,
          15,
          12,
          38,
          94,
          49,
          74,
          48,
          72,
          34,
          88,
          56,
          26,
          39,
          10,
          48,
          20,
          11,
          43,
          68,
          94,
          75,
          56,
          18,
          13,
          14,
          21,
          9,
          75,
          83,
          72,
          54,
          74,
          31,
          14,
          49,
          50,
          44,
          53,
          53,
          75,
          73,
          90,
          81,
          70,
          33,
          14,
          30,
          38,
          12,
          26,
          44,
          83,
          62,
          58,
          27,
          6,
          73,
          66,
          61,
          40,
          44,
          50,
          73,
          58,
          75,
          21,
          49,
          70,
          91,
          77,
          48,
          16,
          12,
          16,
          40,
          4,
          2,
          40,
          33,
          39,
          92,
          93,
          42,
          38,
          65,
          47,
          26,
          7,
          9,
          93,
          83,
          86,
          93,
          46,
          85,
          17,
          34,
          50,
          15,
          24,
          40,
          31,
          14,
          23,
          50,
          77,
          45,
          38,
          11,
          65,
          49,
          16,
          44,
          12,
          23,
          18,
          24,
          34,
          90,
          84,
          65,
          68,
          19,
          11,
          3,
          16,
          30,
          75,
          91,
          68,
          84,
          73,
          56,
          21,
          26,
          49,
          39,
          46,
          37,
          22,
          14,
          86,
          84,
          80,
          44,
          12,
          14,
          48,
          74,
          53,
          85,
          75,
          43,
          7,
          5,
          50,
          24,
          22,
          23,
          61,
          24,
          41,
          47,
          26,
          44,
          70,
          48,
          27,
          64,
          5,
          48,
          62,
          34,
          4,
          18,
          21,
          80,
          49,
          71,
          77,
          71,
          12,
          19,
          46,
          27,
          24,
          74,
          50,
          54,
          28,
          47,
          49,
          39,
          49,
          24,
          32,
          50,
          80,
          74,
          90,
          73,
          80,
          44,
          16,
          32,
          17,
          15,
          83,
          56,
          33,
          50,
          77,
          47,
          23,
          45,
          15,
          40,
          53,
          55,
          78,
          71,
          24,
          58,
          15,
          79,
          55,
          74,
          13,
          19,
          21,
          80,
          53,
          14,
          47,
          77,
          47,
          50,
          18,
          59,
          18,
          7,
          38,
          50,
          12,
          12,
          49,
          88,
          41,
          50,
          33,
          62,
          91,
          77,
          96,
          96,
          88,
          15,
          37,
          17,
          14,
          20,
          5,
          12,
          11,
          65,
          49,
          45,
          70,
          55,
          73,
          15,
          84
         ]
        }
       ],
       "layout": {
        "autosize": false,
        "height": 600,
        "hovermode": "closest",
        "plot_bgcolor": "rgb(255, 255, 255)",
        "shapes": [
         {
          "line": {
           "color": "black"
          },
          "type": "circle",
          "x0": 40,
          "x1": 60,
          "xref": "x",
          "y0": 35,
          "y1": 65,
          "yref": "y"
         },
         {
          "line": {
           "color": "black"
          },
          "type": "line",
          "x0": 0,
          "x1": 10,
          "xref": "x",
          "y0": 35,
          "y1": 35,
          "yref": "y"
         },
         {
          "line": {
           "color": "black"
          },
          "type": "line",
          "x0": 10,
          "x1": 10,
          "xref": "x",
          "y0": 35,
          "y1": 65,
          "yref": "y"
         },
         {
          "line": {
           "color": "black"
          },
          "type": "line",
          "x0": 10,
          "x1": 0,
          "xref": "x",
          "y0": 65,
          "y1": 65,
          "yref": "y"
         },
         {
          "line": {
           "color": "black"
          },
          "type": "line",
          "x0": 100,
          "x1": 90,
          "xref": "x",
          "y0": 35,
          "y1": 35,
          "yref": "y"
         },
         {
          "line": {
           "color": "black"
          },
          "type": "line",
          "x0": 90,
          "x1": 90,
          "xref": "x",
          "y0": 35,
          "y1": 65,
          "yref": "y"
         },
         {
          "line": {
           "color": "black"
          },
          "type": "line",
          "x0": 90,
          "x1": 100,
          "xref": "x",
          "y0": 65,
          "y1": 65,
          "yref": "y"
         },
         {
          "line": {
           "color": "black"
          },
          "type": "line",
          "x0": 50,
          "x1": 50,
          "xref": "x",
          "y0": 100,
          "y1": 0,
          "yref": "y"
         },
         {
          "line": {
           "color": "black"
          },
          "type": "line",
          "x0": 0,
          "x1": 0,
          "xref": "x",
          "y0": 0,
          "y1": 100,
          "yref": "y"
         },
         {
          "line": {
           "color": "black"
          },
          "type": "line",
          "x0": 100,
          "x1": 100,
          "xref": "x",
          "y0": 0,
          "y1": 100,
          "yref": "y"
         },
         {
          "line": {
           "color": "black"
          },
          "type": "line",
          "x0": 0,
          "x1": 100,
          "xref": "x",
          "y0": 100,
          "y1": 100,
          "yref": "y"
         },
         {
          "line": {
           "color": "black"
          },
          "type": "line",
          "x0": 0,
          "x1": 100,
          "xref": "x",
          "y0": 0,
          "y1": 0,
          "yref": "y"
         }
        ],
        "template": {
         "data": {
          "bar": [
           {
            "error_x": {
             "color": "#2a3f5f"
            },
            "error_y": {
             "color": "#2a3f5f"
            },
            "marker": {
             "line": {
              "color": "#E5ECF6",
              "width": 0.5
             }
            },
            "type": "bar"
           }
          ],
          "barpolar": [
           {
            "marker": {
             "line": {
              "color": "#E5ECF6",
              "width": 0.5
             }
            },
            "type": "barpolar"
           }
          ],
          "carpet": [
           {
            "aaxis": {
             "endlinecolor": "#2a3f5f",
             "gridcolor": "white",
             "linecolor": "white",
             "minorgridcolor": "white",
             "startlinecolor": "#2a3f5f"
            },
            "baxis": {
             "endlinecolor": "#2a3f5f",
             "gridcolor": "white",
             "linecolor": "white",
             "minorgridcolor": "white",
             "startlinecolor": "#2a3f5f"
            },
            "type": "carpet"
           }
          ],
          "choropleth": [
           {
            "colorbar": {
             "outlinewidth": 0,
             "ticks": ""
            },
            "type": "choropleth"
           }
          ],
          "contour": [
           {
            "colorbar": {
             "outlinewidth": 0,
             "ticks": ""
            },
            "colorscale": [
             [
              0,
              "#0d0887"
             ],
             [
              0.1111111111111111,
              "#46039f"
             ],
             [
              0.2222222222222222,
              "#7201a8"
             ],
             [
              0.3333333333333333,
              "#9c179e"
             ],
             [
              0.4444444444444444,
              "#bd3786"
             ],
             [
              0.5555555555555556,
              "#d8576b"
             ],
             [
              0.6666666666666666,
              "#ed7953"
             ],
             [
              0.7777777777777778,
              "#fb9f3a"
             ],
             [
              0.8888888888888888,
              "#fdca26"
             ],
             [
              1,
              "#f0f921"
             ]
            ],
            "type": "contour"
           }
          ],
          "contourcarpet": [
           {
            "colorbar": {
             "outlinewidth": 0,
             "ticks": ""
            },
            "type": "contourcarpet"
           }
          ],
          "heatmap": [
           {
            "colorbar": {
             "outlinewidth": 0,
             "ticks": ""
            },
            "colorscale": [
             [
              0,
              "#0d0887"
             ],
             [
              0.1111111111111111,
              "#46039f"
             ],
             [
              0.2222222222222222,
              "#7201a8"
             ],
             [
              0.3333333333333333,
              "#9c179e"
             ],
             [
              0.4444444444444444,
              "#bd3786"
             ],
             [
              0.5555555555555556,
              "#d8576b"
             ],
             [
              0.6666666666666666,
              "#ed7953"
             ],
             [
              0.7777777777777778,
              "#fb9f3a"
             ],
             [
              0.8888888888888888,
              "#fdca26"
             ],
             [
              1,
              "#f0f921"
             ]
            ],
            "type": "heatmap"
           }
          ],
          "heatmapgl": [
           {
            "colorbar": {
             "outlinewidth": 0,
             "ticks": ""
            },
            "colorscale": [
             [
              0,
              "#0d0887"
             ],
             [
              0.1111111111111111,
              "#46039f"
             ],
             [
              0.2222222222222222,
              "#7201a8"
             ],
             [
              0.3333333333333333,
              "#9c179e"
             ],
             [
              0.4444444444444444,
              "#bd3786"
             ],
             [
              0.5555555555555556,
              "#d8576b"
             ],
             [
              0.6666666666666666,
              "#ed7953"
             ],
             [
              0.7777777777777778,
              "#fb9f3a"
             ],
             [
              0.8888888888888888,
              "#fdca26"
             ],
             [
              1,
              "#f0f921"
             ]
            ],
            "type": "heatmapgl"
           }
          ],
          "histogram": [
           {
            "marker": {
             "colorbar": {
              "outlinewidth": 0,
              "ticks": ""
             }
            },
            "type": "histogram"
           }
          ],
          "histogram2d": [
           {
            "colorbar": {
             "outlinewidth": 0,
             "ticks": ""
            },
            "colorscale": [
             [
              0,
              "#0d0887"
             ],
             [
              0.1111111111111111,
              "#46039f"
             ],
             [
              0.2222222222222222,
              "#7201a8"
             ],
             [
              0.3333333333333333,
              "#9c179e"
             ],
             [
              0.4444444444444444,
              "#bd3786"
             ],
             [
              0.5555555555555556,
              "#d8576b"
             ],
             [
              0.6666666666666666,
              "#ed7953"
             ],
             [
              0.7777777777777778,
              "#fb9f3a"
             ],
             [
              0.8888888888888888,
              "#fdca26"
             ],
             [
              1,
              "#f0f921"
             ]
            ],
            "type": "histogram2d"
           }
          ],
          "histogram2dcontour": [
           {
            "colorbar": {
             "outlinewidth": 0,
             "ticks": ""
            },
            "colorscale": [
             [
              0,
              "#0d0887"
             ],
             [
              0.1111111111111111,
              "#46039f"
             ],
             [
              0.2222222222222222,
              "#7201a8"
             ],
             [
              0.3333333333333333,
              "#9c179e"
             ],
             [
              0.4444444444444444,
              "#bd3786"
             ],
             [
              0.5555555555555556,
              "#d8576b"
             ],
             [
              0.6666666666666666,
              "#ed7953"
             ],
             [
              0.7777777777777778,
              "#fb9f3a"
             ],
             [
              0.8888888888888888,
              "#fdca26"
             ],
             [
              1,
              "#f0f921"
             ]
            ],
            "type": "histogram2dcontour"
           }
          ],
          "mesh3d": [
           {
            "colorbar": {
             "outlinewidth": 0,
             "ticks": ""
            },
            "type": "mesh3d"
           }
          ],
          "parcoords": [
           {
            "line": {
             "colorbar": {
              "outlinewidth": 0,
              "ticks": ""
             }
            },
            "type": "parcoords"
           }
          ],
          "pie": [
           {
            "automargin": true,
            "type": "pie"
           }
          ],
          "scatter": [
           {
            "marker": {
             "colorbar": {
              "outlinewidth": 0,
              "ticks": ""
             }
            },
            "type": "scatter"
           }
          ],
          "scatter3d": [
           {
            "line": {
             "colorbar": {
              "outlinewidth": 0,
              "ticks": ""
             }
            },
            "marker": {
             "colorbar": {
              "outlinewidth": 0,
              "ticks": ""
             }
            },
            "type": "scatter3d"
           }
          ],
          "scattercarpet": [
           {
            "marker": {
             "colorbar": {
              "outlinewidth": 0,
              "ticks": ""
             }
            },
            "type": "scattercarpet"
           }
          ],
          "scattergeo": [
           {
            "marker": {
             "colorbar": {
              "outlinewidth": 0,
              "ticks": ""
             }
            },
            "type": "scattergeo"
           }
          ],
          "scattergl": [
           {
            "marker": {
             "colorbar": {
              "outlinewidth": 0,
              "ticks": ""
             }
            },
            "type": "scattergl"
           }
          ],
          "scattermapbox": [
           {
            "marker": {
             "colorbar": {
              "outlinewidth": 0,
              "ticks": ""
             }
            },
            "type": "scattermapbox"
           }
          ],
          "scatterpolar": [
           {
            "marker": {
             "colorbar": {
              "outlinewidth": 0,
              "ticks": ""
             }
            },
            "type": "scatterpolar"
           }
          ],
          "scatterpolargl": [
           {
            "marker": {
             "colorbar": {
              "outlinewidth": 0,
              "ticks": ""
             }
            },
            "type": "scatterpolargl"
           }
          ],
          "scatterternary": [
           {
            "marker": {
             "colorbar": {
              "outlinewidth": 0,
              "ticks": ""
             }
            },
            "type": "scatterternary"
           }
          ],
          "surface": [
           {
            "colorbar": {
             "outlinewidth": 0,
             "ticks": ""
            },
            "colorscale": [
             [
              0,
              "#0d0887"
             ],
             [
              0.1111111111111111,
              "#46039f"
             ],
             [
              0.2222222222222222,
              "#7201a8"
             ],
             [
              0.3333333333333333,
              "#9c179e"
             ],
             [
              0.4444444444444444,
              "#bd3786"
             ],
             [
              0.5555555555555556,
              "#d8576b"
             ],
             [
              0.6666666666666666,
              "#ed7953"
             ],
             [
              0.7777777777777778,
              "#fb9f3a"
             ],
             [
              0.8888888888888888,
              "#fdca26"
             ],
             [
              1,
              "#f0f921"
             ]
            ],
            "type": "surface"
           }
          ],
          "table": [
           {
            "cells": {
             "fill": {
              "color": "#EBF0F8"
             },
             "line": {
              "color": "white"
             }
            },
            "header": {
             "fill": {
              "color": "#C8D4E3"
             },
             "line": {
              "color": "white"
             }
            },
            "type": "table"
           }
          ]
         },
         "layout": {
          "annotationdefaults": {
           "arrowcolor": "#2a3f5f",
           "arrowhead": 0,
           "arrowwidth": 1
          },
          "coloraxis": {
           "colorbar": {
            "outlinewidth": 0,
            "ticks": ""
           }
          },
          "colorscale": {
           "diverging": [
            [
             0,
             "#8e0152"
            ],
            [
             0.1,
             "#c51b7d"
            ],
            [
             0.2,
             "#de77ae"
            ],
            [
             0.3,
             "#f1b6da"
            ],
            [
             0.4,
             "#fde0ef"
            ],
            [
             0.5,
             "#f7f7f7"
            ],
            [
             0.6,
             "#e6f5d0"
            ],
            [
             0.7,
             "#b8e186"
            ],
            [
             0.8,
             "#7fbc41"
            ],
            [
             0.9,
             "#4d9221"
            ],
            [
             1,
             "#276419"
            ]
           ],
           "sequential": [
            [
             0,
             "#0d0887"
            ],
            [
             0.1111111111111111,
             "#46039f"
            ],
            [
             0.2222222222222222,
             "#7201a8"
            ],
            [
             0.3333333333333333,
             "#9c179e"
            ],
            [
             0.4444444444444444,
             "#bd3786"
            ],
            [
             0.5555555555555556,
             "#d8576b"
            ],
            [
             0.6666666666666666,
             "#ed7953"
            ],
            [
             0.7777777777777778,
             "#fb9f3a"
            ],
            [
             0.8888888888888888,
             "#fdca26"
            ],
            [
             1,
             "#f0f921"
            ]
           ],
           "sequentialminus": [
            [
             0,
             "#0d0887"
            ],
            [
             0.1111111111111111,
             "#46039f"
            ],
            [
             0.2222222222222222,
             "#7201a8"
            ],
            [
             0.3333333333333333,
             "#9c179e"
            ],
            [
             0.4444444444444444,
             "#bd3786"
            ],
            [
             0.5555555555555556,
             "#d8576b"
            ],
            [
             0.6666666666666666,
             "#ed7953"
            ],
            [
             0.7777777777777778,
             "#fb9f3a"
            ],
            [
             0.8888888888888888,
             "#fdca26"
            ],
            [
             1,
             "#f0f921"
            ]
           ]
          },
          "colorway": [
           "#636efa",
           "#EF553B",
           "#00cc96",
           "#ab63fa",
           "#FFA15A",
           "#19d3f3",
           "#FF6692",
           "#B6E880",
           "#FF97FF",
           "#FECB52"
          ],
          "font": {
           "color": "#2a3f5f"
          },
          "geo": {
           "bgcolor": "white",
           "lakecolor": "white",
           "landcolor": "#E5ECF6",
           "showlakes": true,
           "showland": true,
           "subunitcolor": "white"
          },
          "hoverlabel": {
           "align": "left"
          },
          "hovermode": "closest",
          "mapbox": {
           "style": "light"
          },
          "paper_bgcolor": "white",
          "plot_bgcolor": "#E5ECF6",
          "polar": {
           "angularaxis": {
            "gridcolor": "white",
            "linecolor": "white",
            "ticks": ""
           },
           "bgcolor": "#E5ECF6",
           "radialaxis": {
            "gridcolor": "white",
            "linecolor": "white",
            "ticks": ""
           }
          },
          "scene": {
           "xaxis": {
            "backgroundcolor": "#E5ECF6",
            "gridcolor": "white",
            "gridwidth": 2,
            "linecolor": "white",
            "showbackground": true,
            "ticks": "",
            "zerolinecolor": "white"
           },
           "yaxis": {
            "backgroundcolor": "#E5ECF6",
            "gridcolor": "white",
            "gridwidth": 2,
            "linecolor": "white",
            "showbackground": true,
            "ticks": "",
            "zerolinecolor": "white"
           },
           "zaxis": {
            "backgroundcolor": "#E5ECF6",
            "gridcolor": "white",
            "gridwidth": 2,
            "linecolor": "white",
            "showbackground": true,
            "ticks": "",
            "zerolinecolor": "white"
           }
          },
          "shapedefaults": {
           "line": {
            "color": "#2a3f5f"
           }
          },
          "ternary": {
           "aaxis": {
            "gridcolor": "white",
            "linecolor": "white",
            "ticks": ""
           },
           "baxis": {
            "gridcolor": "white",
            "linecolor": "white",
            "ticks": ""
           },
           "bgcolor": "#E5ECF6",
           "caxis": {
            "gridcolor": "white",
            "linecolor": "white",
            "ticks": ""
           }
          },
          "title": {
           "x": 0.05
          },
          "xaxis": {
           "automargin": true,
           "gridcolor": "white",
           "linecolor": "white",
           "ticks": "",
           "title": {
            "standoff": 15
           },
           "zerolinecolor": "white",
           "zerolinewidth": 2
          },
          "yaxis": {
           "automargin": true,
           "gridcolor": "white",
           "linecolor": "white",
           "ticks": "",
           "title": {
            "standoff": 15
           },
           "zerolinecolor": "white",
           "zerolinewidth": 2
          }
         }
        },
        "title": {
         "text": "Lazio - Internazionale, 2 - 3"
        },
        "width": 825,
        "xaxis": {
         "range": [
          0,
          100
         ],
         "showgrid": false,
         "showticklabels": false
        },
        "yaxis": {
         "range": [
          0,
          100
         ],
         "showgrid": false,
         "showticklabels": false
        }
       }
      },
      "text/html": [
       "<div>\n",
       "        \n",
       "        \n",
       "            <div id=\"c61d15da-f612-4363-b622-59de12983632\" class=\"plotly-graph-div\" style=\"height:600px; width:825px;\"></div>\n",
       "            <script type=\"text/javascript\">\n",
       "                require([\"plotly\"], function(Plotly) {\n",
       "                    window.PLOTLYENV=window.PLOTLYENV || {};\n",
       "                    \n",
       "                if (document.getElementById(\"c61d15da-f612-4363-b622-59de12983632\")) {\n",
       "                    Plotly.newPlot(\n",
       "                        'c61d15da-f612-4363-b622-59de12983632',\n",
       "                        [{\"marker\": {\"color\": \"red\", \"size\": 8}, \"mode\": \"markers\", \"name\": \"team1\", \"text\": [\"Pass by player 130\", \"Pass by player 20550\", \"Pass by player 20561\", \"Pass by player 376362\", \"Pass by player 21384\", \"Pass by player 376362\", \"Pass by player 166534\", \"Pass by player 265865\", \"Pass by player 20561\", \"Pass by player 376362\", \"Pass by player 7965\", \"Pass by player 228928\", \"Pass by player 376362\", \"Pass by player 20550\", \"Pass by player 166534\", \"Pass by player 21384\", \"Pass by player 20561\", \"Pass by player 7965\", \"Pass by player 7965\", \"Pass by player 20561\", \"Pass by player 21384\", \"Pass by player 265865\", \"Pass by player 346908\", \"Pass by player 40806\", \"Pass by player 7965\", \"Pass by player 265865\", \"Pass by player 265865\", \"Pass by player 20550\", \"Pass by player 130\", \"Pass by player 376362\", \"Pass by player 20561\", \"Pass by player 20561\", \"Pass by player 20550\", \"Pass by player 20561\", \"Pass by player 40806\", \"Pass by player 265865\", \"Pass by player 130\", \"Pass by player 376362\", \"Pass by player 166534\", \"Pass by player 20550\", \"Pass by player 21384\", \"Pass by player 228928\", \"Pass by player 376362\", \"Pass by player 20550\", \"Pass by player 265865\", \"Pass by player 20561\", \"Pass by player 228928\", \"Pass by player 376362\", \"Pass by player 166534\", \"Pass by player 20561\", \"Pass by player 346908\", \"Pass by player 228928\", \"Pass by player 40806\", \"Pass by player 228928\", \"Pass by player 376362\", \"Pass by player 21384\", \"Pass by player 228928\", \"Pass by player 21384\", \"Pass by player 166534\", \"Pass by player 376362\", \"Pass by player 166534\", \"Pass by player 21384\", \"Pass by player 346908\", \"Pass by player 40806\", \"Pass by player 228928\", \"Pass by player 40806\", \"Pass by player 346908\", \"Pass by player 166534\", \"Pass by player 130\", \"Pass by player 7965\", \"Pass by player 7965\", \"Pass by player 265865\", \"Pass by player 20561\", \"Pass by player 20550\", \"Pass by player 265865\", \"Pass by player 20561\", \"Pass by player 130\", \"Pass by player 228928\", \"Pass by player 376362\", \"Pass by player 130\", \"Pass by player 166534\", \"Pass by player 376362\", \"Pass by player 130\", \"Pass by player 166534\", \"Pass by player 376362\", \"Pass by player 130\", \"Pass by player 20550\", \"Pass by player 20550\", \"Pass by player 130\", \"Pass by player 376362\", \"Pass by player 265865\", \"Pass by player 40806\", \"Pass by player 265865\", \"Pass by player 7965\", \"Pass by player 20550\", \"Pass by player 265865\", \"Pass by player 20561\", \"Pass by player 40806\", \"Pass by player 130\", \"Pass by player 40806\", \"Pass by player 20561\", \"Pass by player 7965\", \"Pass by player 21384\", \"Pass by player 20550\", \"Pass by player 20561\", \"Pass by player 346908\", \"Pass by player 376362\", \"Pass by player 7965\", \"Pass by player 346908\", \"Pass by player 7965\", \"Pass by player 265865\", \"Pass by player 265865\", \"Pass by player 40806\", \"Pass by player 265865\", \"Pass by player 228928\", \"Pass by player 376362\", \"Pass by player 166534\", \"Pass by player 265865\", \"Pass by player 20561\", \"Pass by player 40806\", \"Pass by player 20561\", \"Pass by player 20550\", \"Pass by player 130\", \"Pass by player 376362\", \"Pass by player 228928\", \"Pass by player 40806\", \"Pass by player 20561\", \"Pass by player 130\", \"Pass by player 7965\", \"Pass by player 346908\", \"Pass by player 20550\", \"Pass by player 21384\", \"Pass by player 40806\", \"Pass by player 376362\", \"Pass by player 130\", \"Pass by player 166534\", \"Pass by player 7965\", \"Pass by player 7965\", \"Pass by player 346908\", \"Pass by player 265865\", \"Pass by player 20561\", \"Pass by player 265865\", \"Pass by player 20561\", \"Pass by player 20550\", \"Pass by player 166534\", \"Pass by player 21384\", \"Pass by player 130\", \"Pass by player 20550\", \"Pass by player 20561\", \"Pass by player 40806\", \"Pass by player 265865\", \"Pass by player 7965\", \"Pass by player 265865\", \"Pass by player 20550\", \"Pass by player 265865\", \"Pass by player 21384\", \"Pass by player 265865\", \"Pass by player 20561\", \"Pass by player 346908\", \"Pass by player 130\", \"Pass by player 20550\", \"Pass by player 40806\", \"Pass by player 21384\", \"Pass by player 40806\", \"Pass by player 40806\", \"Pass by player 20561\", \"Pass by player 40806\", \"Pass by player 7965\", \"Pass by player 265865\", \"Pass by player 21384\", \"Pass by player 7965\", \"Pass by player 20561\", \"Pass by player 20550\", \"Pass by player 265865\", \"Pass by player 376362\", \"Pass by player 7965\", \"Pass by player 40806\", \"Pass by player 7965\", \"Pass by player 376362\", \"Pass by player 376362\", \"Pass by player 346908\", \"Pass by player 20561\", \"Pass by player 40806\", \"Pass by player 265865\", \"Pass by player 7965\", \"Pass by player 376362\", \"Pass by player 20561\", \"Pass by player 40806\", \"Pass by player 346908\", \"Pass by player 346908\", \"Pass by player 7965\", \"Pass by player 20561\", \"Pass by player 20550\", \"Pass by player 7965\", \"Pass by player 346908\", \"Pass by player 166534\", \"Pass by player 21384\", \"Pass by player 130\", \"Pass by player 20561\", \"Pass by player 40806\", \"Pass by player 20561\", \"Pass by player 7965\", \"Pass by player 346908\", \"Pass by player 20550\", \"Pass by player 20561\", \"Pass by player 7965\", \"Pass by player 20550\", \"Pass by player 265865\", \"Pass by player 7965\", \"Pass by player 265865\", \"Pass by player 20550\", \"Pass by player 166534\", \"Pass by player 376362\", \"Pass by player 346908\", \"Pass by player 228928\", \"Pass by player 7965\", \"Pass by player 346908\", \"Pass by player 7965\", \"Pass by player 166534\", \"Pass by player 265865\", \"Pass by player 21384\", \"Pass by player 130\", \"Pass by player 376362\", \"Pass by player 346908\", \"Pass by player 7965\", \"Pass by player 7965\", \"Pass by player 40806\", \"Pass by player 130\", \"Pass by player 166534\", \"Pass by player 376362\", \"Pass by player 228928\", \"Pass by player 21384\", \"Pass by player 7965\", \"Pass by player 20561\", \"Pass by player 265865\", \"Pass by player 7965\", \"Pass by player 20550\", \"Pass by player 20550\", \"Pass by player 7965\", \"Pass by player 265865\", \"Pass by player 7965\", \"Pass by player 20550\", \"Pass by player 20561\", \"Pass by player 228928\", \"Pass by player 7965\", \"Pass by player 228928\", \"Pass by player 7965\", \"Pass by player 130\", \"Pass by player 228928\", \"Pass by player 346908\", \"Pass by player 376362\", \"Pass by player 20561\", \"Pass by player 166534\", \"Pass by player 20550\", \"Pass by player 376362\", \"Pass by player 7965\", \"Pass by player 228928\", \"Pass by player 166534\", \"Pass by player 265865\", \"Pass by player 265865\", \"Pass by player 228928\", \"Pass by player 130\", \"Pass by player 208865\", \"Pass by player 7965\", \"Pass by player 130\", \"Pass by player 37745\", \"Pass by player 208865\", \"Pass by player 166534\", \"Pass by player 265865\", \"Pass by player 208865\", \"Pass by player 346908\", \"Pass by player 208865\", \"Pass by player 208865\", \"Pass by player 37745\", \"Pass by player 346908\", \"Pass by player 37745\", \"Pass by player 208865\", \"Pass by player 376362\", \"Pass by player 228928\", \"Pass by player 346908\", \"Pass by player 346908\", \"Pass by player 228928\", \"Pass by player 346908\", \"Pass by player 208865\", \"Pass by player 37745\", \"Pass by player 166534\", \"Pass by player 7926\", \"Pass by player 265865\", \"Pass by player 40806\", \"Pass by player 37745\", \"Pass by player 376362\", \"Pass by player 376362\", \"Pass by player 7926\", \"Pass by player 228928\", \"Pass by player 7926\", \"Pass by player 37745\", \"Pass by player 228928\", \"Pass by player 376362\", \"Pass by player 208865\", \"Pass by player 7926\", \"Pass by player 376362\", \"Pass by player 37745\"], \"type\": \"scatter\", \"x\": [30, 24, 32, 23, 65, 4, 10, 71, 70, 10, 12, 14, 7, 9, 5, 42, 35, 31, 79, 87, 97, 74, 77, 82, 55, 63, 66, 53, 32, 45, 80, 73, 69, 70, 77, 89, 29, 26, 8, 39, 54, 73, 64, 70, 71, 71, 65, 31, 7, 85, 65, 28, 31, 23, 24, 39, 32, 45, 11, 9, 8, 47, 75, 92, 91, 90, 43, 24, 34, 33, 75, 75, 73, 72, 75, 90, 53, 52, 33, 21, 7, 28, 24, 10, 22, 32, 24, 65, 46, 45, 75, 71, 78, 68, 36, 76, 89, 25, 32, 74, 70, 39, 65, 87, 66, 46, 10, 21, 26, 35, 53, 71, 71, 70, 62, 46, 23, 44, 69, 70, 78, 29, 15, 18, 21, 22, 59, 23, 30, 34, 24, 43, 33, 21, 25, 8, 44, 31, 35, 41, 66, 63, 65, 48, 17, 29, 9, 62, 69, 75, 74, 67, 63, 64, 64, 66, 71, 77, 50, 28, 60, 78, 74, 84, 34, 35, 37, 38, 54, 56, 41, 37, 27, 37, 8, 8, 31, 34, 23, 74, 92, 91, 87, 69, 66, 72, 74, 91, 91, 56, 41, 63, 62, 25, 30, 13, 88, 57, 73, 84, 74, 72, 65, 64, 69, 69, 72, 84, 62, 75, 58, 23, 22, 34, 31, 27, 47, 30, 13, 34, 54, 3, 10, 19, 20, 26, 74, 24, 21, 30, 44, 39, 78, 37, 34, 32, 32, 61, 66, 77, 67, 58, 69, 18, 20, 17, 22, 22, 28, 43, 7, 39, 7, 21, 21, 28, 12, 14, 74, 27, 27, 30, 30, 46, 35, 36, 24, 9, 53, 27, 41, 35, 8, 27, 24, 28, 21, 23, 5, 17, 23, 67, 58, 61, 98, 35, 82, 87, 59, 69, 22, 13, 29, 57, 76, 89, 92, 21, 73, 87, 72, 35], \"y\": [22, 3, 4, 60, 84, 92, 59, 19, 7, 78, 77, 92, 80, 5, 27, 13, 15, 54, 56, 9, 26, 35, 62, 79, 93, 29, 5, 5, 22, 58, 5, 6, 6, 9, 3, 70, 71, 81, 54, 11, 42, 75, 65, 9, 6, 16, 95, 92, 67, 8, 21, 94, 88, 97, 93, 71, 93, 86, 64, 83, 48, 46, 76, 87, 89, 88, 66, 45, 42, 29, 47, 11, 5, 5, 6, 30, 53, 92, 62, 36, 64, 93, 55, 77, 82, 24, 3, 9, 31, 58, 17, 33, 27, 47, 13, 19, 11, 24, 53, 8, 4, 78, 69, 59, 30, 50, 68, 63, 93, 68, 67, 31, 44, 40, 89, 69, 51, 52, 13, 28, 10, 29, 40, 90, 90, 15, 24, 56, 59, 69, 36, 63, 93, 91, 38, 45, 37, 71, 72, 34, 6, 19, 6, 14, 47, 80, 51, 7, 11, 6, 5, 11, 5, 6, 3, 13, 18, 40, 50, 48, 20, 21, 37, 45, 12, 6, 14, 15, 7, 22, 3, 25, 11, 4, 88, 63, 9, 21, 59, 83, 78, 15, 27, 5, 30, 73, 32, 20, 40, 95, 85, 19, 9, 69, 85, 49, 13, 33, 6, 4, 5, 26, 64, 15, 26, 36, 13, 7, 26, 8, 3, 36, 91, 92, 93, 80, 98, 56, 56, 47, 47, 55, 73, 91, 65, 62, 42, 48, 64, 87, 94, 19, 68, 11, 26, 39, 9, 22, 27, 6, 19, 9, 4, 83, 91, 96, 16, 65, 92, 78, 70, 43, 67, 14, 83, 77, 75, 72, 19, 88, 98, 50, 30, 31, 55, 18, 15, 49, 14, 16, 20, 11, 14, 8, 14, 7, 26, 86, 85, 97, 97, 90, 81, 19, 12, 74, 11, 14, 9, 22, 47, 42, 35, 92, 43, 12, 76, 94, 82, 91, 5, 30]}, {\"marker\": {\"color\": \"blue\", \"size\": 8, \"symbol\": \"square\"}, \"mode\": \"markers\", \"name\": \"team2\", \"text\": [\"Pass by player 3344\", \"Pass by player 116349\", \"Pass by player 135903\", \"Pass by player 138408\", \"Pass by player 21094\", \"Pass by player 3431\", \"Pass by player 138408\", \"Pass by player 21094\", \"Pass by player 14812\", \"Pass by player 69968\", \"Pass by player 3344\", \"Pass by player 21094\", \"Pass by player 138408\", \"Pass by player 116349\", \"Pass by player 138408\", \"Pass by player 135903\", \"Pass by player 20556\", \"Pass by player 20571\", \"Pass by player 69968\", \"Pass by player 138408\", \"Pass by player 20556\", \"Pass by player 116349\", \"Pass by player 138408\", \"Pass by player 116349\", \"Pass by player 69968\", \"Pass by player 116349\", \"Pass by player 69968\", \"Pass by player 14812\", \"Pass by player 69968\", \"Pass by player 3431\", \"Pass by player 116349\", \"Pass by player 69968\", \"Pass by player 3344\", \"Pass by player 69968\", \"Pass by player 21094\", \"Pass by player 69968\", \"Pass by player 116349\", \"Pass by player 3431\", \"Pass by player 69968\", \"Pass by player 21094\", \"Pass by player 69968\", \"Pass by player 69968\", \"Pass by player 14812\", \"Pass by player 206314\", \"Pass by player 14812\", \"Pass by player 20556\", \"Pass by player 138408\", \"Pass by player 20571\", \"Pass by player 21094\", \"Pass by player 69968\", \"Pass by player 14812\", \"Pass by player 3431\", \"Pass by player 21094\", \"Pass by player 14812\", \"Pass by player 21094\", \"Pass by player 69968\", \"Pass by player 138408\", \"Pass by player 135903\", \"Pass by player 138408\", \"Pass by player 21094\", \"Pass by player 14812\", \"Pass by player 3344\", \"Pass by player 3344\", \"Pass by player 116349\", \"Pass by player 20556\", \"Pass by player 135903\", \"Pass by player 3431\", \"Pass by player 138408\", \"Pass by player 21094\", \"Pass by player 14812\", \"Pass by player 21094\", \"Pass by player 116349\", \"Pass by player 3431\", \"Pass by player 138408\", \"Pass by player 135903\", \"Pass by player 69968\", \"Pass by player 138408\", \"Pass by player 69968\", \"Pass by player 21094\", \"Pass by player 3344\", \"Pass by player 206314\", \"Pass by player 116349\", \"Pass by player 206314\", \"Pass by player 20556\", \"Pass by player 69968\", \"Pass by player 116349\", \"Pass by player 116349\", \"Pass by player 3344\", \"Pass by player 21094\", \"Pass by player 3431\", \"Pass by player 21094\", \"Pass by player 69968\", \"Pass by player 3431\", \"Pass by player 138408\", \"Pass by player 135903\", \"Pass by player 20556\", \"Pass by player 116349\", \"Pass by player 20556\", \"Pass by player 69968\", \"Pass by player 21094\", \"Pass by player 69968\", \"Pass by player 116349\", \"Pass by player 20571\", \"Pass by player 3431\", \"Pass by player 116349\", \"Pass by player 3344\", \"Pass by player 69968\", \"Pass by player 20556\", \"Pass by player 138408\", \"Pass by player 135903\", \"Pass by player 69968\", \"Pass by player 3344\", \"Pass by player 138408\", \"Pass by player 69968\", \"Pass by player 21094\", \"Pass by player 14812\", \"Pass by player 3431\", \"Pass by player 135903\", \"Pass by player 20556\", \"Pass by player 69968\", \"Pass by player 3431\", \"Pass by player 21094\", \"Pass by player 3344\", \"Pass by player 69968\", \"Pass by player 3344\", \"Pass by player 138408\", \"Pass by player 135903\", \"Pass by player 20556\", \"Pass by player 135903\", \"Pass by player 20556\", \"Pass by player 135903\", \"Pass by player 21094\", \"Pass by player 14812\", \"Pass by player 69968\", \"Pass by player 135903\", \"Pass by player 20556\", \"Pass by player 138408\", \"Pass by player 116349\", \"Pass by player 20556\", \"Pass by player 21094\", \"Pass by player 3431\", \"Pass by player 21094\", \"Pass by player 21094\", \"Pass by player 116349\", \"Pass by player 3344\", \"Pass by player 3431\", \"Pass by player 20556\", \"Pass by player 21094\", \"Pass by player 3431\", \"Pass by player 138408\", \"Pass by player 69968\", \"Pass by player 21094\", \"Pass by player 69968\", \"Pass by player 135903\", \"Pass by player 69968\", \"Pass by player 3344\", \"Pass by player 69968\", \"Pass by player 3344\", \"Pass by player 116349\", \"Pass by player 3344\", \"Pass by player 20556\", \"Pass by player 138408\", \"Pass by player 135903\", \"Pass by player 20571\", \"Pass by player 21094\", \"Pass by player 20556\", \"Pass by player 3431\", \"Pass by player 138408\", \"Pass by player 3344\", \"Pass by player 69968\", \"Pass by player 14812\", \"Pass by player 3431\", \"Pass by player 14812\", \"Pass by player 20571\", \"Pass by player 21094\", \"Pass by player 20556\", \"Pass by player 14812\", \"Pass by player 21094\", \"Pass by player 20571\", \"Pass by player 3431\", \"Pass by player 116349\", \"Pass by player 21094\", \"Pass by player 3431\", \"Pass by player 138408\", \"Pass by player 135903\", \"Pass by player 138408\", \"Pass by player 21094\", \"Pass by player 206314\", \"Pass by player 69968\", \"Pass by player 3344\", \"Pass by player 14812\", \"Pass by player 138408\", \"Pass by player 69968\", \"Pass by player 20556\", \"Pass by player 3344\", \"Pass by player 21094\", \"Pass by player 3344\", \"Pass by player 135903\", \"Pass by player 138408\", \"Pass by player 21094\", \"Pass by player 20556\", \"Pass by player 21094\", \"Pass by player 135903\", \"Pass by player 138408\", \"Pass by player 3431\", \"Pass by player 21094\", \"Pass by player 20556\", \"Pass by player 3431\", \"Pass by player 69968\", \"Pass by player 206314\", \"Pass by player 138408\", \"Pass by player 135903\", \"Pass by player 116349\", \"Pass by player 21094\", \"Pass by player 20556\", \"Pass by player 21094\", \"Pass by player 3431\", \"Pass by player 138408\", \"Pass by player 3431\", \"Pass by player 69968\", \"Pass by player 14812\", \"Pass by player 21094\", \"Pass by player 69968\", \"Pass by player 135903\", \"Pass by player 116349\", \"Pass by player 3344\", \"Pass by player 69968\", \"Pass by player 116349\", \"Pass by player 14812\", \"Pass by player 135903\", \"Pass by player 116349\", \"Pass by player 21094\", \"Pass by player 69968\", \"Pass by player 21094\", \"Pass by player 3344\", \"Pass by player 69968\", \"Pass by player 20556\", \"Pass by player 3431\", \"Pass by player 116349\", \"Pass by player 135903\", \"Pass by player 138408\", \"Pass by player 3431\", \"Pass by player 21094\", \"Pass by player 20556\", \"Pass by player 21094\", \"Pass by player 14812\", \"Pass by player 20556\", \"Pass by player 135903\", \"Pass by player 135903\", \"Pass by player 138408\", \"Pass by player 14812\", \"Pass by player 3344\", \"Pass by player 21094\", \"Pass by player 69968\", \"Pass by player 3431\", \"Pass by player 3344\", \"Pass by player 3431\", \"Pass by player 69968\", \"Pass by player 116349\", \"Pass by player 138408\", \"Pass by player 116349\", \"Pass by player 135903\", \"Pass by player 135903\", \"Pass by player 3344\", \"Pass by player 69968\", \"Pass by player 20556\", \"Pass by player 69968\", \"Pass by player 3344\", \"Pass by player 14812\", \"Pass by player 3431\", \"Pass by player 116349\", \"Pass by player 135903\", \"Pass by player 3344\", \"Pass by player 116349\", \"Pass by player 21094\", \"Pass by player 20556\", \"Pass by player 116349\", \"Pass by player 3431\", \"Pass by player 3431\", \"Pass by player 14812\", \"Pass by player 14812\", \"Pass by player 206314\", \"Pass by player 138408\", \"Pass by player 14812\", \"Pass by player 116349\", \"Pass by player 21094\", \"Pass by player 3431\", \"Pass by player 138408\", \"Pass by player 135903\", \"Pass by player 69968\", \"Pass by player 3431\", \"Pass by player 21094\", \"Pass by player 20556\", \"Pass by player 21094\", \"Pass by player 3431\", \"Pass by player 20556\", \"Pass by player 14812\", \"Pass by player 3344\", \"Pass by player 69968\", \"Pass by player 116349\", \"Pass by player 135903\", \"Pass by player 116349\", \"Pass by player 3344\", \"Pass by player 69968\", \"Pass by player 3431\", \"Pass by player 21094\", \"Pass by player 3344\", \"Pass by player 20556\", \"Pass by player 14812\", \"Pass by player 206314\", \"Pass by player 138408\", \"Pass by player 138408\", \"Pass by player 135903\", \"Pass by player 20571\", \"Pass by player 135903\", \"Pass by player 20556\", \"Pass by player 69968\", \"Pass by player 3344\", \"Pass by player 21094\", \"Pass by player 3344\", \"Pass by player 69968\", \"Pass by player 116349\", \"Pass by player 21094\", \"Pass by player 14812\", \"Pass by player 3431\", \"Pass by player 135903\", \"Pass by player 69968\", \"Pass by player 3344\", \"Pass by player 20556\", \"Pass by player 135903\", \"Pass by player 116349\", \"Pass by player 69968\", \"Pass by player 3431\", \"Pass by player 20556\", \"Pass by player 21094\", \"Pass by player 14812\", \"Pass by player 69968\", \"Pass by player 14812\", \"Pass by player 135903\", \"Pass by player 138408\", \"Pass by player 116349\", \"Pass by player 3344\", \"Pass by player 21094\", \"Pass by player 69968\", \"Pass by player 20556\", \"Pass by player 69968\", \"Pass by player 3344\", \"Pass by player 138408\", \"Pass by player 135903\", \"Pass by player 138408\", \"Pass by player 135903\", \"Pass by player 69968\", \"Pass by player 3431\", \"Pass by player 20556\", \"Pass by player 21094\", \"Pass by player 69968\", \"Pass by player 3344\", \"Pass by player 69968\", \"Pass by player 3344\", \"Pass by player 21094\", \"Pass by player 69968\", \"Pass by player 138408\", \"Pass by player 135903\", \"Pass by player 138408\", \"Pass by player 3431\", \"Pass by player 21094\", \"Pass by player 14812\", \"Pass by player 116349\", \"Pass by player 135903\", \"Pass by player 20571\", \"Pass by player 138408\", \"Pass by player 3344\", \"Pass by player 116349\", \"Pass by player 21094\", \"Pass by player 14812\", \"Pass by player 135903\", \"Pass by player 69968\", \"Pass by player 20626\", \"Pass by player 69968\", \"Pass by player 138408\", \"Pass by player 21094\", \"Pass by player 116349\", \"Pass by player 69968\", \"Pass by player 116349\", \"Pass by player 3431\", \"Pass by player 138408\", \"Pass by player 3431\", \"Pass by player 116349\", \"Pass by player 69968\", \"Pass by player 21094\", \"Pass by player 20571\", \"Pass by player 138408\", \"Pass by player 69968\", \"Pass by player 14812\", \"Pass by player 69968\", \"Pass by player 21094\", \"Pass by player 138408\", \"Pass by player 3431\", \"Pass by player 116349\", \"Pass by player 135903\", \"Pass by player 3431\", \"Pass by player 21094\", \"Pass by player 14812\", \"Pass by player 3344\", \"Pass by player 69968\", \"Pass by player 3344\", \"Pass by player 20571\", \"Pass by player 3431\", \"Pass by player 69968\", \"Pass by player 21094\", \"Pass by player 3431\", \"Pass by player 116349\", \"Pass by player 69968\", \"Pass by player 3344\", \"Pass by player 21094\", \"Pass by player 116349\", \"Pass by player 69968\", \"Pass by player 135903\", \"Pass by player 116349\", \"Pass by player 135903\", \"Pass by player 69968\", \"Pass by player 138408\", \"Pass by player 3431\", \"Pass by player 21094\", \"Pass by player 116349\", \"Pass by player 69968\", \"Pass by player 116349\", \"Pass by player 138408\", \"Pass by player 69968\", \"Pass by player 20626\", \"Pass by player 3431\", \"Pass by player 138408\", \"Pass by player 3431\", \"Pass by player 21094\", \"Pass by player 3431\", \"Pass by player 21094\", \"Pass by player 3431\", \"Pass by player 116349\", \"Pass by player 138408\", \"Pass by player 135903\", \"Pass by player 116349\", \"Pass by player 14812\", \"Pass by player 3431\", \"Pass by player 21094\", \"Pass by player 138408\", \"Pass by player 69968\", \"Pass by player 138408\", \"Pass by player 14812\", \"Pass by player 21094\", \"Pass by player 69968\", \"Pass by player 135903\", \"Pass by player 20571\", \"Pass by player 21094\", \"Pass by player 116349\", \"Pass by player 138408\", \"Pass by player 206314\", \"Pass by player 69968\", \"Pass by player 20626\", \"Pass by player 116349\", \"Pass by player 69968\", \"Pass by player 20626\", \"Pass by player 3431\", \"Pass by player 116349\", \"Pass by player 69968\", \"Pass by player 14812\", \"Pass by player 138408\", \"Pass by player 20519\", \"Pass by player 3431\", \"Pass by player 20571\", \"Pass by player 3431\", \"Pass by player 20571\", \"Pass by player 135903\", \"Pass by player 116349\", \"Pass by player 135903\", \"Pass by player 135903\", \"Pass by player 135903\", \"Pass by player 69968\", \"Pass by player 116349\", \"Pass by player 3431\", \"Pass by player 352993\", \"Pass by player 69968\", \"Pass by player 14812\", \"Pass by player 69968\", \"Pass by player 20626\", \"Pass by player 14812\", \"Pass by player 138408\", \"Pass by player 20571\", \"Pass by player 69968\", \"Pass by player 206314\", \"Pass by player 20626\", \"Pass by player 14812\", \"Pass by player 206314\"], \"type\": \"scatter\", \"x\": [49, 38, 37, 34, 36, 30, 21, 30, 46, 47, 48, 31, 35, 37, 38, 44, 40, 11, 45, 46, 62, 50, 33, 36, 35, 56, 67, 89, 57, 39, 54, 53, 67, 56, 59, 56, 54, 30, 48, 66, 63, 33, 45, 75, 94, 72, 42, 14, 33, 41, 93, 5, 5, 43, 23, 35, 39, 43, 35, 40, 47, 61, 49, 37, 44, 36, 32, 30, 41, 47, 35, 31, 29, 39, 41, 46, 37, 32, 28, 44, 52, 59, 73, 72, 67, 62, 82, 71, 62, 48, 60, 58, 30, 40, 48, 39, 47, 49, 59, 68, 62, 65, 13, 20, 29, 43, 39, 66, 16, 12, 31, 44, 41, 56, 61, 66, 49, 66, 64, 53, 48, 63, 65, 53, 56, 56, 63, 59, 59, 63, 58, 62, 66, 32, 58, 62, 38, 51, 47, 40, 32, 45, 60, 23, 15, 30, 31, 32, 31, 42, 47, 35, 44, 64, 14, 34, 36, 69, 70, 71, 98, 63, 57, 13, 26, 34, 29, 41, 49, 64, 94, 20, 35, 7, 44, 67, 61, 41, 12, 23, 34, 35, 29, 37, 41, 39, 36, 68, 64, 12, 61, 60, 66, 80, 14, 41, 66, 53, 47, 44, 51, 39, 10, 29, 31, 38, 34, 26, 55, 69, 28, 39, 34, 35, 55, 35, 29, 38, 32, 52, 69, 59, 51, 60, 47, 68, 62, 62, 73, 97, 44, 35, 41, 48, 68, 61, 60, 51, 57, 66, 45, 49, 59, 68, 50, 75, 75, 57, 26, 44, 53, 66, 29, 61, 32, 46, 31, 35, 44, 37, 40, 42, 48, 59, 62, 69, 66, 74, 65, 54, 55, 65, 72, 70, 71, 80, 35, 24, 29, 23, 9, 47, 33, 49, 33, 14, 12, 32, 34, 38, 39, 54, 62, 46, 38, 63, 61, 76, 65, 62, 67, 96, 83, 65, 64, 52, 67, 93, 92, 90, 11, 14, 24, 16, 33, 40, 33, 46, 28, 60, 64, 54, 54, 70, 26, 34, 36, 59, 65, 67, 68, 72, 29, 42, 23, 42, 33, 35, 39, 33, 43, 52, 61, 61, 70, 56, 59, 60, 95, 34, 32, 38, 47, 61, 36, 52, 64, 70, 66, 54, 70, 30, 39, 29, 27, 36, 38, 52, 11, 3, 29, 33, 26, 56, 82, 31, 37, 61, 53, 33, 29, 35, 46, 43, 39, 42, 41, 68, 68, 21, 11, 32, 32, 61, 60, 57, 49, 43, 61, 70, 57, 62, 38, 36, 31, 42, 11, 30, 38, 47, 45, 47, 61, 60, 55, 67, 65, 82, 50, 58, 52, 30, 29, 36, 50, 55, 61, 49, 60, 73, 29, 34, 29, 28, 32, 57, 45, 56, 50, 56, 73, 90, 37, 40, 44, 51, 46, 44, 34, 55, 27, 10, 32, 35, 38, 68, 57, 72, 51, 63, 67, 57, 61, 62, 75, 26, 26, 28, 6, 20, 13, 58, 60, 69, 96, 34, 60, 59, 42, 66, 55, 67, 87, 73, 8, 25, 13, 42, 64, 90, 62, 59], \"y\": [50, 58, 91, 72, 14, 39, 55, 9, 10, 22, 32, 18, 70, 63, 70, 90, 80, 42, 24, 87, 81, 67, 83, 77, 61, 51, 39, 10, 12, 35, 42, 27, 34, 28, 9, 18, 33, 34, 20, 3, 22, 71, 34, 37, 12, 88, 71, 64, 29, 14, 10, 5, 19, 10, 3, 47, 79, 92, 80, 15, 9, 23, 41, 55, 90, 88, 55, 62, 21, 14, 16, 35, 45, 81, 93, 74, 74, 61, 31, 76, 50, 32, 43, 54, 41, 63, 87, 88, 40, 45, 24, 51, 27, 72, 91, 66, 78, 71, 48, 26, 33, 73, 58, 54, 72, 54, 65, 77, 54, 70, 51, 74, 66, 43, 17, 13, 29, 85, 96, 55, 51, 23, 27, 30, 48, 77, 93, 88, 95, 91, 71, 24, 10, 57, 88, 95, 74, 83, 91, 23, 52, 18, 27, 69, 67, 24, 11, 11, 32, 65, 53, 9, 37, 92, 61, 76, 58, 65, 43, 45, 12, 90, 87, 49, 27, 12, 54, 77, 68, 22, 34, 65, 54, 56, 16, 10, 22, 17, 54, 36, 48, 13, 40, 72, 94, 78, 25, 58, 68, 64, 25, 74, 65, 25, 88, 9, 77, 84, 70, 25, 12, 18, 74, 72, 45, 13, 5, 31, 31, 58, 83, 94, 78, 34, 11, 23, 38, 75, 59, 28, 15, 12, 38, 94, 49, 74, 48, 72, 34, 88, 56, 26, 39, 10, 48, 20, 11, 43, 68, 94, 75, 56, 18, 13, 14, 21, 9, 75, 83, 72, 54, 74, 31, 14, 49, 50, 44, 53, 53, 75, 73, 90, 81, 70, 33, 14, 30, 38, 12, 26, 44, 83, 62, 58, 27, 6, 73, 66, 61, 40, 44, 50, 73, 58, 75, 21, 49, 70, 91, 77, 48, 16, 12, 16, 40, 4, 2, 40, 33, 39, 92, 93, 42, 38, 65, 47, 26, 7, 9, 93, 83, 86, 93, 46, 85, 17, 34, 50, 15, 24, 40, 31, 14, 23, 50, 77, 45, 38, 11, 65, 49, 16, 44, 12, 23, 18, 24, 34, 90, 84, 65, 68, 19, 11, 3, 16, 30, 75, 91, 68, 84, 73, 56, 21, 26, 49, 39, 46, 37, 22, 14, 86, 84, 80, 44, 12, 14, 48, 74, 53, 85, 75, 43, 7, 5, 50, 24, 22, 23, 61, 24, 41, 47, 26, 44, 70, 48, 27, 64, 5, 48, 62, 34, 4, 18, 21, 80, 49, 71, 77, 71, 12, 19, 46, 27, 24, 74, 50, 54, 28, 47, 49, 39, 49, 24, 32, 50, 80, 74, 90, 73, 80, 44, 16, 32, 17, 15, 83, 56, 33, 50, 77, 47, 23, 45, 15, 40, 53, 55, 78, 71, 24, 58, 15, 79, 55, 74, 13, 19, 21, 80, 53, 14, 47, 77, 47, 50, 18, 59, 18, 7, 38, 50, 12, 12, 49, 88, 41, 50, 33, 62, 91, 77, 96, 96, 88, 15, 37, 17, 14, 20, 5, 12, 11, 65, 49, 45, 70, 55, 73, 15, 84]}],\n",
       "                        {\"autosize\": false, \"height\": 600, \"hovermode\": \"closest\", \"plot_bgcolor\": \"rgb(255, 255, 255)\", \"shapes\": [{\"line\": {\"color\": \"black\"}, \"type\": \"circle\", \"x0\": 40, \"x1\": 60, \"xref\": \"x\", \"y0\": 35, \"y1\": 65, \"yref\": \"y\"}, {\"line\": {\"color\": \"black\"}, \"type\": \"line\", \"x0\": 0, \"x1\": 10, \"xref\": \"x\", \"y0\": 35, \"y1\": 35, \"yref\": \"y\"}, {\"line\": {\"color\": \"black\"}, \"type\": \"line\", \"x0\": 10, \"x1\": 10, \"xref\": \"x\", \"y0\": 35, \"y1\": 65, \"yref\": \"y\"}, {\"line\": {\"color\": \"black\"}, \"type\": \"line\", \"x0\": 10, \"x1\": 0, \"xref\": \"x\", \"y0\": 65, \"y1\": 65, \"yref\": \"y\"}, {\"line\": {\"color\": \"black\"}, \"type\": \"line\", \"x0\": 100, \"x1\": 90, \"xref\": \"x\", \"y0\": 35, \"y1\": 35, \"yref\": \"y\"}, {\"line\": {\"color\": \"black\"}, \"type\": \"line\", \"x0\": 90, \"x1\": 90, \"xref\": \"x\", \"y0\": 35, \"y1\": 65, \"yref\": \"y\"}, {\"line\": {\"color\": \"black\"}, \"type\": \"line\", \"x0\": 90, \"x1\": 100, \"xref\": \"x\", \"y0\": 65, \"y1\": 65, \"yref\": \"y\"}, {\"line\": {\"color\": \"black\"}, \"type\": \"line\", \"x0\": 50, \"x1\": 50, \"xref\": \"x\", \"y0\": 100, \"y1\": 0, \"yref\": \"y\"}, {\"line\": {\"color\": \"black\"}, \"type\": \"line\", \"x0\": 0, \"x1\": 0, \"xref\": \"x\", \"y0\": 0, \"y1\": 100, \"yref\": \"y\"}, {\"line\": {\"color\": \"black\"}, \"type\": \"line\", \"x0\": 100, \"x1\": 100, \"xref\": \"x\", \"y0\": 0, \"y1\": 100, \"yref\": \"y\"}, {\"line\": {\"color\": \"black\"}, \"type\": \"line\", \"x0\": 0, \"x1\": 100, \"xref\": \"x\", \"y0\": 100, \"y1\": 100, \"yref\": \"y\"}, {\"line\": {\"color\": \"black\"}, \"type\": \"line\", \"x0\": 0, \"x1\": 100, \"xref\": \"x\", \"y0\": 0, \"y1\": 0, \"yref\": \"y\"}], \"template\": {\"data\": {\"bar\": [{\"error_x\": {\"color\": \"#2a3f5f\"}, \"error_y\": {\"color\": \"#2a3f5f\"}, \"marker\": {\"line\": {\"color\": \"#E5ECF6\", \"width\": 0.5}}, \"type\": \"bar\"}], \"barpolar\": [{\"marker\": {\"line\": {\"color\": \"#E5ECF6\", \"width\": 0.5}}, \"type\": \"barpolar\"}], \"carpet\": [{\"aaxis\": {\"endlinecolor\": \"#2a3f5f\", \"gridcolor\": \"white\", \"linecolor\": \"white\", \"minorgridcolor\": \"white\", \"startlinecolor\": \"#2a3f5f\"}, \"baxis\": {\"endlinecolor\": \"#2a3f5f\", \"gridcolor\": \"white\", \"linecolor\": \"white\", \"minorgridcolor\": \"white\", \"startlinecolor\": \"#2a3f5f\"}, \"type\": \"carpet\"}], \"choropleth\": [{\"colorbar\": {\"outlinewidth\": 0, \"ticks\": \"\"}, \"type\": \"choropleth\"}], \"contour\": [{\"colorbar\": {\"outlinewidth\": 0, \"ticks\": \"\"}, \"colorscale\": [[0.0, \"#0d0887\"], [0.1111111111111111, \"#46039f\"], [0.2222222222222222, \"#7201a8\"], [0.3333333333333333, \"#9c179e\"], [0.4444444444444444, \"#bd3786\"], [0.5555555555555556, \"#d8576b\"], [0.6666666666666666, \"#ed7953\"], [0.7777777777777778, \"#fb9f3a\"], [0.8888888888888888, \"#fdca26\"], [1.0, \"#f0f921\"]], \"type\": \"contour\"}], \"contourcarpet\": [{\"colorbar\": {\"outlinewidth\": 0, \"ticks\": \"\"}, \"type\": \"contourcarpet\"}], \"heatmap\": [{\"colorbar\": {\"outlinewidth\": 0, \"ticks\": \"\"}, \"colorscale\": [[0.0, \"#0d0887\"], [0.1111111111111111, \"#46039f\"], [0.2222222222222222, \"#7201a8\"], [0.3333333333333333, \"#9c179e\"], [0.4444444444444444, \"#bd3786\"], [0.5555555555555556, \"#d8576b\"], [0.6666666666666666, \"#ed7953\"], [0.7777777777777778, \"#fb9f3a\"], [0.8888888888888888, \"#fdca26\"], [1.0, \"#f0f921\"]], \"type\": \"heatmap\"}], \"heatmapgl\": [{\"colorbar\": {\"outlinewidth\": 0, \"ticks\": \"\"}, \"colorscale\": [[0.0, \"#0d0887\"], [0.1111111111111111, \"#46039f\"], [0.2222222222222222, \"#7201a8\"], [0.3333333333333333, \"#9c179e\"], [0.4444444444444444, \"#bd3786\"], [0.5555555555555556, \"#d8576b\"], [0.6666666666666666, \"#ed7953\"], [0.7777777777777778, \"#fb9f3a\"], [0.8888888888888888, \"#fdca26\"], [1.0, \"#f0f921\"]], \"type\": \"heatmapgl\"}], \"histogram\": [{\"marker\": {\"colorbar\": {\"outlinewidth\": 0, \"ticks\": \"\"}}, \"type\": \"histogram\"}], \"histogram2d\": [{\"colorbar\": {\"outlinewidth\": 0, \"ticks\": \"\"}, \"colorscale\": [[0.0, \"#0d0887\"], [0.1111111111111111, \"#46039f\"], [0.2222222222222222, \"#7201a8\"], [0.3333333333333333, \"#9c179e\"], [0.4444444444444444, \"#bd3786\"], [0.5555555555555556, \"#d8576b\"], [0.6666666666666666, \"#ed7953\"], [0.7777777777777778, \"#fb9f3a\"], [0.8888888888888888, \"#fdca26\"], [1.0, \"#f0f921\"]], \"type\": \"histogram2d\"}], \"histogram2dcontour\": [{\"colorbar\": {\"outlinewidth\": 0, \"ticks\": \"\"}, \"colorscale\": [[0.0, \"#0d0887\"], [0.1111111111111111, \"#46039f\"], [0.2222222222222222, \"#7201a8\"], [0.3333333333333333, \"#9c179e\"], [0.4444444444444444, \"#bd3786\"], [0.5555555555555556, \"#d8576b\"], [0.6666666666666666, \"#ed7953\"], [0.7777777777777778, \"#fb9f3a\"], [0.8888888888888888, \"#fdca26\"], [1.0, \"#f0f921\"]], \"type\": \"histogram2dcontour\"}], \"mesh3d\": [{\"colorbar\": {\"outlinewidth\": 0, \"ticks\": \"\"}, \"type\": \"mesh3d\"}], \"parcoords\": [{\"line\": {\"colorbar\": {\"outlinewidth\": 0, \"ticks\": \"\"}}, \"type\": \"parcoords\"}], \"pie\": [{\"automargin\": true, \"type\": \"pie\"}], \"scatter\": [{\"marker\": {\"colorbar\": {\"outlinewidth\": 0, \"ticks\": \"\"}}, \"type\": \"scatter\"}], \"scatter3d\": [{\"line\": {\"colorbar\": {\"outlinewidth\": 0, \"ticks\": \"\"}}, \"marker\": {\"colorbar\": {\"outlinewidth\": 0, \"ticks\": \"\"}}, \"type\": \"scatter3d\"}], \"scattercarpet\": [{\"marker\": {\"colorbar\": {\"outlinewidth\": 0, \"ticks\": \"\"}}, \"type\": \"scattercarpet\"}], \"scattergeo\": [{\"marker\": {\"colorbar\": {\"outlinewidth\": 0, \"ticks\": \"\"}}, \"type\": \"scattergeo\"}], \"scattergl\": [{\"marker\": {\"colorbar\": {\"outlinewidth\": 0, \"ticks\": \"\"}}, \"type\": \"scattergl\"}], \"scattermapbox\": [{\"marker\": {\"colorbar\": {\"outlinewidth\": 0, \"ticks\": \"\"}}, \"type\": \"scattermapbox\"}], \"scatterpolar\": [{\"marker\": {\"colorbar\": {\"outlinewidth\": 0, \"ticks\": \"\"}}, \"type\": \"scatterpolar\"}], \"scatterpolargl\": [{\"marker\": {\"colorbar\": {\"outlinewidth\": 0, \"ticks\": \"\"}}, \"type\": \"scatterpolargl\"}], \"scatterternary\": [{\"marker\": {\"colorbar\": {\"outlinewidth\": 0, \"ticks\": \"\"}}, \"type\": \"scatterternary\"}], \"surface\": [{\"colorbar\": {\"outlinewidth\": 0, \"ticks\": \"\"}, \"colorscale\": [[0.0, \"#0d0887\"], [0.1111111111111111, \"#46039f\"], [0.2222222222222222, \"#7201a8\"], [0.3333333333333333, \"#9c179e\"], [0.4444444444444444, \"#bd3786\"], [0.5555555555555556, \"#d8576b\"], [0.6666666666666666, \"#ed7953\"], [0.7777777777777778, \"#fb9f3a\"], [0.8888888888888888, \"#fdca26\"], [1.0, \"#f0f921\"]], \"type\": \"surface\"}], \"table\": [{\"cells\": {\"fill\": {\"color\": \"#EBF0F8\"}, \"line\": {\"color\": \"white\"}}, \"header\": {\"fill\": {\"color\": \"#C8D4E3\"}, \"line\": {\"color\": \"white\"}}, \"type\": \"table\"}]}, \"layout\": {\"annotationdefaults\": {\"arrowcolor\": \"#2a3f5f\", \"arrowhead\": 0, \"arrowwidth\": 1}, \"coloraxis\": {\"colorbar\": {\"outlinewidth\": 0, \"ticks\": \"\"}}, \"colorscale\": {\"diverging\": [[0, \"#8e0152\"], [0.1, \"#c51b7d\"], [0.2, \"#de77ae\"], [0.3, \"#f1b6da\"], [0.4, \"#fde0ef\"], [0.5, \"#f7f7f7\"], [0.6, \"#e6f5d0\"], [0.7, \"#b8e186\"], [0.8, \"#7fbc41\"], [0.9, \"#4d9221\"], [1, \"#276419\"]], \"sequential\": [[0.0, \"#0d0887\"], [0.1111111111111111, \"#46039f\"], [0.2222222222222222, \"#7201a8\"], [0.3333333333333333, \"#9c179e\"], [0.4444444444444444, \"#bd3786\"], [0.5555555555555556, \"#d8576b\"], [0.6666666666666666, \"#ed7953\"], [0.7777777777777778, \"#fb9f3a\"], [0.8888888888888888, \"#fdca26\"], [1.0, \"#f0f921\"]], \"sequentialminus\": [[0.0, \"#0d0887\"], [0.1111111111111111, \"#46039f\"], [0.2222222222222222, \"#7201a8\"], [0.3333333333333333, \"#9c179e\"], [0.4444444444444444, \"#bd3786\"], [0.5555555555555556, \"#d8576b\"], [0.6666666666666666, \"#ed7953\"], [0.7777777777777778, \"#fb9f3a\"], [0.8888888888888888, \"#fdca26\"], [1.0, \"#f0f921\"]]}, \"colorway\": [\"#636efa\", \"#EF553B\", \"#00cc96\", \"#ab63fa\", \"#FFA15A\", \"#19d3f3\", \"#FF6692\", \"#B6E880\", \"#FF97FF\", \"#FECB52\"], \"font\": {\"color\": \"#2a3f5f\"}, \"geo\": {\"bgcolor\": \"white\", \"lakecolor\": \"white\", \"landcolor\": \"#E5ECF6\", \"showlakes\": true, \"showland\": true, \"subunitcolor\": \"white\"}, \"hoverlabel\": {\"align\": \"left\"}, \"hovermode\": \"closest\", \"mapbox\": {\"style\": \"light\"}, \"paper_bgcolor\": \"white\", \"plot_bgcolor\": \"#E5ECF6\", \"polar\": {\"angularaxis\": {\"gridcolor\": \"white\", \"linecolor\": \"white\", \"ticks\": \"\"}, \"bgcolor\": \"#E5ECF6\", \"radialaxis\": {\"gridcolor\": \"white\", \"linecolor\": \"white\", \"ticks\": \"\"}}, \"scene\": {\"xaxis\": {\"backgroundcolor\": \"#E5ECF6\", \"gridcolor\": \"white\", \"gridwidth\": 2, \"linecolor\": \"white\", \"showbackground\": true, \"ticks\": \"\", \"zerolinecolor\": \"white\"}, \"yaxis\": {\"backgroundcolor\": \"#E5ECF6\", \"gridcolor\": \"white\", \"gridwidth\": 2, \"linecolor\": \"white\", \"showbackground\": true, \"ticks\": \"\", \"zerolinecolor\": \"white\"}, \"zaxis\": {\"backgroundcolor\": \"#E5ECF6\", \"gridcolor\": \"white\", \"gridwidth\": 2, \"linecolor\": \"white\", \"showbackground\": true, \"ticks\": \"\", \"zerolinecolor\": \"white\"}}, \"shapedefaults\": {\"line\": {\"color\": \"#2a3f5f\"}}, \"ternary\": {\"aaxis\": {\"gridcolor\": \"white\", \"linecolor\": \"white\", \"ticks\": \"\"}, \"baxis\": {\"gridcolor\": \"white\", \"linecolor\": \"white\", \"ticks\": \"\"}, \"bgcolor\": \"#E5ECF6\", \"caxis\": {\"gridcolor\": \"white\", \"linecolor\": \"white\", \"ticks\": \"\"}}, \"title\": {\"x\": 0.05}, \"xaxis\": {\"automargin\": true, \"gridcolor\": \"white\", \"linecolor\": \"white\", \"ticks\": \"\", \"title\": {\"standoff\": 15}, \"zerolinecolor\": \"white\", \"zerolinewidth\": 2}, \"yaxis\": {\"automargin\": true, \"gridcolor\": \"white\", \"linecolor\": \"white\", \"ticks\": \"\", \"title\": {\"standoff\": 15}, \"zerolinecolor\": \"white\", \"zerolinewidth\": 2}}}, \"title\": {\"text\": \"Lazio - Internazionale, 2 - 3\"}, \"width\": 825, \"xaxis\": {\"range\": [0, 100], \"showgrid\": false, \"showticklabels\": false}, \"yaxis\": {\"range\": [0, 100], \"showgrid\": false, \"showticklabels\": false}},\n",
       "                        {\"responsive\": true}\n",
       "                    ).then(function(){\n",
       "                            \n",
       "var gd = document.getElementById('c61d15da-f612-4363-b622-59de12983632');\n",
       "var x = new MutationObserver(function (mutations, observer) {{\n",
       "        var display = window.getComputedStyle(gd).display;\n",
       "        if (!display || display === 'none') {{\n",
       "            console.log([gd, 'removed!']);\n",
       "            Plotly.purge(gd);\n",
       "            observer.disconnect();\n",
       "        }}\n",
       "}});\n",
       "\n",
       "// Listen for the removal of the full notebook cells\n",
       "var notebookContainer = gd.closest('#notebook-container');\n",
       "if (notebookContainer) {{\n",
       "    x.observe(notebookContainer, {childList: true});\n",
       "}}\n",
       "\n",
       "// Listen for the clearing of the current output cell\n",
       "var outputEl = gd.closest('.output');\n",
       "if (outputEl) {{\n",
       "    x.observe(outputEl, {childList: true});\n",
       "}}\n",
       "\n",
       "                        })\n",
       "                };\n",
       "                });\n",
       "            </script>\n",
       "        </div>"
      ]
     },
     "metadata": {},
     "output_type": "display_data"
    }
   ],
   "source": [
    "visualize_events(match_label, event_name='Pass')"
   ]
  },
  {
   "cell_type": "code",
   "execution_count": 18,
   "metadata": {},
   "outputs": [
    {
     "data": {
      "application/vnd.plotly.v1+json": {
       "config": {
        "linkText": "Export to plot.ly",
        "plotlyServerURL": "https://plot.ly",
        "showLink": false
       },
       "data": [
        {
         "marker": {
          "color": "red",
          "size": 8
         },
         "mode": "markers",
         "name": "team1",
         "text": [
          "Foul by player 40806",
          "Foul by player 376362",
          "Foul by player 20561",
          "Foul by player 7965",
          "Foul by player 265865",
          "Foul by player 265865",
          "Foul by player 166534",
          "Foul by player 130",
          "Foul by player 20561",
          "Foul by player 7926",
          "Foul by player 346908",
          "Foul by player 376362",
          "Foul by player 7965",
          "Foul by player 4792"
         ],
         "type": "scatter",
         "x": [
          69,
          88,
          59,
          61,
          75,
          68,
          4,
          11,
          70,
          64,
          16,
          14,
          79,
          61
         ],
         "y": [
          93,
          5,
          6,
          31,
          15,
          32,
          56,
          53,
          27,
          87,
          12,
          87,
          56,
          11
         ]
        },
        {
         "marker": {
          "color": "blue",
          "size": 8,
          "symbol": "square"
         },
         "mode": "markers",
         "name": "team2",
         "text": [
          "Foul by player 69968",
          "Foul by player 69968",
          "Foul by player 3344",
          "Foul by player 116349",
          "Foul by player 3431",
          "Foul by player 135903",
          "Foul by player 21094",
          "Foul by player 21094",
          "Foul by player 138408",
          "Foul by player 116349",
          "Foul by player 20626",
          "Foul by player 14812",
          "Foul by player 116349",
          "Foul by player 20626"
         ],
         "type": "scatter",
         "x": [
          41,
          35,
          65,
          39,
          24,
          70,
          27,
          60,
          40,
          35,
          55,
          66,
          89,
          70
         ],
         "y": [
          12,
          44,
          27,
          72,
          32,
          99,
          39,
          27,
          37,
          68,
          25,
          4,
          81,
          17
         ]
        }
       ],
       "layout": {
        "autosize": false,
        "height": 600,
        "hovermode": "closest",
        "plot_bgcolor": "rgb(255, 255, 255)",
        "shapes": [
         {
          "line": {
           "color": "black"
          },
          "type": "circle",
          "x0": 40,
          "x1": 60,
          "xref": "x",
          "y0": 35,
          "y1": 65,
          "yref": "y"
         },
         {
          "line": {
           "color": "black"
          },
          "type": "line",
          "x0": 0,
          "x1": 10,
          "xref": "x",
          "y0": 35,
          "y1": 35,
          "yref": "y"
         },
         {
          "line": {
           "color": "black"
          },
          "type": "line",
          "x0": 10,
          "x1": 10,
          "xref": "x",
          "y0": 35,
          "y1": 65,
          "yref": "y"
         },
         {
          "line": {
           "color": "black"
          },
          "type": "line",
          "x0": 10,
          "x1": 0,
          "xref": "x",
          "y0": 65,
          "y1": 65,
          "yref": "y"
         },
         {
          "line": {
           "color": "black"
          },
          "type": "line",
          "x0": 100,
          "x1": 90,
          "xref": "x",
          "y0": 35,
          "y1": 35,
          "yref": "y"
         },
         {
          "line": {
           "color": "black"
          },
          "type": "line",
          "x0": 90,
          "x1": 90,
          "xref": "x",
          "y0": 35,
          "y1": 65,
          "yref": "y"
         },
         {
          "line": {
           "color": "black"
          },
          "type": "line",
          "x0": 90,
          "x1": 100,
          "xref": "x",
          "y0": 65,
          "y1": 65,
          "yref": "y"
         },
         {
          "line": {
           "color": "black"
          },
          "type": "line",
          "x0": 50,
          "x1": 50,
          "xref": "x",
          "y0": 100,
          "y1": 0,
          "yref": "y"
         },
         {
          "line": {
           "color": "black"
          },
          "type": "line",
          "x0": 0,
          "x1": 0,
          "xref": "x",
          "y0": 0,
          "y1": 100,
          "yref": "y"
         },
         {
          "line": {
           "color": "black"
          },
          "type": "line",
          "x0": 100,
          "x1": 100,
          "xref": "x",
          "y0": 0,
          "y1": 100,
          "yref": "y"
         },
         {
          "line": {
           "color": "black"
          },
          "type": "line",
          "x0": 0,
          "x1": 100,
          "xref": "x",
          "y0": 100,
          "y1": 100,
          "yref": "y"
         },
         {
          "line": {
           "color": "black"
          },
          "type": "line",
          "x0": 0,
          "x1": 100,
          "xref": "x",
          "y0": 0,
          "y1": 0,
          "yref": "y"
         }
        ],
        "template": {
         "data": {
          "bar": [
           {
            "error_x": {
             "color": "#2a3f5f"
            },
            "error_y": {
             "color": "#2a3f5f"
            },
            "marker": {
             "line": {
              "color": "#E5ECF6",
              "width": 0.5
             }
            },
            "type": "bar"
           }
          ],
          "barpolar": [
           {
            "marker": {
             "line": {
              "color": "#E5ECF6",
              "width": 0.5
             }
            },
            "type": "barpolar"
           }
          ],
          "carpet": [
           {
            "aaxis": {
             "endlinecolor": "#2a3f5f",
             "gridcolor": "white",
             "linecolor": "white",
             "minorgridcolor": "white",
             "startlinecolor": "#2a3f5f"
            },
            "baxis": {
             "endlinecolor": "#2a3f5f",
             "gridcolor": "white",
             "linecolor": "white",
             "minorgridcolor": "white",
             "startlinecolor": "#2a3f5f"
            },
            "type": "carpet"
           }
          ],
          "choropleth": [
           {
            "colorbar": {
             "outlinewidth": 0,
             "ticks": ""
            },
            "type": "choropleth"
           }
          ],
          "contour": [
           {
            "colorbar": {
             "outlinewidth": 0,
             "ticks": ""
            },
            "colorscale": [
             [
              0,
              "#0d0887"
             ],
             [
              0.1111111111111111,
              "#46039f"
             ],
             [
              0.2222222222222222,
              "#7201a8"
             ],
             [
              0.3333333333333333,
              "#9c179e"
             ],
             [
              0.4444444444444444,
              "#bd3786"
             ],
             [
              0.5555555555555556,
              "#d8576b"
             ],
             [
              0.6666666666666666,
              "#ed7953"
             ],
             [
              0.7777777777777778,
              "#fb9f3a"
             ],
             [
              0.8888888888888888,
              "#fdca26"
             ],
             [
              1,
              "#f0f921"
             ]
            ],
            "type": "contour"
           }
          ],
          "contourcarpet": [
           {
            "colorbar": {
             "outlinewidth": 0,
             "ticks": ""
            },
            "type": "contourcarpet"
           }
          ],
          "heatmap": [
           {
            "colorbar": {
             "outlinewidth": 0,
             "ticks": ""
            },
            "colorscale": [
             [
              0,
              "#0d0887"
             ],
             [
              0.1111111111111111,
              "#46039f"
             ],
             [
              0.2222222222222222,
              "#7201a8"
             ],
             [
              0.3333333333333333,
              "#9c179e"
             ],
             [
              0.4444444444444444,
              "#bd3786"
             ],
             [
              0.5555555555555556,
              "#d8576b"
             ],
             [
              0.6666666666666666,
              "#ed7953"
             ],
             [
              0.7777777777777778,
              "#fb9f3a"
             ],
             [
              0.8888888888888888,
              "#fdca26"
             ],
             [
              1,
              "#f0f921"
             ]
            ],
            "type": "heatmap"
           }
          ],
          "heatmapgl": [
           {
            "colorbar": {
             "outlinewidth": 0,
             "ticks": ""
            },
            "colorscale": [
             [
              0,
              "#0d0887"
             ],
             [
              0.1111111111111111,
              "#46039f"
             ],
             [
              0.2222222222222222,
              "#7201a8"
             ],
             [
              0.3333333333333333,
              "#9c179e"
             ],
             [
              0.4444444444444444,
              "#bd3786"
             ],
             [
              0.5555555555555556,
              "#d8576b"
             ],
             [
              0.6666666666666666,
              "#ed7953"
             ],
             [
              0.7777777777777778,
              "#fb9f3a"
             ],
             [
              0.8888888888888888,
              "#fdca26"
             ],
             [
              1,
              "#f0f921"
             ]
            ],
            "type": "heatmapgl"
           }
          ],
          "histogram": [
           {
            "marker": {
             "colorbar": {
              "outlinewidth": 0,
              "ticks": ""
             }
            },
            "type": "histogram"
           }
          ],
          "histogram2d": [
           {
            "colorbar": {
             "outlinewidth": 0,
             "ticks": ""
            },
            "colorscale": [
             [
              0,
              "#0d0887"
             ],
             [
              0.1111111111111111,
              "#46039f"
             ],
             [
              0.2222222222222222,
              "#7201a8"
             ],
             [
              0.3333333333333333,
              "#9c179e"
             ],
             [
              0.4444444444444444,
              "#bd3786"
             ],
             [
              0.5555555555555556,
              "#d8576b"
             ],
             [
              0.6666666666666666,
              "#ed7953"
             ],
             [
              0.7777777777777778,
              "#fb9f3a"
             ],
             [
              0.8888888888888888,
              "#fdca26"
             ],
             [
              1,
              "#f0f921"
             ]
            ],
            "type": "histogram2d"
           }
          ],
          "histogram2dcontour": [
           {
            "colorbar": {
             "outlinewidth": 0,
             "ticks": ""
            },
            "colorscale": [
             [
              0,
              "#0d0887"
             ],
             [
              0.1111111111111111,
              "#46039f"
             ],
             [
              0.2222222222222222,
              "#7201a8"
             ],
             [
              0.3333333333333333,
              "#9c179e"
             ],
             [
              0.4444444444444444,
              "#bd3786"
             ],
             [
              0.5555555555555556,
              "#d8576b"
             ],
             [
              0.6666666666666666,
              "#ed7953"
             ],
             [
              0.7777777777777778,
              "#fb9f3a"
             ],
             [
              0.8888888888888888,
              "#fdca26"
             ],
             [
              1,
              "#f0f921"
             ]
            ],
            "type": "histogram2dcontour"
           }
          ],
          "mesh3d": [
           {
            "colorbar": {
             "outlinewidth": 0,
             "ticks": ""
            },
            "type": "mesh3d"
           }
          ],
          "parcoords": [
           {
            "line": {
             "colorbar": {
              "outlinewidth": 0,
              "ticks": ""
             }
            },
            "type": "parcoords"
           }
          ],
          "pie": [
           {
            "automargin": true,
            "type": "pie"
           }
          ],
          "scatter": [
           {
            "marker": {
             "colorbar": {
              "outlinewidth": 0,
              "ticks": ""
             }
            },
            "type": "scatter"
           }
          ],
          "scatter3d": [
           {
            "line": {
             "colorbar": {
              "outlinewidth": 0,
              "ticks": ""
             }
            },
            "marker": {
             "colorbar": {
              "outlinewidth": 0,
              "ticks": ""
             }
            },
            "type": "scatter3d"
           }
          ],
          "scattercarpet": [
           {
            "marker": {
             "colorbar": {
              "outlinewidth": 0,
              "ticks": ""
             }
            },
            "type": "scattercarpet"
           }
          ],
          "scattergeo": [
           {
            "marker": {
             "colorbar": {
              "outlinewidth": 0,
              "ticks": ""
             }
            },
            "type": "scattergeo"
           }
          ],
          "scattergl": [
           {
            "marker": {
             "colorbar": {
              "outlinewidth": 0,
              "ticks": ""
             }
            },
            "type": "scattergl"
           }
          ],
          "scattermapbox": [
           {
            "marker": {
             "colorbar": {
              "outlinewidth": 0,
              "ticks": ""
             }
            },
            "type": "scattermapbox"
           }
          ],
          "scatterpolar": [
           {
            "marker": {
             "colorbar": {
              "outlinewidth": 0,
              "ticks": ""
             }
            },
            "type": "scatterpolar"
           }
          ],
          "scatterpolargl": [
           {
            "marker": {
             "colorbar": {
              "outlinewidth": 0,
              "ticks": ""
             }
            },
            "type": "scatterpolargl"
           }
          ],
          "scatterternary": [
           {
            "marker": {
             "colorbar": {
              "outlinewidth": 0,
              "ticks": ""
             }
            },
            "type": "scatterternary"
           }
          ],
          "surface": [
           {
            "colorbar": {
             "outlinewidth": 0,
             "ticks": ""
            },
            "colorscale": [
             [
              0,
              "#0d0887"
             ],
             [
              0.1111111111111111,
              "#46039f"
             ],
             [
              0.2222222222222222,
              "#7201a8"
             ],
             [
              0.3333333333333333,
              "#9c179e"
             ],
             [
              0.4444444444444444,
              "#bd3786"
             ],
             [
              0.5555555555555556,
              "#d8576b"
             ],
             [
              0.6666666666666666,
              "#ed7953"
             ],
             [
              0.7777777777777778,
              "#fb9f3a"
             ],
             [
              0.8888888888888888,
              "#fdca26"
             ],
             [
              1,
              "#f0f921"
             ]
            ],
            "type": "surface"
           }
          ],
          "table": [
           {
            "cells": {
             "fill": {
              "color": "#EBF0F8"
             },
             "line": {
              "color": "white"
             }
            },
            "header": {
             "fill": {
              "color": "#C8D4E3"
             },
             "line": {
              "color": "white"
             }
            },
            "type": "table"
           }
          ]
         },
         "layout": {
          "annotationdefaults": {
           "arrowcolor": "#2a3f5f",
           "arrowhead": 0,
           "arrowwidth": 1
          },
          "coloraxis": {
           "colorbar": {
            "outlinewidth": 0,
            "ticks": ""
           }
          },
          "colorscale": {
           "diverging": [
            [
             0,
             "#8e0152"
            ],
            [
             0.1,
             "#c51b7d"
            ],
            [
             0.2,
             "#de77ae"
            ],
            [
             0.3,
             "#f1b6da"
            ],
            [
             0.4,
             "#fde0ef"
            ],
            [
             0.5,
             "#f7f7f7"
            ],
            [
             0.6,
             "#e6f5d0"
            ],
            [
             0.7,
             "#b8e186"
            ],
            [
             0.8,
             "#7fbc41"
            ],
            [
             0.9,
             "#4d9221"
            ],
            [
             1,
             "#276419"
            ]
           ],
           "sequential": [
            [
             0,
             "#0d0887"
            ],
            [
             0.1111111111111111,
             "#46039f"
            ],
            [
             0.2222222222222222,
             "#7201a8"
            ],
            [
             0.3333333333333333,
             "#9c179e"
            ],
            [
             0.4444444444444444,
             "#bd3786"
            ],
            [
             0.5555555555555556,
             "#d8576b"
            ],
            [
             0.6666666666666666,
             "#ed7953"
            ],
            [
             0.7777777777777778,
             "#fb9f3a"
            ],
            [
             0.8888888888888888,
             "#fdca26"
            ],
            [
             1,
             "#f0f921"
            ]
           ],
           "sequentialminus": [
            [
             0,
             "#0d0887"
            ],
            [
             0.1111111111111111,
             "#46039f"
            ],
            [
             0.2222222222222222,
             "#7201a8"
            ],
            [
             0.3333333333333333,
             "#9c179e"
            ],
            [
             0.4444444444444444,
             "#bd3786"
            ],
            [
             0.5555555555555556,
             "#d8576b"
            ],
            [
             0.6666666666666666,
             "#ed7953"
            ],
            [
             0.7777777777777778,
             "#fb9f3a"
            ],
            [
             0.8888888888888888,
             "#fdca26"
            ],
            [
             1,
             "#f0f921"
            ]
           ]
          },
          "colorway": [
           "#636efa",
           "#EF553B",
           "#00cc96",
           "#ab63fa",
           "#FFA15A",
           "#19d3f3",
           "#FF6692",
           "#B6E880",
           "#FF97FF",
           "#FECB52"
          ],
          "font": {
           "color": "#2a3f5f"
          },
          "geo": {
           "bgcolor": "white",
           "lakecolor": "white",
           "landcolor": "#E5ECF6",
           "showlakes": true,
           "showland": true,
           "subunitcolor": "white"
          },
          "hoverlabel": {
           "align": "left"
          },
          "hovermode": "closest",
          "mapbox": {
           "style": "light"
          },
          "paper_bgcolor": "white",
          "plot_bgcolor": "#E5ECF6",
          "polar": {
           "angularaxis": {
            "gridcolor": "white",
            "linecolor": "white",
            "ticks": ""
           },
           "bgcolor": "#E5ECF6",
           "radialaxis": {
            "gridcolor": "white",
            "linecolor": "white",
            "ticks": ""
           }
          },
          "scene": {
           "xaxis": {
            "backgroundcolor": "#E5ECF6",
            "gridcolor": "white",
            "gridwidth": 2,
            "linecolor": "white",
            "showbackground": true,
            "ticks": "",
            "zerolinecolor": "white"
           },
           "yaxis": {
            "backgroundcolor": "#E5ECF6",
            "gridcolor": "white",
            "gridwidth": 2,
            "linecolor": "white",
            "showbackground": true,
            "ticks": "",
            "zerolinecolor": "white"
           },
           "zaxis": {
            "backgroundcolor": "#E5ECF6",
            "gridcolor": "white",
            "gridwidth": 2,
            "linecolor": "white",
            "showbackground": true,
            "ticks": "",
            "zerolinecolor": "white"
           }
          },
          "shapedefaults": {
           "line": {
            "color": "#2a3f5f"
           }
          },
          "ternary": {
           "aaxis": {
            "gridcolor": "white",
            "linecolor": "white",
            "ticks": ""
           },
           "baxis": {
            "gridcolor": "white",
            "linecolor": "white",
            "ticks": ""
           },
           "bgcolor": "#E5ECF6",
           "caxis": {
            "gridcolor": "white",
            "linecolor": "white",
            "ticks": ""
           }
          },
          "title": {
           "x": 0.05
          },
          "xaxis": {
           "automargin": true,
           "gridcolor": "white",
           "linecolor": "white",
           "ticks": "",
           "title": {
            "standoff": 15
           },
           "zerolinecolor": "white",
           "zerolinewidth": 2
          },
          "yaxis": {
           "automargin": true,
           "gridcolor": "white",
           "linecolor": "white",
           "ticks": "",
           "title": {
            "standoff": 15
           },
           "zerolinecolor": "white",
           "zerolinewidth": 2
          }
         }
        },
        "title": {
         "text": "Lazio - Internazionale, 2 - 3"
        },
        "width": 825,
        "xaxis": {
         "range": [
          0,
          100
         ],
         "showgrid": false,
         "showticklabels": false
        },
        "yaxis": {
         "range": [
          0,
          100
         ],
         "showgrid": false,
         "showticklabels": false
        }
       }
      },
      "text/html": [
       "<div>\n",
       "        \n",
       "        \n",
       "            <div id=\"660052a0-def5-41b8-ba36-dcea4ae0fd0b\" class=\"plotly-graph-div\" style=\"height:600px; width:825px;\"></div>\n",
       "            <script type=\"text/javascript\">\n",
       "                require([\"plotly\"], function(Plotly) {\n",
       "                    window.PLOTLYENV=window.PLOTLYENV || {};\n",
       "                    \n",
       "                if (document.getElementById(\"660052a0-def5-41b8-ba36-dcea4ae0fd0b\")) {\n",
       "                    Plotly.newPlot(\n",
       "                        '660052a0-def5-41b8-ba36-dcea4ae0fd0b',\n",
       "                        [{\"marker\": {\"color\": \"red\", \"size\": 8}, \"mode\": \"markers\", \"name\": \"team1\", \"text\": [\"Foul by player 40806\", \"Foul by player 376362\", \"Foul by player 20561\", \"Foul by player 7965\", \"Foul by player 265865\", \"Foul by player 265865\", \"Foul by player 166534\", \"Foul by player 130\", \"Foul by player 20561\", \"Foul by player 7926\", \"Foul by player 346908\", \"Foul by player 376362\", \"Foul by player 7965\", \"Foul by player 4792\"], \"type\": \"scatter\", \"x\": [69, 88, 59, 61, 75, 68, 4, 11, 70, 64, 16, 14, 79, 61], \"y\": [93, 5, 6, 31, 15, 32, 56, 53, 27, 87, 12, 87, 56, 11]}, {\"marker\": {\"color\": \"blue\", \"size\": 8, \"symbol\": \"square\"}, \"mode\": \"markers\", \"name\": \"team2\", \"text\": [\"Foul by player 69968\", \"Foul by player 69968\", \"Foul by player 3344\", \"Foul by player 116349\", \"Foul by player 3431\", \"Foul by player 135903\", \"Foul by player 21094\", \"Foul by player 21094\", \"Foul by player 138408\", \"Foul by player 116349\", \"Foul by player 20626\", \"Foul by player 14812\", \"Foul by player 116349\", \"Foul by player 20626\"], \"type\": \"scatter\", \"x\": [41, 35, 65, 39, 24, 70, 27, 60, 40, 35, 55, 66, 89, 70], \"y\": [12, 44, 27, 72, 32, 99, 39, 27, 37, 68, 25, 4, 81, 17]}],\n",
       "                        {\"autosize\": false, \"height\": 600, \"hovermode\": \"closest\", \"plot_bgcolor\": \"rgb(255, 255, 255)\", \"shapes\": [{\"line\": {\"color\": \"black\"}, \"type\": \"circle\", \"x0\": 40, \"x1\": 60, \"xref\": \"x\", \"y0\": 35, \"y1\": 65, \"yref\": \"y\"}, {\"line\": {\"color\": \"black\"}, \"type\": \"line\", \"x0\": 0, \"x1\": 10, \"xref\": \"x\", \"y0\": 35, \"y1\": 35, \"yref\": \"y\"}, {\"line\": {\"color\": \"black\"}, \"type\": \"line\", \"x0\": 10, \"x1\": 10, \"xref\": \"x\", \"y0\": 35, \"y1\": 65, \"yref\": \"y\"}, {\"line\": {\"color\": \"black\"}, \"type\": \"line\", \"x0\": 10, \"x1\": 0, \"xref\": \"x\", \"y0\": 65, \"y1\": 65, \"yref\": \"y\"}, {\"line\": {\"color\": \"black\"}, \"type\": \"line\", \"x0\": 100, \"x1\": 90, \"xref\": \"x\", \"y0\": 35, \"y1\": 35, \"yref\": \"y\"}, {\"line\": {\"color\": \"black\"}, \"type\": \"line\", \"x0\": 90, \"x1\": 90, \"xref\": \"x\", \"y0\": 35, \"y1\": 65, \"yref\": \"y\"}, {\"line\": {\"color\": \"black\"}, \"type\": \"line\", \"x0\": 90, \"x1\": 100, \"xref\": \"x\", \"y0\": 65, \"y1\": 65, \"yref\": \"y\"}, {\"line\": {\"color\": \"black\"}, \"type\": \"line\", \"x0\": 50, \"x1\": 50, \"xref\": \"x\", \"y0\": 100, \"y1\": 0, \"yref\": \"y\"}, {\"line\": {\"color\": \"black\"}, \"type\": \"line\", \"x0\": 0, \"x1\": 0, \"xref\": \"x\", \"y0\": 0, \"y1\": 100, \"yref\": \"y\"}, {\"line\": {\"color\": \"black\"}, \"type\": \"line\", \"x0\": 100, \"x1\": 100, \"xref\": \"x\", \"y0\": 0, \"y1\": 100, \"yref\": \"y\"}, {\"line\": {\"color\": \"black\"}, \"type\": \"line\", \"x0\": 0, \"x1\": 100, \"xref\": \"x\", \"y0\": 100, \"y1\": 100, \"yref\": \"y\"}, {\"line\": {\"color\": \"black\"}, \"type\": \"line\", \"x0\": 0, \"x1\": 100, \"xref\": \"x\", \"y0\": 0, \"y1\": 0, \"yref\": \"y\"}], \"template\": {\"data\": {\"bar\": [{\"error_x\": {\"color\": \"#2a3f5f\"}, \"error_y\": {\"color\": \"#2a3f5f\"}, \"marker\": {\"line\": {\"color\": \"#E5ECF6\", \"width\": 0.5}}, \"type\": \"bar\"}], \"barpolar\": [{\"marker\": {\"line\": {\"color\": \"#E5ECF6\", \"width\": 0.5}}, \"type\": \"barpolar\"}], \"carpet\": [{\"aaxis\": {\"endlinecolor\": \"#2a3f5f\", \"gridcolor\": \"white\", \"linecolor\": \"white\", \"minorgridcolor\": \"white\", \"startlinecolor\": \"#2a3f5f\"}, \"baxis\": {\"endlinecolor\": \"#2a3f5f\", \"gridcolor\": \"white\", \"linecolor\": \"white\", \"minorgridcolor\": \"white\", \"startlinecolor\": \"#2a3f5f\"}, \"type\": \"carpet\"}], \"choropleth\": [{\"colorbar\": {\"outlinewidth\": 0, \"ticks\": \"\"}, \"type\": \"choropleth\"}], \"contour\": [{\"colorbar\": {\"outlinewidth\": 0, \"ticks\": \"\"}, \"colorscale\": [[0.0, \"#0d0887\"], [0.1111111111111111, \"#46039f\"], [0.2222222222222222, \"#7201a8\"], [0.3333333333333333, \"#9c179e\"], [0.4444444444444444, \"#bd3786\"], [0.5555555555555556, \"#d8576b\"], [0.6666666666666666, \"#ed7953\"], [0.7777777777777778, \"#fb9f3a\"], [0.8888888888888888, \"#fdca26\"], [1.0, \"#f0f921\"]], \"type\": \"contour\"}], \"contourcarpet\": [{\"colorbar\": {\"outlinewidth\": 0, \"ticks\": \"\"}, \"type\": \"contourcarpet\"}], \"heatmap\": [{\"colorbar\": {\"outlinewidth\": 0, \"ticks\": \"\"}, \"colorscale\": [[0.0, \"#0d0887\"], [0.1111111111111111, \"#46039f\"], [0.2222222222222222, \"#7201a8\"], [0.3333333333333333, \"#9c179e\"], [0.4444444444444444, \"#bd3786\"], [0.5555555555555556, \"#d8576b\"], [0.6666666666666666, \"#ed7953\"], [0.7777777777777778, \"#fb9f3a\"], [0.8888888888888888, \"#fdca26\"], [1.0, \"#f0f921\"]], \"type\": \"heatmap\"}], \"heatmapgl\": [{\"colorbar\": {\"outlinewidth\": 0, \"ticks\": \"\"}, \"colorscale\": [[0.0, \"#0d0887\"], [0.1111111111111111, \"#46039f\"], [0.2222222222222222, \"#7201a8\"], [0.3333333333333333, \"#9c179e\"], [0.4444444444444444, \"#bd3786\"], [0.5555555555555556, \"#d8576b\"], [0.6666666666666666, \"#ed7953\"], [0.7777777777777778, \"#fb9f3a\"], [0.8888888888888888, \"#fdca26\"], [1.0, \"#f0f921\"]], \"type\": \"heatmapgl\"}], \"histogram\": [{\"marker\": {\"colorbar\": {\"outlinewidth\": 0, \"ticks\": \"\"}}, \"type\": \"histogram\"}], \"histogram2d\": [{\"colorbar\": {\"outlinewidth\": 0, \"ticks\": \"\"}, \"colorscale\": [[0.0, \"#0d0887\"], [0.1111111111111111, \"#46039f\"], [0.2222222222222222, \"#7201a8\"], [0.3333333333333333, \"#9c179e\"], [0.4444444444444444, \"#bd3786\"], [0.5555555555555556, \"#d8576b\"], [0.6666666666666666, \"#ed7953\"], [0.7777777777777778, \"#fb9f3a\"], [0.8888888888888888, \"#fdca26\"], [1.0, \"#f0f921\"]], \"type\": \"histogram2d\"}], \"histogram2dcontour\": [{\"colorbar\": {\"outlinewidth\": 0, \"ticks\": \"\"}, \"colorscale\": [[0.0, \"#0d0887\"], [0.1111111111111111, \"#46039f\"], [0.2222222222222222, \"#7201a8\"], [0.3333333333333333, \"#9c179e\"], [0.4444444444444444, \"#bd3786\"], [0.5555555555555556, \"#d8576b\"], [0.6666666666666666, \"#ed7953\"], [0.7777777777777778, \"#fb9f3a\"], [0.8888888888888888, \"#fdca26\"], [1.0, \"#f0f921\"]], \"type\": \"histogram2dcontour\"}], \"mesh3d\": [{\"colorbar\": {\"outlinewidth\": 0, \"ticks\": \"\"}, \"type\": \"mesh3d\"}], \"parcoords\": [{\"line\": {\"colorbar\": {\"outlinewidth\": 0, \"ticks\": \"\"}}, \"type\": \"parcoords\"}], \"pie\": [{\"automargin\": true, \"type\": \"pie\"}], \"scatter\": [{\"marker\": {\"colorbar\": {\"outlinewidth\": 0, \"ticks\": \"\"}}, \"type\": \"scatter\"}], \"scatter3d\": [{\"line\": {\"colorbar\": {\"outlinewidth\": 0, \"ticks\": \"\"}}, \"marker\": {\"colorbar\": {\"outlinewidth\": 0, \"ticks\": \"\"}}, \"type\": \"scatter3d\"}], \"scattercarpet\": [{\"marker\": {\"colorbar\": {\"outlinewidth\": 0, \"ticks\": \"\"}}, \"type\": \"scattercarpet\"}], \"scattergeo\": [{\"marker\": {\"colorbar\": {\"outlinewidth\": 0, \"ticks\": \"\"}}, \"type\": \"scattergeo\"}], \"scattergl\": [{\"marker\": {\"colorbar\": {\"outlinewidth\": 0, \"ticks\": \"\"}}, \"type\": \"scattergl\"}], \"scattermapbox\": [{\"marker\": {\"colorbar\": {\"outlinewidth\": 0, \"ticks\": \"\"}}, \"type\": \"scattermapbox\"}], \"scatterpolar\": [{\"marker\": {\"colorbar\": {\"outlinewidth\": 0, \"ticks\": \"\"}}, \"type\": \"scatterpolar\"}], \"scatterpolargl\": [{\"marker\": {\"colorbar\": {\"outlinewidth\": 0, \"ticks\": \"\"}}, \"type\": \"scatterpolargl\"}], \"scatterternary\": [{\"marker\": {\"colorbar\": {\"outlinewidth\": 0, \"ticks\": \"\"}}, \"type\": \"scatterternary\"}], \"surface\": [{\"colorbar\": {\"outlinewidth\": 0, \"ticks\": \"\"}, \"colorscale\": [[0.0, \"#0d0887\"], [0.1111111111111111, \"#46039f\"], [0.2222222222222222, \"#7201a8\"], [0.3333333333333333, \"#9c179e\"], [0.4444444444444444, \"#bd3786\"], [0.5555555555555556, \"#d8576b\"], [0.6666666666666666, \"#ed7953\"], [0.7777777777777778, \"#fb9f3a\"], [0.8888888888888888, \"#fdca26\"], [1.0, \"#f0f921\"]], \"type\": \"surface\"}], \"table\": [{\"cells\": {\"fill\": {\"color\": \"#EBF0F8\"}, \"line\": {\"color\": \"white\"}}, \"header\": {\"fill\": {\"color\": \"#C8D4E3\"}, \"line\": {\"color\": \"white\"}}, \"type\": \"table\"}]}, \"layout\": {\"annotationdefaults\": {\"arrowcolor\": \"#2a3f5f\", \"arrowhead\": 0, \"arrowwidth\": 1}, \"coloraxis\": {\"colorbar\": {\"outlinewidth\": 0, \"ticks\": \"\"}}, \"colorscale\": {\"diverging\": [[0, \"#8e0152\"], [0.1, \"#c51b7d\"], [0.2, \"#de77ae\"], [0.3, \"#f1b6da\"], [0.4, \"#fde0ef\"], [0.5, \"#f7f7f7\"], [0.6, \"#e6f5d0\"], [0.7, \"#b8e186\"], [0.8, \"#7fbc41\"], [0.9, \"#4d9221\"], [1, \"#276419\"]], \"sequential\": [[0.0, \"#0d0887\"], [0.1111111111111111, \"#46039f\"], [0.2222222222222222, \"#7201a8\"], [0.3333333333333333, \"#9c179e\"], [0.4444444444444444, \"#bd3786\"], [0.5555555555555556, \"#d8576b\"], [0.6666666666666666, \"#ed7953\"], [0.7777777777777778, \"#fb9f3a\"], [0.8888888888888888, \"#fdca26\"], [1.0, \"#f0f921\"]], \"sequentialminus\": [[0.0, \"#0d0887\"], [0.1111111111111111, \"#46039f\"], [0.2222222222222222, \"#7201a8\"], [0.3333333333333333, \"#9c179e\"], [0.4444444444444444, \"#bd3786\"], [0.5555555555555556, \"#d8576b\"], [0.6666666666666666, \"#ed7953\"], [0.7777777777777778, \"#fb9f3a\"], [0.8888888888888888, \"#fdca26\"], [1.0, \"#f0f921\"]]}, \"colorway\": [\"#636efa\", \"#EF553B\", \"#00cc96\", \"#ab63fa\", \"#FFA15A\", \"#19d3f3\", \"#FF6692\", \"#B6E880\", \"#FF97FF\", \"#FECB52\"], \"font\": {\"color\": \"#2a3f5f\"}, \"geo\": {\"bgcolor\": \"white\", \"lakecolor\": \"white\", \"landcolor\": \"#E5ECF6\", \"showlakes\": true, \"showland\": true, \"subunitcolor\": \"white\"}, \"hoverlabel\": {\"align\": \"left\"}, \"hovermode\": \"closest\", \"mapbox\": {\"style\": \"light\"}, \"paper_bgcolor\": \"white\", \"plot_bgcolor\": \"#E5ECF6\", \"polar\": {\"angularaxis\": {\"gridcolor\": \"white\", \"linecolor\": \"white\", \"ticks\": \"\"}, \"bgcolor\": \"#E5ECF6\", \"radialaxis\": {\"gridcolor\": \"white\", \"linecolor\": \"white\", \"ticks\": \"\"}}, \"scene\": {\"xaxis\": {\"backgroundcolor\": \"#E5ECF6\", \"gridcolor\": \"white\", \"gridwidth\": 2, \"linecolor\": \"white\", \"showbackground\": true, \"ticks\": \"\", \"zerolinecolor\": \"white\"}, \"yaxis\": {\"backgroundcolor\": \"#E5ECF6\", \"gridcolor\": \"white\", \"gridwidth\": 2, \"linecolor\": \"white\", \"showbackground\": true, \"ticks\": \"\", \"zerolinecolor\": \"white\"}, \"zaxis\": {\"backgroundcolor\": \"#E5ECF6\", \"gridcolor\": \"white\", \"gridwidth\": 2, \"linecolor\": \"white\", \"showbackground\": true, \"ticks\": \"\", \"zerolinecolor\": \"white\"}}, \"shapedefaults\": {\"line\": {\"color\": \"#2a3f5f\"}}, \"ternary\": {\"aaxis\": {\"gridcolor\": \"white\", \"linecolor\": \"white\", \"ticks\": \"\"}, \"baxis\": {\"gridcolor\": \"white\", \"linecolor\": \"white\", \"ticks\": \"\"}, \"bgcolor\": \"#E5ECF6\", \"caxis\": {\"gridcolor\": \"white\", \"linecolor\": \"white\", \"ticks\": \"\"}}, \"title\": {\"x\": 0.05}, \"xaxis\": {\"automargin\": true, \"gridcolor\": \"white\", \"linecolor\": \"white\", \"ticks\": \"\", \"title\": {\"standoff\": 15}, \"zerolinecolor\": \"white\", \"zerolinewidth\": 2}, \"yaxis\": {\"automargin\": true, \"gridcolor\": \"white\", \"linecolor\": \"white\", \"ticks\": \"\", \"title\": {\"standoff\": 15}, \"zerolinecolor\": \"white\", \"zerolinewidth\": 2}}}, \"title\": {\"text\": \"Lazio - Internazionale, 2 - 3\"}, \"width\": 825, \"xaxis\": {\"range\": [0, 100], \"showgrid\": false, \"showticklabels\": false}, \"yaxis\": {\"range\": [0, 100], \"showgrid\": false, \"showticklabels\": false}},\n",
       "                        {\"responsive\": true}\n",
       "                    ).then(function(){\n",
       "                            \n",
       "var gd = document.getElementById('660052a0-def5-41b8-ba36-dcea4ae0fd0b');\n",
       "var x = new MutationObserver(function (mutations, observer) {{\n",
       "        var display = window.getComputedStyle(gd).display;\n",
       "        if (!display || display === 'none') {{\n",
       "            console.log([gd, 'removed!']);\n",
       "            Plotly.purge(gd);\n",
       "            observer.disconnect();\n",
       "        }}\n",
       "}});\n",
       "\n",
       "// Listen for the removal of the full notebook cells\n",
       "var notebookContainer = gd.closest('#notebook-container');\n",
       "if (notebookContainer) {{\n",
       "    x.observe(notebookContainer, {childList: true});\n",
       "}}\n",
       "\n",
       "// Listen for the clearing of the current output cell\n",
       "var outputEl = gd.closest('.output');\n",
       "if (outputEl) {{\n",
       "    x.observe(outputEl, {childList: true});\n",
       "}}\n",
       "\n",
       "                        })\n",
       "                };\n",
       "                });\n",
       "            </script>\n",
       "        </div>"
      ]
     },
     "metadata": {},
     "output_type": "display_data"
    }
   ],
   "source": [
    "visualize_events(match_label, event_name='Foul')"
   ]
  },
  {
   "cell_type": "markdown",
   "metadata": {},
   "source": [
    "## 7. <a id='spatial_distribution_events'>Spatial distribution of events</a>\n",
    "\n",
    "Distribution of positions per event type. Kernel density plots showing the distribution of the events’ positions during match. The darker is the green, the higher is the number of events in a specific field zone."
   ]
  },
  {
   "cell_type": "code",
   "execution_count": 19,
   "metadata": {},
   "outputs": [
    {
     "data": {
      "image/png": "[encoded data removed]",
      "text/plain": [
       "<Figure size 504x360 with 1 Axes>"
      ]
     },
     "metadata": {
      "needs_background": "light"
     },
     "output_type": "display_data"
    },
    {
     "data": {
      "image/png": "[encoded data removed]",
      "text/plain": [
       "<Figure size 504x360 with 1 Axes>"
      ]
     },
     "metadata": {
      "needs_background": "light"
     },
     "output_type": "display_data"
    },
    {
     "data": {
      "image/png": "[encoded data removed]",
      "text/plain": [
       "<Figure size 504x360 with 1 Axes>"
      ]
     },
     "metadata": {
      "needs_background": "light"
     },
     "output_type": "display_data"
    },
    {
     "data": {
      "image/png": "[encoded data removed]",
      "text/plain": [
       "<Figure size 504x360 with 1 Axes>"
      ]
     },
     "metadata": {
      "needs_background": "light"
     },
     "output_type": "display_data"
    },
    {
     "data": {
      "image/png": "[encoded data removed]",
      "text/plain": [
       "<Figure size 504x360 with 1 Axes>"
      ]
     },
     "metadata": {
      "needs_background": "light"
     },
     "output_type": "display_data"
    },
    {
     "data": {
      "image/png": "[encoded data removed]",
      "text/plain": [
       "<Figure size 504x360 with 1 Axes>"
      ]
     },
     "metadata": {
      "needs_background": "light"
     },
     "output_type": "display_data"
    },
    {
     "data": {
      "image/png": "[encoded data removed]",
      "text/plain": [
       "<Figure size 504x360 with 1 Axes>"
      ]
     },
     "metadata": {
      "needs_background": "light"
     },
     "output_type": "display_data"
    },
    {
     "data": {
      "image/png": "[encoded data removed]",
      "text/plain": [
       "<Figure size 504x360 with 1 Axes>"
      ]
     },
     "metadata": {
      "needs_background": "light"
     },
     "output_type": "display_data"
    }
   ],
   "source": [
    "plot_kde_events_on_field(tournaments, events, sample_size=1000)"
   ]
  },
  {
   "cell_type": "markdown",
   "metadata": {},
   "source": [
    "## 8. <a id='intra_match_evolution'>Intra-match evolution of the events</a>\n",
    "\n",
    "In-match evolution of the number of events. Number of events (e.g., goals on the top plot, yellow cards\n",
    "in the middle plot and the red cards in the bottom plot) that occur in all the matches in the data set, with time\n",
    "windows of 5 minutes."
   ]
  },
  {
   "cell_type": "code",
   "execution_count": 20,
   "metadata": {},
   "outputs": [
    {
     "data": {
      "image/png": "[encoded data removed]",
      "text/plain": [
       "<Figure size 576x432 with 1 Axes>"
      ]
     },
     "metadata": {
      "needs_background": "light"
     },
     "output_type": "display_data"
    }
   ],
   "source": [
    "in_match_evolution(tournaments, events, event_name = 'Goal', event_tag = 101)"
   ]
  },
  {
   "cell_type": "code",
   "execution_count": 21,
   "metadata": {},
   "outputs": [
    {
     "data": {
      "image/png": "[encoded data removed]",
      "text/plain": [
       "<Figure size 576x432 with 1 Axes>"
      ]
     },
     "metadata": {
      "needs_background": "light"
     },
     "output_type": "display_data"
    }
   ],
   "source": [
    "in_match_evolution(tournaments, events, event_name='Yellow Card', event_tag=1702)"
   ]
  },
  {
   "cell_type": "code",
   "execution_count": 22,
   "metadata": {},
   "outputs": [
    {
     "data": {
      "image/png": "[encoded data removed]",
      "text/plain": [
       "<Figure size 576x432 with 1 Axes>"
      ]
     },
     "metadata": {
      "needs_background": "light"
     },
     "output_type": "display_data"
    }
   ],
   "source": [
    "in_match_evolution(tournaments, events, event_name='Red Card', event_tag=1701)"
   ]
  },
  {
   "cell_type": "markdown",
   "metadata": {},
   "source": [
    "## 9. <a id='advanced_statistics'>Advanced Statistics</a>"
   ]
  },
  {
   "cell_type": "markdown",
   "metadata": {},
   "source": [
    "## 9.A. <a id='invasion_acceleration_index'>Invasion index and acceleration index</a>\n",
    "\n",
    "Invasion index and acceleration index for a game in the match data set. Bold lines represent the rolling mean of, respectively, invasion index (a) and acceleration index (b), while thin lines represent the individual values computed for each possession phase of each team. Purple vertical lines refer to the two goal scored by Fiorentina during the match, while the red vertical line indicates the half time of the match."
   ]
  },
  {
   "cell_type": "code",
   "execution_count": 23,
   "metadata": {},
   "outputs": [
    {
     "data": {
      "text/html": [
       "<div>\n",
       "<style scoped>\n",
       "    .dataframe tbody tr th:only-of-type {\n",
       "        vertical-align: middle;\n",
       "    }\n",
       "\n",
       "    .dataframe tbody tr th {\n",
       "        vertical-align: top;\n",
       "    }\n",
       "\n",
       "    .dataframe thead th {\n",
       "        text-align: right;\n",
       "    }\n",
       "</style>\n",
       "<table border=\"1\" class=\"dataframe\">\n",
       "  <thead>\n",
       "    <tr style=\"text-align: right;\">\n",
       "      <th></th>\n",
       "      <th>eventId</th>\n",
       "      <th>subEventName</th>\n",
       "      <th>tags</th>\n",
       "      <th>playerId</th>\n",
       "      <th>positions</th>\n",
       "      <th>matchId</th>\n",
       "      <th>eventName</th>\n",
       "      <th>teamId</th>\n",
       "      <th>matchPeriod</th>\n",
       "      <th>eventSec</th>\n",
       "      <th>subEventId</th>\n",
       "      <th>id</th>\n",
       "    </tr>\n",
       "  </thead>\n",
       "  <tbody>\n",
       "    <tr>\n",
       "      <th>0</th>\n",
       "      <td>8</td>\n",
       "      <td>Simple pass</td>\n",
       "      <td>[{'id': 1801}]</td>\n",
       "      <td>25541</td>\n",
       "      <td>[{'y': 49, 'x': 49}, {'y': 57, 'x': 33}]</td>\n",
       "      <td>2576263</td>\n",
       "      <td>Pass</td>\n",
       "      <td>3176</td>\n",
       "      <td>1H</td>\n",
       "      <td>0.978282</td>\n",
       "      <td>85</td>\n",
       "      <td>240827282</td>\n",
       "    </tr>\n",
       "    <tr>\n",
       "      <th>1</th>\n",
       "      <td>8</td>\n",
       "      <td>Simple pass</td>\n",
       "      <td>[{'id': 1801}]</td>\n",
       "      <td>22313</td>\n",
       "      <td>[{'y': 57, 'x': 33}, {'y': 58, 'x': 28}]</td>\n",
       "      <td>2576263</td>\n",
       "      <td>Pass</td>\n",
       "      <td>3176</td>\n",
       "      <td>1H</td>\n",
       "      <td>2.216092</td>\n",
       "      <td>85</td>\n",
       "      <td>240827284</td>\n",
       "    </tr>\n",
       "    <tr>\n",
       "      <th>2</th>\n",
       "      <td>8</td>\n",
       "      <td>High pass</td>\n",
       "      <td>[{'id': 1801}]</td>\n",
       "      <td>86328</td>\n",
       "      <td>[{'y': 58, 'x': 28}, {'y': 17, 'x': 71}]</td>\n",
       "      <td>2576263</td>\n",
       "      <td>Pass</td>\n",
       "      <td>3176</td>\n",
       "      <td>1H</td>\n",
       "      <td>3.354140</td>\n",
       "      <td>83</td>\n",
       "      <td>240827285</td>\n",
       "    </tr>\n",
       "    <tr>\n",
       "      <th>3</th>\n",
       "      <td>1</td>\n",
       "      <td>Air duel</td>\n",
       "      <td>[{'id': 702}, {'id': 1801}]</td>\n",
       "      <td>92966</td>\n",
       "      <td>[{'y': 83, 'x': 29}, {'y': 100, 'x': 22}]</td>\n",
       "      <td>2576263</td>\n",
       "      <td>Duel</td>\n",
       "      <td>3158</td>\n",
       "      <td>1H</td>\n",
       "      <td>6.403429</td>\n",
       "      <td>10</td>\n",
       "      <td>240827259</td>\n",
       "    </tr>\n",
       "    <tr>\n",
       "      <th>4</th>\n",
       "      <td>1</td>\n",
       "      <td>Air duel</td>\n",
       "      <td>[{'id': 702}, {'id': 1801}]</td>\n",
       "      <td>26000</td>\n",
       "      <td>[{'y': 17, 'x': 71}, {'y': 0, 'x': 78}]</td>\n",
       "      <td>2576263</td>\n",
       "      <td>Duel</td>\n",
       "      <td>3176</td>\n",
       "      <td>1H</td>\n",
       "      <td>6.556385</td>\n",
       "      <td>10</td>\n",
       "      <td>240827288</td>\n",
       "    </tr>\n",
       "  </tbody>\n",
       "</table>\n",
       "</div>"
      ],
      "text/plain": [
       "   eventId subEventName                         tags  playerId  \\\n",
       "0        8  Simple pass               [{'id': 1801}]     25541   \n",
       "1        8  Simple pass               [{'id': 1801}]     22313   \n",
       "2        8    High pass               [{'id': 1801}]     86328   \n",
       "3        1     Air duel  [{'id': 702}, {'id': 1801}]     92966   \n",
       "4        1     Air duel  [{'id': 702}, {'id': 1801}]     26000   \n",
       "\n",
       "                                   positions  matchId eventName  teamId  \\\n",
       "0   [{'y': 49, 'x': 49}, {'y': 57, 'x': 33}]  2576263      Pass    3176   \n",
       "1   [{'y': 57, 'x': 33}, {'y': 58, 'x': 28}]  2576263      Pass    3176   \n",
       "2   [{'y': 58, 'x': 28}, {'y': 17, 'x': 71}]  2576263      Pass    3176   \n",
       "3  [{'y': 83, 'x': 29}, {'y': 100, 'x': 22}]  2576263      Duel    3158   \n",
       "4    [{'y': 17, 'x': 71}, {'y': 0, 'x': 78}]  2576263      Duel    3176   \n",
       "\n",
       "  matchPeriod  eventSec subEventId         id  \n",
       "0          1H  0.978282         85  240827282  \n",
       "1          1H  2.216092         85  240827284  \n",
       "2          1H  3.354140         83  240827285  \n",
       "3          1H  6.403429         10  240827259  \n",
       "4          1H  6.556385         10  240827288  "
      ]
     },
     "execution_count": 23,
     "metadata": {},
     "output_type": "execute_result"
    }
   ],
   "source": [
    "match_id = 2576263\n",
    "match_events = []\n",
    "for event in events[tournaments[0]]:\n",
    "    if event['matchId'] == match_id:\n",
    "        match_events.append(event)\n",
    "            \n",
    "match_df = pd.DataFrame(match_events)\n",
    "match_df.head()"
   ]
  },
  {
   "cell_type": "code",
   "execution_count": 24,
   "metadata": {},
   "outputs": [
    {
     "data": {
      "text/plain": [
       "'Roma - Fiorentina, 0 - 2'"
      ]
     },
     "execution_count": 24,
     "metadata": {},
     "output_type": "execute_result"
    }
   ],
   "source": [
    "match_label = ''\n",
    "for match in matches['Italy']:\n",
    "    if match['wyId'] == match_id:\n",
    "        match_label = match['label']\n",
    "match_label"
   ]
  },
  {
   "cell_type": "markdown",
   "metadata": {},
   "source": [
    "A team’s invasion index during a game can be computed with a simple algorithm:\n",
    "\n",
    "- Split the match into possession phases, i.e., sequence of consecutive events on the ball generated by the team;\n",
    "- for each possession phase of the team, **take the event with the highest weight**. An event's weight is computed as its “dangerousness”, i.e., the probability to score from the position where the event occurs. The dangerousness of a position is computed according to the schema in the figure below;\n",
    "- compute the sum of all the weights obtained for the team during the game.\n",
    "\n",
    "![Dangerousity](dangerousity.jpg \"Dangerousity\")\n",
    "Dangerousness of each zone of in the opponent’s area. Every zone is associated with a value of dangerousness according to the probability of scoring from that zone.\n",
    "\n",
    "```\n",
    "D. Link and H. Weber, Using individual ball possession as a performance indicator in soccer, workshop on Large-Scale Sports Analytics, 2015.\n",
    "http://bit.ly/2xuckCi\n",
    "```"
   ]
  },
  {
   "cell_type": "markdown",
   "metadata": {},
   "source": [
    "The average acceleration is an estimate of how fast a team is on reaching the most dangerous position during a possession phase. \n",
    "\n",
    "A team's average acceleration during a game is computed as follows:\n",
    "\n",
    "- For each possession phase, take the position of the first event $e_1$ and the position of the event associated with the most dangerous position $e_{max}$;\n",
    "- compute the time difference $delta_t = t(e_{max})$ - $t(e_1)$;\n",
    "- compute the ratio between the invasion index of the possession phase and the square of $delta_t$."
   ]
  },
  {
   "cell_type": "code",
   "execution_count": 30,
   "metadata": {},
   "outputs": [],
   "source": [
    "def get_invasion_index(tournaments, events, match_id):\n",
    "    \"\"\"\n",
    "    Compute the invasion index for the input match\n",
    "    \n",
    "    Parameters\n",
    "    ----------\n",
    "    tournaments : list\n",
    "        the list of tournaments\n",
    "    \n",
    "    events : list\n",
    "        list of all the events in the match\n",
    "    \n",
    "    match_id: int\n",
    "        the match_id\n",
    "        \n",
    "    Returns\n",
    "    -------\n",
    "    tuple\n",
    "        a tuple of two dictionaries of teams to invasion index and invasion speed, \n",
    "        respectively\n",
    "    \"\"\"\n",
    "    # split the match into possession phases (actions)\n",
    "    actions = get_play_actions(tournaments, events, match_id)\n",
    "    \n",
    "    # initialize the dictionaries containing the invasion and acceleration indeces\n",
    "    team2invasion_index = defaultdict(list)\n",
    "    team2invasion_speed = defaultdict(list)\n",
    "    \n",
    "    # take all events of the match\n",
    "    events_match = []\n",
    "    for tournament in tournaments:\n",
    "        for event in events[tournament]:\n",
    "            if event['matchId'] == match_id:\n",
    "                events_match.append(event)\n",
    "                \n",
    "    # sort matches by time and half\n",
    "    half_offset = {'2H': max([x['eventSec'] for x in events_match if x['matchPeriod']=='1H']),\n",
    "                   '1H':0}\n",
    "    \n",
    "    ## A COSA SERVE QUESTA RIGA DI CODICE SE POI VIENE SOVRASCRITTA NEL CICLO FOR SOTTO?\n",
    "    events_match = sorted(events_match, key = lambda x: x['eventSec'] + half_offset[x['matchPeriod']])\n",
    "    \n",
    "    off = half_offset['2H']\n",
    "    # for each action in the match\n",
    "    for action in actions:\n",
    "        action_type, events_match = action\n",
    "        team_id = events_match[0]['teamId']\n",
    "        \n",
    "        offset = off if events_match[0]['matchPeriod']=='2H' else 0\n",
    "        if len(set([x['matchPeriod'] for x in events_match])) > 1:\n",
    "            continue\n",
    "        \n",
    "        weights, times = [], []\n",
    "        for event in events_match:\n",
    "            try:\n",
    "                x, y = int(event['positions'][0]['x']), int(event['positions'][0]['y'])\n",
    "                event_time = event['eventSec']\n",
    "            except:\n",
    "                continue #skip to next event in case of missing position data\n",
    "            weights.append(get_weight((x, y)))\n",
    "            times.append(event_time)\n",
    "        \n",
    "        # sort weights by time\n",
    "        time_max_invasion = sorted(times, key=lambda x: weights[times.index(x)], reverse=True)[0]\n",
    "        event_0 = events_match[0]['eventSec']\n",
    "        delta_t = time_max_invasion - event_0\n",
    "        if delta_t > 0.8: ## WHAT'S THIS NUMBER?\n",
    "            invasion_speed = (events_match[0]['eventSec'] + offset, (np.max(weights) - weights[0])/seconds**2) \n",
    "            team2invasion_speed[team_id].append(invasion_speed)\n",
    "        \n",
    "        # add invasion index of current action\n",
    "        invasion_index = (events_match[0]['eventSec'] + offset, np.max(weights))\n",
    "        team2invasion_index[team_id].append(invasion_index)\n",
    "    \n",
    "    return team2invasion_index, team2invasion_speed"
   ]
  },
  {
   "cell_type": "code",
   "execution_count": 31,
   "metadata": {},
   "outputs": [
    {
     "ename": "NameError",
     "evalue": "name 'seconds' is not defined",
     "output_type": "error",
     "traceback": [
      "\u001b[0;31m---------------------------------------------------------------------------\u001b[0m",
      "\u001b[0;31mNameError\u001b[0m                                 Traceback (most recent call last)",
      "\u001b[0;32m<ipython-input-31-ad4c48c17e49>\u001b[0m in \u001b[0;36m<module>\u001b[0;34m\u001b[0m\n\u001b[0;32m----> 1\u001b[0;31m \u001b[0mteam2invasion_index\u001b[0m\u001b[0;34m,\u001b[0m \u001b[0mteam2invasion_speed\u001b[0m \u001b[0;34m=\u001b[0m \u001b[0mget_invasion_index\u001b[0m\u001b[0;34m(\u001b[0m\u001b[0mtournaments\u001b[0m\u001b[0;34m,\u001b[0m \u001b[0mevents\u001b[0m\u001b[0;34m,\u001b[0m \u001b[0mmatch_id\u001b[0m\u001b[0;34m)\u001b[0m\u001b[0;34m\u001b[0m\u001b[0;34m\u001b[0m\u001b[0m\n\u001b[0m",
      "\u001b[0;32m<ipython-input-30-e891079005d3>\u001b[0m in \u001b[0;36mget_invasion_index\u001b[0;34m(tournaments, events, match_id)\u001b[0m\n\u001b[1;32m     66\u001b[0m         \u001b[0mdelta_t\u001b[0m \u001b[0;34m=\u001b[0m \u001b[0mtime_max_invasion\u001b[0m \u001b[0;34m-\u001b[0m \u001b[0mevent_0\u001b[0m\u001b[0;34m\u001b[0m\u001b[0;34m\u001b[0m\u001b[0m\n\u001b[1;32m     67\u001b[0m         \u001b[0;32mif\u001b[0m \u001b[0mdelta_t\u001b[0m \u001b[0;34m>\u001b[0m \u001b[0;36m0.8\u001b[0m\u001b[0;34m:\u001b[0m \u001b[0;31m## WHAT'S THIS NUMBER?\u001b[0m\u001b[0;34m\u001b[0m\u001b[0;34m\u001b[0m\u001b[0m\n\u001b[0;32m---> 68\u001b[0;31m             \u001b[0minvasion_speed\u001b[0m \u001b[0;34m=\u001b[0m \u001b[0;34m(\u001b[0m\u001b[0mevents_match\u001b[0m\u001b[0;34m[\u001b[0m\u001b[0;36m0\u001b[0m\u001b[0;34m]\u001b[0m\u001b[0;34m[\u001b[0m\u001b[0;34m'eventSec'\u001b[0m\u001b[0;34m]\u001b[0m \u001b[0;34m+\u001b[0m \u001b[0moffset\u001b[0m\u001b[0;34m,\u001b[0m \u001b[0;34m(\u001b[0m\u001b[0mnp\u001b[0m\u001b[0;34m.\u001b[0m\u001b[0mmax\u001b[0m\u001b[0;34m(\u001b[0m\u001b[0mweights\u001b[0m\u001b[0;34m)\u001b[0m \u001b[0;34m-\u001b[0m \u001b[0mweights\u001b[0m\u001b[0;34m[\u001b[0m\u001b[0;36m0\u001b[0m\u001b[0;34m]\u001b[0m\u001b[0;34m)\u001b[0m\u001b[0;34m/\u001b[0m\u001b[0mseconds\u001b[0m\u001b[0;34m**\u001b[0m\u001b[0;36m2\u001b[0m\u001b[0;34m)\u001b[0m\u001b[0;34m\u001b[0m\u001b[0;34m\u001b[0m\u001b[0m\n\u001b[0m\u001b[1;32m     69\u001b[0m             \u001b[0mteam2invasion_speed\u001b[0m\u001b[0;34m[\u001b[0m\u001b[0mteam_id\u001b[0m\u001b[0;34m]\u001b[0m\u001b[0;34m.\u001b[0m\u001b[0mappend\u001b[0m\u001b[0;34m(\u001b[0m\u001b[0minvasion_speed\u001b[0m\u001b[0;34m)\u001b[0m\u001b[0;34m\u001b[0m\u001b[0;34m\u001b[0m\u001b[0m\n\u001b[1;32m     70\u001b[0m \u001b[0;34m\u001b[0m\u001b[0m\n",
      "\u001b[0;31mNameError\u001b[0m: name 'seconds' is not defined"
     ]
    }
   ],
   "source": [
    "team2invasion_index, team2invasion_speed = get_invasion_index(tournaments, events, match_id)"
   ]
  },
  {
   "cell_type": "code",
   "execution_count": null,
   "metadata": {},
   "outputs": [],
   "source": [
    "plot_invasion_and_acceleration_index(match_label, team2invasion_index, team2invasion_speed)"
   ]
  },
  {
   "cell_type": "markdown",
   "metadata": {},
   "source": [
    "### 9.B. <a id='flow_centrality'>Flow centrality</a>\n",
    "\n",
    "Distribution of flow centrality and PlayeRank score for three top players. \n",
    "\n",
    "- (a) Distribution of the flow centrality of L. Messi (red line), C. Ronaldo (blue line) e M. Salah (black line) during the soccer season 2017/2018. \n",
    "- (b) Performance quality calculated as the PlayeRank score of L. Messi (red line), C. Ronaldo (blue line), and M. Salah (black line)."
   ]
  },
  {
   "cell_type": "markdown",
   "metadata": {},
   "source": [
    "### Distribution of the flow centrality"
   ]
  },
  {
   "cell_type": "code",
   "execution_count": 95,
   "metadata": {},
   "outputs": [
    {
     "ename": "NameError",
     "evalue": "name 'players' is not defined",
     "output_type": "error",
     "traceback": [
      "\u001b[0;31m---------------------------------------------------------------------------\u001b[0m",
      "\u001b[0;31mNameError\u001b[0m                                 Traceback (most recent call last)",
      "\u001b[0;32m<ipython-input-95-e72f121725f1>\u001b[0m in \u001b[0;36m<module>\u001b[0;34m\u001b[0m\n\u001b[0;32m----> 1\u001b[0;31m \u001b[0mMessi_flow_centrality\u001b[0m \u001b[0;34m=\u001b[0m \u001b[0mflow_centrality_player\u001b[0m\u001b[0;34m(\u001b[0m\u001b[0mplayer_wyId\u001b[0m \u001b[0;34m=\u001b[0m \u001b[0;36m3359\u001b[0m\u001b[0;34m)\u001b[0m\u001b[0;34m\u001b[0m\u001b[0;34m\u001b[0m\u001b[0m\n\u001b[0m",
      "\u001b[0;32m~/soccer_logs_exploration/metrics.py\u001b[0m in \u001b[0;36mflow_centrality_player\u001b[0;34m(player_wyId)\u001b[0m\n\u001b[1;32m    322\u001b[0m \u001b[0;32mdef\u001b[0m \u001b[0mflow_centrality_player\u001b[0m\u001b[0;34m(\u001b[0m\u001b[0mplayer_wyId\u001b[0m \u001b[0;34m=\u001b[0m \u001b[0;36m3359\u001b[0m\u001b[0;34m)\u001b[0m\u001b[0;34m:\u001b[0m\u001b[0;34m\u001b[0m\u001b[0;34m\u001b[0m\u001b[0m\n\u001b[1;32m    323\u001b[0m     \u001b[0;32mfor\u001b[0m \u001b[0mplayer\u001b[0m \u001b[0;32min\u001b[0m \u001b[0mplayers\u001b[0m\u001b[0;34m:\u001b[0m\u001b[0;34m\u001b[0m\u001b[0;34m\u001b[0m\u001b[0m\n\u001b[0;32m--> 324\u001b[0;31m         \u001b[0;32mif\u001b[0m \u001b[0mplayer\u001b[0m\u001b[0;34m[\u001b[0m\u001b[0;34m'wyId'\u001b[0m\u001b[0;34m]\u001b[0m \u001b[0;34m==\u001b[0m \u001b[0mplayer_wyId\u001b[0m\u001b[0;34m:\u001b[0m\u001b[0;34m\u001b[0m\u001b[0;34m\u001b[0m\u001b[0m\n\u001b[0m\u001b[1;32m    325\u001b[0m             \u001b[0mplayer_name\u001b[0m \u001b[0;34m=\u001b[0m \u001b[0mplayer\u001b[0m\u001b[0;34m[\u001b[0m\u001b[0;34m'shortName'\u001b[0m\u001b[0;34m]\u001b[0m\u001b[0;34m\u001b[0m\u001b[0;34m\u001b[0m\u001b[0m\n\u001b[1;32m    326\u001b[0m             \u001b[0mcurrent_team\u001b[0m \u001b[0;34m=\u001b[0m \u001b[0mplayer\u001b[0m\u001b[0;34m[\u001b[0m\u001b[0;34m'currentTeamId'\u001b[0m\u001b[0;34m]\u001b[0m\u001b[0;34m\u001b[0m\u001b[0;34m\u001b[0m\u001b[0m\n",
      "\u001b[0;31mNameError\u001b[0m: name 'players' is not defined"
     ]
    }
   ],
   "source": [
    "Messi_flow_centrality = flow_centrality_player(player_wyId = 3359)"
   ]
  },
  {
   "cell_type": "code",
   "execution_count": null,
   "metadata": {},
   "outputs": [],
   "source": [
    "Ronaldo_flow_centrality = flow_centrality_player(player_wyId = 3322)"
   ]
  },
  {
   "cell_type": "code",
   "execution_count": null,
   "metadata": {},
   "outputs": [],
   "source": [
    "Salah_flow_centrality = flow_centrality_player(player_wyId = 120353)"
   ]
  },
  {
   "cell_type": "code",
   "execution_count": null,
   "metadata": {},
   "outputs": [],
   "source": [
    "sns.set_style('ticks')\n",
    "\n",
    "f,ax = plt.subplots(figsize=(10,5))\n",
    "sns.kdeplot(pd.DataFrame(Messi_flow_centrality,columns=['matchId','flow centrality'])['flow centrality'], shade=True, color=\"r\")\n",
    "sns.kdeplot(pd.DataFrame(Ronaldo_flow_centrality,columns=['matchId','flow centrality'])['flow centrality'], shade=True, color=\"b\")\n",
    "sns.kdeplot(pd.DataFrame(Salah_flow_centrality,columns=['matchId','flow centrality'])['flow centrality'], shade=True, color=\"k\")\n",
    "plt.grid(alpha=0.3)\n",
    "plt.xticks(fontsize=18)\n",
    "plt.yticks(fontsize=18)\n",
    "plt.xlabel('flow centrality', fontsize=25)\n",
    "plt.ylabel('p(flow centrality)', fontsize=25)\n",
    "lab = ax.legend(['L. Messi','C. Ronaldo','M. Salah'],loc=1,fontsize=18,frameon=True,shadow=True)\n",
    "for color,text in zip(['r','b','k'],lab.get_texts()):\n",
    "    text.set_color(color)\n",
    "f.tight_layout()\n",
    "plt.show()"
   ]
  },
  {
   "cell_type": "markdown",
   "metadata": {},
   "source": [
    "### 9.C <a id='playerank'>PlayeRank</a>"
   ]
  },
  {
   "cell_type": "code",
   "execution_count": null,
   "metadata": {},
   "outputs": [],
   "source": [
    "df = pd.read_json('cr7-messi-salah.json')"
   ]
  },
  {
   "cell_type": "code",
   "execution_count": null,
   "metadata": {},
   "outputs": [],
   "source": [
    "f,ax = plt.subplots(figsize=(10,5),sharex=True)\n",
    "for player,name,color in zip([u'3359,L. Messi', u'3322,Cristiano Ronaldo', u'120353,Mohamed Salah'],['L. Messi', 'C. Ronaldo', 'M. Salah'],['r','b','k']):\n",
    "    if player == '3322,Cristiano Ronaldo':\n",
    "        df_C = df[df.player==player].sort_values('match').reset_index()['playerankScore'].rolling(30, min_periods=1).mean()#.plot(label=player)\n",
    "        dc = pd.DataFrame([[np.nan],[np.nan],[np.nan],[np.nan],[np.nan],[np.nan],[np.nan],[np.nan],[np.nan]])\n",
    "        pd.concat([dc,df_C]).reset_index()[0].plot(label=name,lw=4,c=color)\n",
    "    else:\n",
    "        df[df.player==player].sort_values('match').reset_index()['playerankScore'].rolling(50, min_periods=1).mean().plot(label=name,lw=4,c=color)\n",
    "        \n",
    "plt.grid(alpha=0.3)\n",
    "lab = ax.legend(['L. Messi','C. Ronaldo','M. Salah'],loc=4,fontsize=18,frameon=True,shadow=True)\n",
    "for color,text in zip(['r','b','k'],lab.get_texts()):\n",
    "    text.set_color(color)\n",
    "plt.ylim(0,0.04)\n",
    "plt.xticks(fontsize=18)\n",
    "plt.yticks(fontsize=18)\n",
    "plt.ylabel('PlayeRank score', fontsize=25)\n",
    "plt.xlabel('match (n)', fontsize=25)\n",
    "f.tight_layout()\n",
    "plt.show()\n"
   ]
  },
  {
   "cell_type": "code",
   "execution_count": null,
   "metadata": {},
   "outputs": [],
   "source": []
  }
 ],
 "metadata": {
  "hide_input": false,
  "kernelspec": {
   "display_name": "Python [conda:soccerenv]",
   "language": "python",
   "name": "soccerenv"
  },
  "language_info": {
   "codemirror_mode": {
    "name": "ipython",
    "version": 3
   },
   "file_extension": ".py",
   "mimetype": "text/x-python",
   "name": "python",
   "nbconvert_exporter": "python",
   "pygments_lexer": "ipython3",
   "version": "3.7.6"
  },
  "latex_envs": {
   "LaTeX_envs_menu_present": true,
   "autoclose": false,
   "autocomplete": true,
   "bibliofile": "biblio.bib",
   "cite_by": "apalike",
   "current_citInitial": 1,
   "eqLabelWithNumbers": true,
   "eqNumInitial": 1,
   "hotkeys": {
    "equation": "Ctrl-E",
    "itemize": "Ctrl-I"
   },
   "labels_anchors": false,
   "latex_user_defs": false,
   "report_style_numbering": true,
   "user_envs_cfg": false
  }
 },
 "nbformat": 4,
 "nbformat_minor": 4
}
